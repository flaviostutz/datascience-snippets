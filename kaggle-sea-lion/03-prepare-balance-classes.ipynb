{
 "cells": [
  {
   "cell_type": "markdown",
   "metadata": {
    "deletable": true,
    "editable": true
   },
   "source": [
    "# Analyse and balance classes from dataset"
   ]
  },
  {
   "cell_type": "code",
   "execution_count": 1,
   "metadata": {
    "collapsed": false,
    "deletable": true,
    "editable": true,
    "scrolled": false
   },
   "outputs": [],
   "source": [
    "INPUT_DIR='../../input/kaggle-sea-lion/02/'\n",
    "OUTPUT_DIR='../../output/kaggle-sea-lion/03/'\n",
    "\n",
    "INPUT_NAME='lion-patches-0px'\n",
    "\n",
    "SHOW_IMAGES = True\n",
    "MAX_IMAGES = 1\n",
    "\n",
    "#IMAGE_DIMS = (148,148,3)\n",
    "IMAGE_DIMS = (84,84,3)\n",
    "#IMAGE_DIMS = (32,32,3)\n",
    "\n",
    "RANDOM_SEED = 1\n",
    "\n",
    "#%prun print('test')\n",
    "#%pdb"
   ]
  },
  {
   "cell_type": "code",
   "execution_count": 2,
   "metadata": {
    "collapsed": false,
    "deletable": true,
    "editable": true
   },
   "outputs": [
    {
     "name": "stderr",
     "output_type": "stream",
     "text": [
      "Using TensorFlow backend.\n"
     ]
    }
   ],
   "source": [
    "%matplotlib inline\n",
    "import cv2\n",
    "import matplotlib.pyplot as plt\n",
    "import numpy as np\n",
    "import pandas as pd\n",
    "import h5py\n",
    "import os\n",
    "import random\n",
    "import keras\n",
    "from keras import backend as K\n",
    "from keras.preprocessing.image import ImageDataGenerator\n",
    "\n",
    "import modules.logging\n",
    "from modules.logging import logger\n",
    "import modules.lions as lions\n",
    "from modules.utils import Timer\n",
    "import modules.utils as utils\n",
    "\n",
    "random.seed(RANDOM_SEED)"
   ]
  },
  {
   "cell_type": "markdown",
   "metadata": {
    "deletable": true,
    "editable": true
   },
   "source": [
    "## Prepare output dir"
   ]
  },
  {
   "cell_type": "code",
   "execution_count": null,
   "metadata": {
    "collapsed": false,
    "deletable": true,
    "editable": true
   },
   "outputs": [
    {
     "name": "stderr",
     "output_type": "stream",
     "text": [
      "2017-04-11 00:11:56,497 INFO Dir ../../output/kaggle-sea-lion/03/ created\n"
     ]
    }
   ],
   "source": [
    "utils.mkdirs(OUTPUT_DIR, recreate=True)\n",
    "modules.logging.setup_file_logger(OUTPUT_DIR + 'out.log')\n",
    "logger.info('Dir ' + OUTPUT_DIR + ' created')"
   ]
  },
  {
   "cell_type": "markdown",
   "metadata": {
    "deletable": true,
    "editable": true
   },
   "source": [
    "## Rebalance dataset classes"
   ]
  },
  {
   "cell_type": "code",
   "execution_count": null,
   "metadata": {
    "collapsed": false,
    "deletable": true,
    "editable": true,
    "scrolled": false
   },
   "outputs": [
    {
     "name": "stderr",
     "output_type": "stream",
     "text": [
      "2017-04-11 00:11:56,507 INFO loading input dataset ../../input/kaggle-sea-lion/02/lion-patches-0px-84-84.h5\n",
      "2017-04-11 00:11:56,510 INFO creating output dataset ../../output/kaggle-sea-lion/03/lion-patches-0px-balanced-84-84.h5\n",
      "2017-04-11 00:11:56,512 INFO balancing classes\n",
      "2017-04-11 00:11:56,513 INFO > [started] traversing entire dataset in order to extract population classes distribution...\n",
      "2017-04-11 00:11:56,585 INFO > [done]    traversing entire dataset in order to extract population classes distribution (71.788 ms)\n",
      "2017-04-11 00:11:56,587 INFO population distribution\n",
      "2017-04-11 00:11:56,588 INFO 0: 4930.0\n",
      "2017-04-11 00:11:56,590 INFO 1: 3902.0\n",
      "2017-04-11 00:11:56,591 INFO 2: 33128.0\n",
      "2017-04-11 00:11:56,592 INFO 3: 17819.0\n",
      "2017-04-11 00:11:56,593 INFO 4: 14882.0\n",
      "2017-04-11 00:11:56,595 INFO 5: 60401.0\n",
      "2017-04-11 00:11:56,596 INFO targeting items per class: 3902.0\n",
      "2017-04-11 00:11:56,597 INFO augmentation/undersampling ratio per class\n",
      "2017-04-11 00:11:56,599 INFO 0: 0.791480730223\n",
      "2017-04-11 00:11:56,601 INFO 1: 0.0\n",
      "2017-04-11 00:11:56,602 INFO 2: 0.0\n",
      "2017-04-11 00:11:56,603 INFO 3: 0.0\n",
      "2017-04-11 00:11:56,605 INFO 4: 0.0\n",
      "2017-04-11 00:11:56,606 INFO 5: 0.064601579444\n",
      "2017-04-11 00:11:56,608 INFO iterating over input dataset for generating a new balanced dataset using undersampling and/or augmentation\n",
      "2017-04-11 00:11:56,618 INFO > [started] balancing dataset...\n"
     ]
    },
    {
     "name": "stdout",
     "output_type": "stream",
     "text": [
      "96280/135062 [==================>.......] 71% 461s"
     ]
    }
   ],
   "source": [
    "input_h5file_path = INPUT_DIR + utils.dataset_name(INPUT_NAME, IMAGE_DIMS)\n",
    "output_h5file_path = OUTPUT_DIR + utils.dataset_name(INPUT_NAME + '-balanced', IMAGE_DIMS)\n",
    "\n",
    "logger.info('loading input dataset ' + input_h5file_path)\n",
    "input_h5file = h5py.File(input_h5file_path, 'r')\n",
    "with input_h5file:\n",
    "    logger.info('creating output dataset ' + output_h5file_path)\n",
    "    output_h5file = h5py.File(output_h5file_path, 'w')\n",
    "    with output_h5file:\n",
    "        logger.info('balancing classes')\n",
    "        utils.dataset_xy_balance_classes_image(input_h5file, output_h5file, max_augmentation_ratio=0, max_undersampling_ratio=1, classes_distribution_weight=(1,0,0,0,0,1))"
   ]
  },
  {
   "cell_type": "markdown",
   "metadata": {
    "deletable": true,
    "editable": true
   },
   "source": [
    "### Validate dataset"
   ]
  },
  {
   "cell_type": "code",
   "execution_count": null,
   "metadata": {
    "collapsed": false,
    "deletable": true,
    "editable": true
   },
   "outputs": [],
   "source": [
    "logger.info('class distribution BEFORE balancing')\n",
    "with h5py.File(input_h5file_path, 'r') as input_h5:\n",
    "    y = input_h5['Y'][()]\n",
    "    count_classes = utils.class_distribution(y)\n",
    "    logger.info(str(count_classes))"
   ]
  },
  {
   "cell_type": "code",
   "execution_count": null,
   "metadata": {
    "collapsed": false,
    "deletable": true,
    "editable": true,
    "scrolled": false
   },
   "outputs": [],
   "source": [
    "logger.info('class distribution AFTER balancing')\n",
    "with h5py.File(output_h5file_path, 'r') as output_h5:\n",
    "    y = output_h5['Y'][()]\n",
    "    count_classes = utils.class_distribution(y)\n",
    "    logger.info(str(count_classes))"
   ]
  },
  {
   "cell_type": "code",
   "execution_count": null,
   "metadata": {
    "collapsed": false,
    "deletable": true,
    "editable": true,
    "scrolled": false
   },
   "outputs": [],
   "source": [
    "with h5py.File(input_h5file_path, 'r') as input_h5:\n",
    "    utils.show_images(input_h5['X'][0:10], cols=10, is_bgr=True, size=2)"
   ]
  },
  {
   "cell_type": "code",
   "execution_count": null,
   "metadata": {
    "collapsed": false,
    "deletable": true,
    "editable": true
   },
   "outputs": [],
   "source": [
    "with h5py.File(output_h5file_path, 'r') as output_h5:\n",
    "    utils.show_images(output_h5['X'][0:100], image_labels=utils.categorical_to_label(output_h5['Y'][0:100]), cols=10, is_bgr=True, size=2)"
   ]
  },
  {
   "cell_type": "code",
   "execution_count": null,
   "metadata": {
    "collapsed": false,
    "deletable": true,
    "editable": true
   },
   "outputs": [],
   "source": []
  },
  {
   "cell_type": "code",
   "execution_count": null,
   "metadata": {
    "collapsed": true,
    "deletable": true,
    "editable": true
   },
   "outputs": [],
   "source": []
  }
 ],
 "metadata": {
  "kernelspec": {
   "display_name": "Python 3",
   "language": "python",
   "name": "python3"
  },
  "language_info": {
   "codemirror_mode": {
    "name": "ipython",
    "version": 3
   },
   "file_extension": ".py",
   "mimetype": "text/x-python",
   "name": "python",
   "nbconvert_exporter": "python",
   "pygments_lexer": "ipython3",
   "version": "3.4.3"
  }
 },
 "nbformat": 4,
 "nbformat_minor": 2
}
