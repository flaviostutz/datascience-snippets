{
 "cells": [
  {
   "cell_type": "markdown",
   "metadata": {
    "deletable": true,
    "editable": true
   },
   "source": [
    "## Selective Search approach exploration"
   ]
  },
  {
   "cell_type": "code",
   "execution_count": 1,
   "metadata": {
    "collapsed": true
   },
   "outputs": [],
   "source": [
    "IMAGE_DIMS = (32,32,3)\n",
    "INPUT_DIR = '../../input/kaggle-sea-lion/'\n",
    "INPUT_DATASET_NAME = '02/lion-patches-0px'"
   ]
  },
  {
   "cell_type": "code",
   "execution_count": 6,
   "metadata": {
    "collapsed": false,
    "deletable": true,
    "editable": true
   },
   "outputs": [],
   "source": [
    "%matplotlib inline\n",
    "import cv2\n",
    "import numpy as np\n",
    "import pandas as pd\n",
    "import h5py\n",
    "import matplotlib.pyplot as plt\n",
    "import sklearn\n",
    "import os\n",
    "import glob\n",
    "import selectivesearch\n",
    "\n",
    "from modules.logging import logger\n",
    "import modules.utils as utils\n",
    "from modules.utils import Timer\n",
    "import modules.logging\n",
    "import modules.cnn as cnn\n",
    "import modules.lions as lions"
   ]
  },
  {
   "cell_type": "markdown",
   "metadata": {
    "deletable": true,
    "editable": true
   },
   "source": [
    "### Explore known lions image in order to identify key characteristics"
   ]
  },
  {
   "cell_type": "code",
   "execution_count": null,
   "metadata": {
    "collapsed": false,
    "deletable": true,
    "editable": true
   },
   "outputs": [],
   "source": [
    "input_dataset_path = INPUT_DIR + utils.dataset_name(INPUT_DATASET_NAME, IMAGE_DIMS)\n",
    "samples = None\n",
    "with h5py.File(input_dataset_path, 'r') as input_h5:\n",
    "    samples = input_h5['X'][20:40]\n",
    "    utils.show_images(samples, cols=10, is_bgr=True, size=2)"
   ]
  },
  {
   "cell_type": "markdown",
   "metadata": {
    "deletable": true,
    "editable": true
   },
   "source": [
    "## Mask image so only desired lion colors remain"
   ]
  },
  {
   "cell_type": "code",
   "execution_count": null,
   "metadata": {
    "collapsed": false,
    "deletable": true,
    "editable": true
   },
   "outputs": [],
   "source": [
    "img_file = INPUT_DIR + 'Train/0.jpg'\n",
    "im0 = cv2.imread(img_file)\n",
    "im = im0[3000:4000,3000:4000,:]\n",
    "utils.show_image(im, is_bgr=True)"
   ]
  },
  {
   "cell_type": "markdown",
   "metadata": {
    "deletable": true,
    "editable": true
   },
   "source": [
    "### Calculage average histogram for random samples"
   ]
  },
  {
   "cell_type": "code",
   "execution_count": null,
   "metadata": {
    "collapsed": false,
    "deletable": true,
    "editable": true,
    "scrolled": false
   },
   "outputs": [],
   "source": [
    "h5file = h5py.File(input_dataset_path, 'r')\n",
    "xy_generator = utils.BatchGeneratorXYH5(h5file, start_ratio=0, end_ratio=1)\n",
    "samples, _ = utils.dump_xy_to_array(xy_generator.flow(), xy_generator.size, x=True, y=False, dtype='uint8', random_skip=0.5)\n",
    "print(np.shape(samples))\n",
    "samples_hsv = [cv2.cvtColor(s,cv2.COLOR_BGR2HSV) for s in samples]"
   ]
  },
  {
   "cell_type": "markdown",
   "metadata": {
    "deletable": true,
    "editable": true
   },
   "source": [
    "### Perform histogram backpropagation"
   ]
  },
  {
   "cell_type": "code",
   "execution_count": null,
   "metadata": {
    "collapsed": false,
    "deletable": true,
    "editable": true
   },
   "outputs": [],
   "source": [
    "im_hsv = cv2.cvtColor(im,cv2.COLOR_BGR2HSV)\n",
    "\n",
    "# calculating object histogram\n",
    "sample_hist = cv2.calcHist(samples_hsv,[0,1], None, [255,255], [0, IMAGE_DIMS[0], 0, IMAGE_DIMS[1]])\n",
    "# sample_hist = cv2.normalize(sample_hist,0,255,cv2.NORM_MINMAX)\n",
    "\n",
    "plt.hist(sample_hist)\n",
    "\n",
    "#perform back projection of histogram\n",
    "s = np.shape(im_hsv)\n",
    "im_back = cv2.calcBackProject([im_hsv],[0,1],sample_hist,[0,s[0],0,s[1]],1)"
   ]
  },
  {
   "cell_type": "code",
   "execution_count": null,
   "metadata": {
    "collapsed": false,
    "deletable": true,
    "editable": true,
    "scrolled": false
   },
   "outputs": [],
   "source": [
    "# Now convolute with circular disc\n",
    "disc = cv2.getStructuringElement(cv2.MORPH_ELLIPSE,(5,5))\n",
    "im_back_filter = cv2.filter2D(im_back,-1,disc)\n",
    "\n",
    "utils.show_image(im_back)\n",
    "\n",
    "# threshold and binary AND\n",
    "_,mask = cv2.threshold(im_back_filter,50,255,cv2.THRESH_BINARY_INV)\n",
    "\n",
    "mask = cv2.merge((mask,mask,mask))\n",
    "utils.show_image(mask, size=6, is_bgr=True)\n",
    "\n",
    "kernel = np.ones((3,3),np.uint8)\n",
    "mask = cv2.erode(mask,kernel,iterations = 5)\n",
    "mask = cv2.dilate(mask,kernel,iterations = 12)\n",
    "utils.show_image(mask, size=6, is_bgr=True)\n",
    "\n",
    "im_masked = cv2.bitwise_and(im_hsv,mask)\n",
    "im_masked = cv2.cvtColor(im_masked,cv2.COLOR_HSV2BGR)\n",
    "\n",
    "utils.show_image(im, size=6, is_bgr=True)\n",
    "utils.show_image(im_masked, size=14, is_bgr=True)\n"
   ]
  },
  {
   "cell_type": "code",
   "execution_count": null,
   "metadata": {
    "collapsed": false,
    "deletable": true,
    "editable": true
   },
   "outputs": [],
   "source": [
    "# params = cv2.SimpleBlobDetector_Params()\n",
    "# params.minThreshold = 150;\n",
    "# params.maxThreshold = 256;\n",
    "# params.filterByArea = True\n",
    "# params.minArea = 10\n",
    "# params.filterByCircularity = False\n",
    "# params.minCircularity = 0.1\n",
    "# params.filterByConvexity = True\n",
    "# params.minConvexity = 0.5\n",
    "# params.filterByInertia = False\n",
    "# params.minInertiaRatio = 0.5\n",
    "# detector = cv2.SimpleBlobDetector_create(params)\n",
    "# keypoints = detector.detect(im_masked)\n",
    "\n",
    "# im_keypoints = cv2.drawKeypoints(im, keypoints, np.array([]), (0,0,255), cv2.DRAW_MATCHES_FLAGS_DRAW_RICH_KEYPOINTS)\n",
    "# utils.show_image(im_keypoints, size=12, is_bgr=True)"
   ]
  },
  {
   "cell_type": "markdown",
   "metadata": {
    "deletable": true,
    "editable": true
   },
   "source": [
    "### Find candidate areas by Selective Search"
   ]
  },
  {
   "cell_type": "code",
   "execution_count": null,
   "metadata": {
    "collapsed": false,
    "deletable": true,
    "editable": true
   },
   "outputs": [],
   "source": [
    "import skimage\n",
    "regions = skimage.segmentation.felzenszwalb(im, scale=100, sigma=0.5, min_size=10)\n",
    "utils.show_image(regions, size=6)"
   ]
  },
  {
   "cell_type": "code",
   "execution_count": null,
   "metadata": {
    "collapsed": false,
    "deletable": true,
    "editable": true
   },
   "outputs": [],
   "source": [
    "print('selectivesearch')\n",
    "img_lbl, regions = selectivesearch.selective_search(im_masked, scale=200, sigma=0.8, min_size=200)\n",
    "\n",
    "print('filtering')\n",
    "regions2 = []\n",
    "for a in regions:\n",
    "    size = a['size']\n",
    "    r = a['rect']\n",
    "    regions2 = regions2 + [r]"
   ]
  },
  {
   "cell_type": "code",
   "execution_count": null,
   "metadata": {
    "collapsed": false,
    "deletable": true,
    "editable": true
   },
   "outputs": [],
   "source": [
    "print('showing')\n",
    "im2 = im.copy()\n",
    "print(len(regions2))\n",
    "count = 0\n",
    "for r in regions2:\n",
    "    x, y, w, h = r\n",
    "    if(w==0 or h==0):\n",
    "        continue\n",
    "    if(20<w<120 and 20<h<120 and 0.7<(w/h)<1.3):\n",
    "        cv2.rectangle(im2, (x, y), (x+w, y+h), (0,255,0), 2)\n",
    "        count += 1\n",
    "print(count)\n",
    "utils.show_image(im2, is_bgr=True, size=14)"
   ]
  },
  {
   "cell_type": "code",
   "execution_count": null,
   "metadata": {
    "collapsed": true,
    "deletable": true,
    "editable": true
   },
   "outputs": [],
   "source": []
  }
 ],
 "metadata": {
  "kernelspec": {
   "display_name": "Python 3",
   "language": "python",
   "name": "python3"
  },
  "language_info": {
   "codemirror_mode": {
    "name": "ipython",
    "version": 3
   },
   "file_extension": ".py",
   "mimetype": "text/x-python",
   "name": "python",
   "nbconvert_exporter": "python",
   "pygments_lexer": "ipython3",
   "version": "3.4.3"
  }
 },
 "nbformat": 4,
 "nbformat_minor": 0
}
