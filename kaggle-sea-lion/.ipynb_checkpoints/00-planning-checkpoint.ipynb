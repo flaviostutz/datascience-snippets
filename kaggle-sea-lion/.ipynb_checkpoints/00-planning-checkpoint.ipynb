{
 "cells": [
  {
   "cell_type": "markdown",
   "metadata": {
    "deletable": true,
    "editable": true
   },
   "source": [
    "# Approach 1"
   ]
  },
  {
   "cell_type": "markdown",
   "metadata": {
    "deletable": true,
    "editable": true
   },
   "source": [
    "## Overall"
   ]
  },
  {
   "cell_type": "markdown",
   "metadata": {
    "deletable": true,
    "editable": true
   },
   "source": [
    "For each lion's class, extract samples, build a dataset and train a convnet. Then search and count each lion's class findings on target images using a sliding window."
   ]
  },
  {
   "cell_type": "markdown",
   "metadata": {
    "deletable": true,
    "editable": true
   },
   "source": [
    "## Steps"
   ]
  },
  {
   "cell_type": "markdown",
   "metadata": {
    "deletable": true,
    "editable": true
   },
   "source": [
    "1. Explore and validate dataset (dotted samples vs csv counting)\n",
    "2. Export lion samples to dataset\n",
    "  * For each image on training folder:\n",
    "     1. Find dots by class (through dot color)\n",
    "     2. Filter out animals near than 50px from each other (try to avoid noisy images due to overlapping)\n",
    "     3. Export 124x124 images centered on dots to a dataset, labeled with lion's class (1-5) in one hot encoding\n",
    "        * Ideas: ignore lions that are too near each other to minimize data noise?\n",
    "3. Adjust lion classes distribution on dataset\n",
    "4. Train dataset to classify lion classes\n",
    "5. Test: Find and count lion classes on train images and compare to csv class count\n",
    "  1. Generate object candidates (lets avoid a full sliding window for search)\n",
    "  2. For each object candidate, predict for a lion class. If good, count class match. Avoid recount overlappings.\n",
    "  3. Show error count by class and generate RMSE\n",
    "6. Generate submission file"
   ]
  },
  {
   "cell_type": "code",
   "execution_count": null,
   "metadata": {
    "collapsed": true,
    "deletable": true,
    "editable": true
   },
   "outputs": [],
   "source": []
  }
 ],
 "metadata": {
  "kernelspec": {
   "display_name": "Python 3",
   "language": "python",
   "name": "python3"
  },
  "language_info": {
   "codemirror_mode": {
    "name": "ipython",
    "version": 3
   },
   "file_extension": ".py",
   "mimetype": "text/x-python",
   "name": "python",
   "nbconvert_exporter": "python",
   "pygments_lexer": "ipython3",
   "version": "3.4.3"
  }
 },
 "nbformat": 4,
 "nbformat_minor": 2
}
