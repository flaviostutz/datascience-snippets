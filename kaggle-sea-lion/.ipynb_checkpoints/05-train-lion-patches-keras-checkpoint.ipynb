{
 "cells": [
  {
   "cell_type": "markdown",
   "metadata": {
    "deletable": true,
    "editable": true
   },
   "source": [
    "## Train sea lion classifier with a convnet"
   ]
  },
  {
   "cell_type": "code",
   "execution_count": 1,
   "metadata": {
    "collapsed": false,
    "deletable": true,
    "editable": true
   },
   "outputs": [],
   "source": [
    "INPUT_DIR = '../../input/kaggle-sea-lion/02/'\n",
    "OUTPUT_DIR = '../../output/kaggle-sea-lion/05/'\n",
    "#IMAGE_DIMS = (148,148,3)\n",
    "IMAGE_DIMS = (84,84,3)\n",
    "#IMAGE_DIMS = (32,32,3)\n",
    "\n",
    "INPUT_DATASET_NAME = 'lion-patches-30px'\n",
    "SAVE_WEIGHTS_FILE = OUTPUT_DIR + 'last-weights.h5'\n",
    "LOAD_WEIGHTS_FILE = SAVE_WEIGHTS_FILE\n",
    "\n",
    "RECREATE_OUTPUT_DIR = True\n",
    "RUN_TRAINING = True\n",
    "\n",
    "OUTPUT_WEIGHT = (0,0,1,0,0,1)\n",
    "TRAIN_EPOCHS = 3\n",
    "\n",
    "BATCH_SIZE=24"
   ]
  },
  {
   "cell_type": "code",
   "execution_count": 2,
   "metadata": {
    "collapsed": false,
    "deletable": true,
    "editable": true
   },
   "outputs": [
    {
     "name": "stderr",
     "output_type": "stream",
     "text": [
      "Using TensorFlow backend.\n"
     ]
    }
   ],
   "source": [
    "%matplotlib inline\n",
    "import numpy as np\n",
    "import pandas as pd\n",
    "import h5py\n",
    "import matplotlib.pyplot as plt\n",
    "import sklearn\n",
    "import os\n",
    "import glob\n",
    "\n",
    "import keras\n",
    "from keras.preprocessing.image import ImageDataGenerator\n",
    "\n",
    "from modules.logging import logger\n",
    "import modules.utils as utils\n",
    "from modules.utils import Timer\n",
    "import modules.logging\n",
    "import modules.cnn as cnn\n",
    "import modules.lions as lions"
   ]
  },
  {
   "cell_type": "markdown",
   "metadata": {
    "deletable": true,
    "editable": true
   },
   "source": [
    "## Prepare"
   ]
  },
  {
   "cell_type": "markdown",
   "metadata": {
    "deletable": true,
    "editable": true
   },
   "source": [
    "### Prepare output dir"
   ]
  },
  {
   "cell_type": "code",
   "execution_count": 3,
   "metadata": {
    "collapsed": false,
    "deletable": true,
    "editable": true
   },
   "outputs": [
    {
     "name": "stderr",
     "output_type": "stream",
     "text": [
      "2017-04-17 01:48:06,839 INFO Output dirs created\n"
     ]
    }
   ],
   "source": [
    "utils.mkdirs(OUTPUT_DIR, dirs=['tf-logs','weights'], recreate=RECREATE_OUTPUT_DIR)\n",
    "modules.logging.setup_file_logger(OUTPUT_DIR + 'out.log')\n",
    "TF_LOGS_DIR = OUTPUT_DIR + 'tf-logs/'\n",
    "WEIGHTS_DIR = OUTPUT_DIR + 'weights/'\n",
    "input_dataset_path = INPUT_DIR + utils.dataset_name(INPUT_DATASET_NAME, IMAGE_DIMS)\n",
    "temp_file = OUTPUT_DIR + utils.dataset_name(INPUT_DATASET_NAME, IMAGE_DIMS) + '.npy'\n",
    "\n",
    "logger.info('Output dirs created')"
   ]
  },
  {
   "cell_type": "markdown",
   "metadata": {
    "deletable": true,
    "editable": true
   },
   "source": [
    "### Prepare CNN model"
   ]
  },
  {
   "cell_type": "code",
   "execution_count": 4,
   "metadata": {
    "collapsed": false,
    "deletable": true,
    "editable": true,
    "scrolled": false
   },
   "outputs": [
    {
     "name": "stderr",
     "output_type": "stream",
     "text": [
      "2017-04-17 01:48:06,847 INFO Load CNN model\n"
     ]
    }
   ],
   "source": [
    "logger.info('Load CNN model')\n",
    "#model = lions.convnet_alexnet2_lion_keras(IMAGE_DIMS)\n",
    "model = lions.convnet_simple_lion_keras(IMAGE_DIMS)\n",
    "model.compile(loss='categorical_crossentropy', optimizer='adam', metrics=['accuracy'])\n",
    "\n",
    "if(LOAD_WEIGHTS_FILE!=None and os.path.isfile(LOAD_WEIGHTS_FILE)):\n",
    "    logger.info('Loading previous weights...')\n",
    "    model.load_weights(LOAD_WEIGHTS_FILE)"
   ]
  },
  {
   "cell_type": "markdown",
   "metadata": {
    "deletable": true,
    "editable": true
   },
   "source": [
    "### Prepare train, validate and test data flows"
   ]
  },
  {
   "cell_type": "code",
   "execution_count": 5,
   "metadata": {
    "collapsed": false,
    "deletable": true,
    "editable": true,
    "scrolled": false
   },
   "outputs": [
    {
     "name": "stderr",
     "output_type": "stream",
     "text": [
      "2017-04-17 01:48:07,046 INFO Using dataset ../../input/kaggle-sea-lion/02/lion-patches-30px-84-84.h5 as input\n",
      "2017-04-17 01:48:07,049 INFO preparing train data\n",
      "2017-04-17 01:48:07,051 INFO loading input data for class distribution analysis...\n",
      "2017-04-17 01:48:07,052 INFO loading Y from raw dataset\n",
      "2017-04-17 01:48:07,054 INFO > [started] generator dump...\n"
     ]
    },
    {
     "name": "stdout",
     "output_type": "stream",
     "text": [
      "7488/7433"
     ]
    },
    {
     "name": "stderr",
     "output_type": "stream",
     "text": [
      "2017-04-17 01:48:08,541 INFO > [done]    generator dump (1487.132 ms)\n",
      "2017-04-17 01:48:08,542 INFO saving Y to temp file ../../output/kaggle-sea-lion/05/lion-patches-30px-84-84.h5.npy\n",
      "2017-04-17 01:48:08,548 INFO raw sample class distribution\n",
      "2017-04-17 01:48:08,549 INFO 0: 487\n",
      "2017-04-17 01:48:08,551 INFO 1: 326\n",
      "2017-04-17 01:48:08,552 INFO 2: 1883\n",
      "2017-04-17 01:48:08,553 INFO 3: 763\n",
      "2017-04-17 01:48:08,554 INFO 4: 726\n",
      "2017-04-17 01:48:08,556 INFO 5: 3248\n",
      "2017-04-17 01:48:08,557 INFO overall output samples per class: 326\n",
      "2017-04-17 01:48:08,558 INFO augmentation/undersampling ratio per class\n",
      "2017-04-17 01:48:08,560 INFO SETUP FLOW 0 1\n",
      "2017-04-17 01:48:08,561 INFO output distribution\n",
      "2017-04-17 01:48:08,562 INFO 0: 0.0 (0.0)\n",
      "2017-04-17 01:48:08,563 INFO 1: 0.0 (0.0)\n",
      "2017-04-17 01:48:08,565 INFO 2: 0.173127987254 (326.0)\n",
      "2017-04-17 01:48:08,566 INFO 3: 0.0 (0.0)\n",
      "2017-04-17 01:48:08,567 INFO 4: 0.0 (0.0)\n",
      "2017-04-17 01:48:08,569 INFO 5: 0.100369458128 (326.0)\n",
      "2017-04-17 01:48:08,570 INFO output total size 652.0\n",
      "2017-04-17 01:48:08,571 INFO flow output size 652\n",
      "2017-04-17 01:48:08,572 INFO calculating source range according to start/end range of the desired output..\n",
      "2017-04-17 01:48:08,581 INFO source range: 0-6835\n",
      "2017-04-17 01:48:08,582 INFO output range: 0-652\n",
      "2017-04-17 01:48:08,584 INFO SETUP FLOW 0 0.2\n",
      "2017-04-17 01:48:08,585 INFO output distribution\n",
      "2017-04-17 01:48:08,586 INFO 0: 0.0 (0.0)\n",
      "2017-04-17 01:48:08,588 INFO 1: 0.0 (0.0)\n",
      "2017-04-17 01:48:08,589 INFO 2: 0.173127987254 (65.2)\n",
      "2017-04-17 01:48:08,590 INFO 3: 0.0 (0.0)\n",
      "2017-04-17 01:48:08,591 INFO 4: 0.0 (0.0)\n",
      "2017-04-17 01:48:08,593 INFO 5: 0.100369458128 (65.2)\n",
      "2017-04-17 01:48:08,594 INFO output total size 652.0\n",
      "2017-04-17 01:48:08,595 INFO flow output size 130\n",
      "2017-04-17 01:48:08,596 INFO calculating source range according to start/end range of the desired output..\n",
      "2017-04-17 01:48:08,605 INFO source range: 0-1518\n",
      "2017-04-17 01:48:08,607 INFO output range: 0-130\n",
      "2017-04-17 01:48:08,608 INFO train size=130 batches=3\n",
      "2017-04-17 01:48:08,609 INFO preparing valid data\n",
      "2017-04-17 01:48:08,611 INFO loading input data for class distribution analysis...\n",
      "2017-04-17 01:48:08,613 INFO loading Y from temporary file ../../output/kaggle-sea-lion/05/lion-patches-30px-84-84.h5.npy\n",
      "/notebooks/datascience-snippets/kaggle-sea-lion/modules/utils.py:98: FutureWarning: comparison to `None` will result in an elementwise object comparison in the future.\n",
      "  if(Y_onehot==None):\n",
      "2017-04-17 01:48:08,620 INFO raw sample class distribution\n",
      "2017-04-17 01:48:08,621 INFO 0: 487\n",
      "2017-04-17 01:48:08,622 INFO 1: 326\n",
      "2017-04-17 01:48:08,624 INFO 2: 1883\n",
      "2017-04-17 01:48:08,625 INFO 3: 763\n",
      "2017-04-17 01:48:08,627 INFO 4: 726\n",
      "2017-04-17 01:48:08,628 INFO 5: 3248\n",
      "2017-04-17 01:48:08,629 INFO overall output samples per class: 326\n",
      "2017-04-17 01:48:08,631 INFO augmentation/undersampling ratio per class\n",
      "2017-04-17 01:48:08,632 INFO SETUP FLOW 0 1\n",
      "2017-04-17 01:48:08,634 INFO output distribution\n",
      "2017-04-17 01:48:08,635 INFO 0: 0.0 (0.0)\n",
      "2017-04-17 01:48:08,637 INFO 1: 0.0 (0.0)\n",
      "2017-04-17 01:48:08,639 INFO 2: 0.173127987254 (326.0)\n",
      "2017-04-17 01:48:08,640 INFO 3: 0.0 (0.0)\n",
      "2017-04-17 01:48:08,641 INFO 4: 0.0 (0.0)\n",
      "2017-04-17 01:48:08,643 INFO 5: 0.100369458128 (326.0)\n",
      "2017-04-17 01:48:08,644 INFO output total size 652.0\n",
      "2017-04-17 01:48:08,646 INFO flow output size 652\n",
      "2017-04-17 01:48:08,647 INFO calculating source range according to start/end range of the desired output..\n",
      "2017-04-17 01:48:08,657 INFO source range: 0-7218\n",
      "2017-04-17 01:48:08,658 INFO output range: 0-652\n",
      "2017-04-17 01:48:08,660 INFO SETUP FLOW 0.7 0.8\n",
      "2017-04-17 01:48:08,661 INFO output distribution\n",
      "2017-04-17 01:48:08,662 INFO 0: 0.0 (0.0)\n",
      "2017-04-17 01:48:08,664 INFO 1: 0.0 (0.0)\n",
      "2017-04-17 01:48:08,665 INFO 2: 0.173127987254 (32.6)\n",
      "2017-04-17 01:48:08,666 INFO 3: 0.0 (0.0)\n",
      "2017-04-17 01:48:08,668 INFO 4: 0.0 (0.0)\n",
      "2017-04-17 01:48:08,669 INFO 5: 0.100369458128 (32.6)\n",
      "2017-04-17 01:48:08,671 INFO output total size 652.0\n",
      "2017-04-17 01:48:08,672 INFO flow output size 65\n",
      "2017-04-17 01:48:08,673 INFO calculating source range according to start/end range of the desired output..\n",
      "2017-04-17 01:48:08,682 INFO source range: 5254-6157\n",
      "2017-04-17 01:48:08,683 INFO output range: 456-521\n",
      "2017-04-17 01:48:08,685 INFO valid size=65 batches=2\n",
      "2017-04-17 01:48:08,686 INFO preparing test data\n",
      "2017-04-17 01:48:08,688 INFO loading input data for class distribution analysis...\n",
      "2017-04-17 01:48:08,689 INFO loading Y from temporary file ../../output/kaggle-sea-lion/05/lion-patches-30px-84-84.h5.npy\n",
      "2017-04-17 01:48:08,695 INFO raw sample class distribution\n",
      "2017-04-17 01:48:08,696 INFO 0: 487\n",
      "2017-04-17 01:48:08,698 INFO 1: 326\n",
      "2017-04-17 01:48:08,699 INFO 2: 1883\n",
      "2017-04-17 01:48:08,701 INFO 3: 763\n",
      "2017-04-17 01:48:08,702 INFO 4: 726\n",
      "2017-04-17 01:48:08,704 INFO 5: 3248\n",
      "2017-04-17 01:48:08,705 INFO overall output samples per class: 326\n",
      "2017-04-17 01:48:08,706 INFO augmentation/undersampling ratio per class\n",
      "2017-04-17 01:48:08,708 INFO SETUP FLOW 0 1\n",
      "2017-04-17 01:48:08,709 INFO output distribution\n",
      "2017-04-17 01:48:08,711 INFO 0: 0.0 (0.0)\n",
      "2017-04-17 01:48:08,712 INFO 1: 0.0 (0.0)\n",
      "2017-04-17 01:48:08,714 INFO 2: 0.173127987254 (326.0)\n",
      "2017-04-17 01:48:08,715 INFO 3: 0.0 (0.0)\n",
      "2017-04-17 01:48:08,716 INFO 4: 0.0 (0.0)\n",
      "2017-04-17 01:48:08,718 INFO 5: 0.100369458128 (326.0)\n",
      "2017-04-17 01:48:08,720 INFO output total size 652.0\n",
      "2017-04-17 01:48:08,721 INFO flow output size 652\n",
      "2017-04-17 01:48:08,723 INFO calculating source range according to start/end range of the desired output..\n",
      "2017-04-17 01:48:08,732 INFO source range: 0-652\n",
      "2017-04-17 01:48:08,733 INFO output range: 0-652\n",
      "2017-04-17 01:48:08,734 INFO SETUP FLOW 0.8 0.9\n",
      "2017-04-17 01:48:08,736 INFO output distribution\n",
      "2017-04-17 01:48:08,737 INFO 0: 0.0 (0.0)\n",
      "2017-04-17 01:48:08,739 INFO 1: 0.0 (0.0)\n",
      "2017-04-17 01:48:08,741 INFO 2: 0.173127987254 (32.6)\n",
      "2017-04-17 01:48:08,742 INFO 3: 0.0 (0.0)\n",
      "2017-04-17 01:48:08,744 INFO 4: 0.0 (0.0)\n",
      "2017-04-17 01:48:08,745 INFO 5: 0.100369458128 (32.6)\n",
      "2017-04-17 01:48:08,747 INFO output total size 652.0\n",
      "2017-04-17 01:48:08,749 INFO flow output size 65\n",
      "2017-04-17 01:48:08,750 INFO calculating source range according to start/end range of the desired output..\n",
      "2017-04-17 01:48:08,759 INFO source range: 6046-6860\n",
      "2017-04-17 01:48:08,762 INFO output range: 521-586\n",
      "2017-04-17 01:48:08,763 INFO test size=65 batches=2\n"
     ]
    }
   ],
   "source": [
    "logger.info('Using dataset ' + input_dataset_path + ' as input')\n",
    "h5file = h5py.File(input_dataset_path, 'r')\n",
    "\n",
    "image_randomize_generator = ImageDataGenerator(\n",
    "        featurewise_center=True,\n",
    "        samplewise_center=False,\n",
    "        featurewise_std_normalization=True,\n",
    "        samplewise_std_normalization=False,\n",
    "        zca_whitening=False,\n",
    "        rotation_range=360,\n",
    "        width_shift_range=0,\n",
    "        height_shift_range=0,\n",
    "        horizontal_flip=False,\n",
    "        vertical_flip=False)\n",
    "\n",
    "logger.info('preparing train data')\n",
    "train_batch_generator = utils.BatchGeneratorXYH5(h5file, start_ratio=0, end_ratio=0.1)\n",
    "train_balance_generator = utils.ClassBalancerGeneratorXY(train_batch_generator,\n",
    "                                                         image_augmentation=image_randomize_generator,\n",
    "                                                         output_weight=OUTPUT_WEIGHT,\n",
    "                                                         max_augmentation_ratio=0,\n",
    "                                                         max_undersampling_ratio=1,\n",
    "                                                         enforce_max_ratios=False,\n",
    "                                                         tmp_file=temp_file)\n",
    "train_balance_generator.setup_flow(0, 0.2)\n",
    "train_generator = utils.image_augmentation_xy(train_balance_generator.flow(), image_randomize_generator)\n",
    "logger.info('train size=' + str(train_balance_generator.size) + ' batches=' + str(train_balance_generator.nr_batches))\n",
    "\n",
    "\n",
    "logger.info('preparing valid data')\n",
    "valid_batch_generator = utils.BatchGeneratorXYH5(h5file, start_ratio=0, end_ratio=0.1)\n",
    "valid_balance_generator = utils.ClassBalancerGeneratorXY(valid_batch_generator,\n",
    "                                                         image_augmentation=image_randomize_generator,\n",
    "                                                         output_weight=OUTPUT_WEIGHT,\n",
    "                                                         max_augmentation_ratio=0,\n",
    "                                                         max_undersampling_ratio=1,\n",
    "                                                         enforce_max_ratios=False,\n",
    "                                                         tmp_file=temp_file)\n",
    "valid_balance_generator.setup_flow(0.7, 0.8)\n",
    "logger.info('valid size=' + str(valid_balance_generator.size) + ' batches=' + str(valid_balance_generator.nr_batches))\n",
    "\n",
    "\n",
    "\n",
    "logger.info('preparing test data')\n",
    "test_batch_generator = utils.BatchGeneratorXYH5(h5file, start_ratio=0, end_ratio=0.1)\n",
    "test_balance_generator = utils.ClassBalancerGeneratorXY(test_batch_generator,\n",
    "                                                         image_augmentation=image_randomize_generator,\n",
    "                                                         output_weight=OUTPUT_WEIGHT,\n",
    "                                                         max_augmentation_ratio=0,\n",
    "                                                         max_undersampling_ratio=1,\n",
    "                                                         enforce_max_ratios=False,\n",
    "                                                         tmp_file=temp_file)\n",
    "test_balance_generator.setup_flow(0.8, 0.9)\n",
    "logger.info('test size=' + str(test_balance_generator.size) + ' batches=' + str(test_balance_generator.nr_batches))\n",
    "\n",
    "#FIXME when using 1 on end ratio size and nr_batches gets negative (h5 batch generator, not balancer...)"
   ]
  },
  {
   "cell_type": "code",
   "execution_count": 6,
   "metadata": {
    "collapsed": false,
    "deletable": true,
    "editable": true,
    "scrolled": false
   },
   "outputs": [
    {
     "name": "stderr",
     "output_type": "stream",
     "text": [
      "2017-04-17 01:48:08,778 INFO BALANCE GENERATOR DATA\n",
      "2017-04-17 01:48:08,780 INFO > [started] generator dump...\n",
      "2017-04-17 01:48:08,781 INFO starting new flow...\n",
      "/usr/local/lib/python3.4/dist-packages/Keras-2.0.2-py3.4.egg/keras/preprocessing/image.py:500: UserWarning: This ImageDataGenerator specifies `featurewise_center`, but it hasn'tbeen fit on any training data. Fit it first by calling `.fit(numpy_data)`.\n",
      "  warnings.warn('This ImageDataGenerator specifies '\n",
      "/usr/local/lib/python3.4/dist-packages/Keras-2.0.2-py3.4.egg/keras/preprocessing/image.py:508: UserWarning: This ImageDataGenerator specifies `featurewise_std_normalization`, but it hasn'tbeen fit on any training data. Fit it first by calling `.fit(numpy_data)`.\n",
      "  warnings.warn('This ImageDataGenerator specifies '\n"
     ]
    },
    {
     "name": "stdout",
     "output_type": "stream",
     "text": [
      "192/130"
     ]
    },
    {
     "name": "stderr",
     "output_type": "stream",
     "text": [
      "2017-04-17 01:48:09,503 INFO > [done]    generator dump (723.419 ms)\n",
      "2017-04-17 01:48:09,505 INFO y (130, 6)\n",
      "2017-04-17 01:48:09,508 INFO [ 0  0 83  0  0 47]\n"
     ]
    }
   ],
   "source": [
    "#logger.info('INPUT DATASET DATA')\n",
    "#dataset_path = INPUT_DIR + utils.dataset_name(INPUT_DATASET_NAME, IMAGE_DIMS)\n",
    "#with h5py.File(input_dataset_path, 'r') as h5file:\n",
    "#    logger.info('generator')\n",
    "#    input_generator = utils.BatchGeneratorXYH5(h5file, start_ratio=0.001, end_ratio=0.0012, batch_size=64)\n",
    "#    X, Y = utils.dump_xy_to_array(input_generator.flow(), input_generator.size, x=True, y=True)\n",
    "#    utils.show_images(X, image_labels=utils.onehot_to_label(Y), group_by_label=False, cols=10, is_bgr=True, size=2)\n",
    "#\n",
    "#    logger.info('x ' + str(np.shape(X)))\n",
    "#    logger.info('y ' + str(np.shape(Y)))\n",
    "#    logger.info(str(utils.class_distribution(Y)))\n",
    "\n",
    "logger.info('BALANCE GENERATOR DATA')\n",
    "dataset_path = INPUT_DIR + utils.dataset_name(INPUT_DATASET_NAME, IMAGE_DIMS)\n",
    "X_train, Y_train = utils.dump_xy_to_array(train_generator, train_balance_generator.size, x=False, y=True)\n",
    "#logger.info('x ' + str(np.shape(X_train)))\n",
    "logger.info('y ' + str(np.shape(Y_train)))\n",
    "logger.info(str(utils.class_distribution(Y_train)))\n",
    "\n",
    "#for xs,ys in train_balance_generator.flow():\n",
    "#    utils.show_images(xs, image_labels=utils.onehot_to_label(ys), cols=10, is_bgr=True, size=2)\n",
    "#    break"
   ]
  },
  {
   "cell_type": "markdown",
   "metadata": {
    "deletable": true,
    "editable": true
   },
   "source": [
    "## Train model"
   ]
  },
  {
   "cell_type": "code",
   "execution_count": 7,
   "metadata": {
    "collapsed": false,
    "deletable": true,
    "editable": true,
    "scrolled": false
   },
   "outputs": [
    {
     "name": "stderr",
     "output_type": "stream",
     "text": [
      "2017-04-17 01:48:09,517 INFO Starting CNN training...\n",
      "/usr/local/lib/python3.4/dist-packages/ipykernel/__main__.py:9: UserWarning: Update your `fit_generator` call to the Keras 2 API: `fit_generator(<generator..., steps_per_epoch=3, callbacks=None, validation_steps=2, epochs=3, validation_data=<generator..., verbose=1)`\n"
     ]
    },
    {
     "name": "stdout",
     "output_type": "stream",
     "text": [
      "Epoch 1/3\n"
     ]
    },
    {
     "name": "stderr",
     "output_type": "stream",
     "text": [
      "/usr/local/lib/python3.4/dist-packages/Keras-2.0.2-py3.4.egg/keras/preprocessing/image.py:500: UserWarning: This ImageDataGenerator specifies `featurewise_center`, but it hasn'tbeen fit on any training data. Fit it first by calling `.fit(numpy_data)`.\n",
      "  warnings.warn('This ImageDataGenerator specifies '\n",
      "/usr/local/lib/python3.4/dist-packages/Keras-2.0.2-py3.4.egg/keras/preprocessing/image.py:508: UserWarning: This ImageDataGenerator specifies `featurewise_std_normalization`, but it hasn'tbeen fit on any training data. Fit it first by calling `.fit(numpy_data)`.\n",
      "  warnings.warn('This ImageDataGenerator specifies '\n"
     ]
    },
    {
     "name": "stdout",
     "output_type": "stream",
     "text": [
      "2/3 [===================>..........] - ETA: 3s - loss: 1.5733 - acc: 0.2812\b\b\b\b\b\b\b\b\b\b\b\b\b\b\b\b\b\b\b\b\b\b\b\b\b\b\b\b\b\b\b\b\b\b\b\b\b\b\b\b\b\b\b\b\b\b\b\b\b\b\b\b\b\b\b\b\b\b\b\b\b\b\b\b\b\b\b\b\b\b\b\b\b\b\b"
     ]
    },
    {
     "name": "stderr",
     "output_type": "stream",
     "text": [
      "2017-04-17 01:48:18,567 INFO starting new flow...\n"
     ]
    },
    {
     "name": "stdout",
     "output_type": "stream",
     "text": [
      "3/3 [==============================] - 10s - loss: 1.4260 - acc: 0.3750 - val_loss: 0.9921 - val_acc: 0.3516\n",
      "Epoch 2/3\n",
      "3/3 [==============================] - 9s - loss: 0.7415 - acc: 0.6094 - val_loss: 0.7785 - val_acc: 0.6875\b\b\b\b\b\b\b\b\b\b\b\b\b\b\b\b\b\b\b\b\b\b\b\b\b\b\b\b\b\b\b\b\b\b\b\b\b\b\b\b\b\b\b\b\b\b\b\b\b\b\b\b\b\b\b\b\b\b\b\b\b\b\b\b\b\b\b\b\b\b\b\b\b\b\b\b\b\b\b\b\b\b\b\b\b\b\b\b\b\b\b\b\b\b\b\b\b\b\b\b\b\b\b\b\b\b\b\b\b\b\b\b\b\b\b\b\b\b\n",
      "Epoch 3/3\n",
      "3/3 [==============================] - 9s - loss: 0.8273 - acc: 0.4792 - val_loss: 0.9164 - val_acc: 0.2734\b\b\b\b\b\b\b\b\b\b\b\b\b\b\b\b\b\b\b\b\b\b\b\b\b\b\b\b\b\b\b\b\b\b\b\b\b\b\b\b\b\b\b\b\b\b\b\b\b\b\b\b\b\b\b\b\b\b\b\b\b\b\b\b\b\b\b\b\b\b\b\b\b\b\b\b\b\b\b\b\b\b\b\b\b\b\b\b\b\b\b\b\b\b\b\b\b\b\b\b\b\b\b\b\b\b\b\b\b\b\b\b\b\b\b\b\b\b"
     ]
    },
    {
     "name": "stderr",
     "output_type": "stream",
     "text": [
      "2017-04-17 01:48:39,443 INFO Saving last weights...\n"
     ]
    },
    {
     "name": "stdout",
     "output_type": "stream",
     "text": [
      "\n"
     ]
    }
   ],
   "source": [
    "if(RUN_TRAINING):\n",
    "    logger.info('Starting CNN training...')\n",
    "    history = model.fit_generator(train_generator,\n",
    "                  steps_per_epoch = train_balance_generator.nr_batches,\n",
    "                  nb_epoch = TRAIN_EPOCHS,\n",
    "                  callbacks = cnn.get_callbacks_keras(model, WEIGHTS_DIR, TF_LOGS_DIR),\n",
    "                  validation_data = valid_balance_generator.flow(), \n",
    "                  validation_steps = valid_balance_generator.nr_batches,\n",
    "                  verbose = 1)\n",
    "\n",
    "    if(SAVE_WEIGHTS_FILE!=None):\n",
    "        logger.info('Saving last weights...')\n",
    "        model.save_weights(SAVE_WEIGHTS_FILE)"
   ]
  },
  {
   "cell_type": "markdown",
   "metadata": {
    "deletable": true,
    "editable": true
   },
   "source": [
    "### Epoch accuracy/loss"
   ]
  },
  {
   "cell_type": "code",
   "execution_count": 8,
   "metadata": {
    "collapsed": false,
    "deletable": true,
    "editable": true
   },
   "outputs": [
    {
     "name": "stderr",
     "output_type": "stream",
     "text": [
      "2017-04-17 01:48:39,504 INFO Training info\n"
     ]
    },
    {
     "data": {
      "image/png": "[encoded data removed]",
      "text/plain": [
       "<matplotlib.figure.Figure at 0x7f711e8392b0>"
      ]
     },
     "metadata": {},
     "output_type": "display_data"
    }
   ],
   "source": [
    "if(RUN_TRAINING):\n",
    "    logger.info('Training info')\n",
    "    cnn.show_training_info_keras(history)"
   ]
  },
  {
   "cell_type": "markdown",
   "metadata": {
    "deletable": true,
    "editable": true
   },
   "source": [
    "### Confusion matrix"
   ]
  },
  {
   "cell_type": "code",
   "execution_count": 9,
   "metadata": {
    "collapsed": false,
    "deletable": true,
    "editable": true,
    "scrolled": false
   },
   "outputs": [
    {
     "name": "stderr",
     "output_type": "stream",
     "text": [
      "2017-04-17 01:48:39,897 INFO Evaluating model performance (65 samples)...\n",
      "2017-04-17 01:48:39,900 INFO starting new flow...\n",
      "2017-04-17 01:48:42,224 INFO Accuracy: 0.359375 - Loss: 0.837044000626\n",
      "2017-04-17 01:48:42,225 INFO Predicting Y for detailed analysis...\n",
      "/notebooks/datascience-snippets/kaggle-sea-lion/modules/cnn.py:66: FutureWarning: comparison to `None` will result in an elementwise object comparison in the future.\n",
      "  if(self.y_ds==None):\n",
      "2017-04-17 01:48:45,603 INFO Number of test samples: 65\n",
      "2017-04-17 01:48:45,605 INFO Kappa score: 0.0 (-1 bad; 0 just luck; 1 great)\n",
      "/usr/local/lib/python3.4/dist-packages/sklearn/metrics/classification.py:1113: UndefinedMetricWarning: Precision and F-score are ill-defined and being set to 0.0 in labels with no predicted samples.\n",
      "  'precision', 'predicted', average, warn_for)\n",
      "2017-04-17 01:48:45,609 INFO \n",
      "             precision    recall  f1-score   support\n",
      "\n",
      "          0       0.55      1.00      0.71        36\n",
      "          1       0.00      0.00      0.00        29\n",
      "\n",
      "avg / total       0.31      0.55      0.39        65\n",
      "\n",
      "/usr/local/lib/python3.4/dist-packages/sklearn/metrics/classification.py:248: FutureWarning: elementwise comparison failed; returning scalar instead, but in the future will perform elementwise comparison\n",
      "  if np.all([l not in y_true for l in labels]):\n"
     ]
    },
    {
     "ename": "ValueError",
     "evalue": "At least one label specified must be in y_true",
     "output_type": "error",
     "traceback": [
      "\u001b[0;31m---------------------------------------------------------------------------\u001b[0m",
      "\u001b[0;31mValueError\u001b[0m                                Traceback (most recent call last)",
      "\u001b[0;32m<ipython-input-9-b3be23bfe890>\u001b[0m in \u001b[0;36m<module>\u001b[0;34m()\u001b[0m\n\u001b[1;32m      3\u001b[0m                        \u001b[0mtest_balance_generator\u001b[0m\u001b[0;34m.\u001b[0m\u001b[0msize\u001b[0m\u001b[0;34m,\u001b[0m\u001b[0;34m\u001b[0m\u001b[0m\n\u001b[1;32m      4\u001b[0m                        \u001b[0mmodel\u001b[0m\u001b[0;34m,\u001b[0m\u001b[0;34m\u001b[0m\u001b[0m\n\u001b[0;32m----> 5\u001b[0;31m                        class_labels=[0,1,2,3,4,5])\n\u001b[0m",
      "\u001b[0;32m/notebooks/datascience-snippets/kaggle-sea-lion/modules/cnn.py\u001b[0m in \u001b[0;36mevaluate_dataset_keras\u001b[0;34m(xy_generator, nr_batches, nr_samples, model, detailed, class_labels)\u001b[0m\n\u001b[1;32m    104\u001b[0m             \u001b[0mlogger\u001b[0m\u001b[0;34m.\u001b[0m\u001b[0minfo\u001b[0m\u001b[0;34m(\u001b[0m\u001b[0;34m'\\n'\u001b[0m \u001b[0;34m+\u001b[0m \u001b[0mmetrics\u001b[0m\u001b[0;34m.\u001b[0m\u001b[0mclassification_report\u001b[0m\u001b[0;34m(\u001b[0m\u001b[0mY\u001b[0m\u001b[0;34m,\u001b[0m \u001b[0mY_pred\u001b[0m\u001b[0;34m,\u001b[0m \u001b[0mtarget_names\u001b[0m\u001b[0;34m=\u001b[0m\u001b[0mclass_labels\u001b[0m\u001b[0;34m)\u001b[0m\u001b[0;34m)\u001b[0m\u001b[0;34m\u001b[0m\u001b[0m\n\u001b[1;32m    105\u001b[0m \u001b[0;34m\u001b[0m\u001b[0m\n\u001b[0;32m--> 106\u001b[0;31m             \u001b[0mcm\u001b[0m \u001b[0;34m=\u001b[0m \u001b[0mmetrics\u001b[0m\u001b[0;34m.\u001b[0m\u001b[0mconfusion_matrix\u001b[0m\u001b[0;34m(\u001b[0m\u001b[0mY\u001b[0m\u001b[0;34m,\u001b[0m \u001b[0mY_pred\u001b[0m\u001b[0;34m,\u001b[0m \u001b[0mclass_labels\u001b[0m\u001b[0;34m)\u001b[0m\u001b[0;34m\u001b[0m\u001b[0m\n\u001b[0m\u001b[1;32m    107\u001b[0m \u001b[0;34m\u001b[0m\u001b[0m\n\u001b[1;32m    108\u001b[0m             \u001b[0mlogger\u001b[0m\u001b[0;34m.\u001b[0m\u001b[0minfo\u001b[0m\u001b[0;34m(\u001b[0m\u001b[0;34m'Accuracy per class:'\u001b[0m\u001b[0;34m)\u001b[0m\u001b[0;34m\u001b[0m\u001b[0m\n",
      "\u001b[0;32m/usr/local/lib/python3.4/dist-packages/sklearn/metrics/classification.py\u001b[0m in \u001b[0;36mconfusion_matrix\u001b[0;34m(y_true, y_pred, labels, sample_weight)\u001b[0m\n\u001b[1;32m    247\u001b[0m         \u001b[0mlabels\u001b[0m \u001b[0;34m=\u001b[0m \u001b[0mnp\u001b[0m\u001b[0;34m.\u001b[0m\u001b[0masarray\u001b[0m\u001b[0;34m(\u001b[0m\u001b[0mlabels\u001b[0m\u001b[0;34m)\u001b[0m\u001b[0;34m\u001b[0m\u001b[0m\n\u001b[1;32m    248\u001b[0m         \u001b[0;32mif\u001b[0m \u001b[0mnp\u001b[0m\u001b[0;34m.\u001b[0m\u001b[0mall\u001b[0m\u001b[0;34m(\u001b[0m\u001b[0;34m[\u001b[0m\u001b[0ml\u001b[0m \u001b[0;32mnot\u001b[0m \u001b[0;32min\u001b[0m \u001b[0my_true\u001b[0m \u001b[0;32mfor\u001b[0m \u001b[0ml\u001b[0m \u001b[0;32min\u001b[0m \u001b[0mlabels\u001b[0m\u001b[0;34m]\u001b[0m\u001b[0;34m)\u001b[0m\u001b[0;34m:\u001b[0m\u001b[0;34m\u001b[0m\u001b[0m\n\u001b[0;32m--> 249\u001b[0;31m             \u001b[0;32mraise\u001b[0m \u001b[0mValueError\u001b[0m\u001b[0;34m(\u001b[0m\u001b[0;34m\"At least one label specified must be in y_true\"\u001b[0m\u001b[0;34m)\u001b[0m\u001b[0;34m\u001b[0m\u001b[0m\n\u001b[0m\u001b[1;32m    250\u001b[0m \u001b[0;34m\u001b[0m\u001b[0m\n\u001b[1;32m    251\u001b[0m     \u001b[0;32mif\u001b[0m \u001b[0msample_weight\u001b[0m \u001b[0;32mis\u001b[0m \u001b[0;32mNone\u001b[0m\u001b[0;34m:\u001b[0m\u001b[0;34m\u001b[0m\u001b[0m\n",
      "\u001b[0;31mValueError\u001b[0m: At least one label specified must be in y_true"
     ]
    }
   ],
   "source": [
    "cnn.evaluate_dataset_keras(test_balance_generator.flow(), \n",
    "                       test_balance_generator.nr_batches, \n",
    "                       test_balance_generator.size, \n",
    "                       model, \n",
    "                       class_labels=[0,1,2,3,4,5])"
   ]
  },
  {
   "cell_type": "code",
   "execution_count": null,
   "metadata": {
    "collapsed": false,
    "deletable": true,
    "editable": true,
    "scrolled": false
   },
   "outputs": [],
   "source": [
    "a = test_balance_generator.flow()\n",
    "cnn.show_predictions(a, 10, model)\n"
   ]
  },
  {
   "cell_type": "code",
   "execution_count": null,
   "metadata": {
    "collapsed": false,
    "deletable": true,
    "editable": true,
    "scrolled": false
   },
   "outputs": [],
   "source": [
    "cm = np.array([[1,2],\n",
    "               [3,4]])"
   ]
  },
  {
   "cell_type": "code",
   "execution_count": null,
   "metadata": {
    "collapsed": false,
    "deletable": true,
    "editable": true
   },
   "outputs": [],
   "source": [
    "np.sum(cm, axis=0)"
   ]
  },
  {
   "cell_type": "code",
   "execution_count": null,
   "metadata": {
    "collapsed": false,
    "deletable": true,
    "editable": true
   },
   "outputs": [],
   "source": [
    "acc = cm.diagonal()/np.sum(cm, axis=0)\n",
    "class_labels = range(len(cm))\n",
    "acc_class = cm.diagonal()/np.sum(cm, axis=0)\n",
    "for i,acc in enumerate(acc_class):\n",
    "    logger.info(str('{}: {:.1f}%'.format(class_labels[i], acc_class[i]*100)))\n"
   ]
  },
  {
   "cell_type": "code",
   "execution_count": null,
   "metadata": {
    "collapsed": false
   },
   "outputs": [],
   "source": [
    "class_labels = range(5)\n",
    "class_labels = [str(s) for s in class_labels]\n",
    "print(class_labels)"
   ]
  },
  {
   "cell_type": "code",
   "execution_count": null,
   "metadata": {
    "collapsed": true
   },
   "outputs": [],
   "source": []
  }
 ],
 "metadata": {
  "kernelspec": {
   "display_name": "Python 3",
   "language": "python",
   "name": "python3"
  },
  "language_info": {
   "codemirror_mode": {
    "name": "ipython",
    "version": 3
   },
   "file_extension": ".py",
   "mimetype": "text/x-python",
   "name": "python",
   "nbconvert_exporter": "python",
   "pygments_lexer": "ipython3",
   "version": "3.4.3"
  }
 },
 "nbformat": 4,
 "nbformat_minor": 0
}
