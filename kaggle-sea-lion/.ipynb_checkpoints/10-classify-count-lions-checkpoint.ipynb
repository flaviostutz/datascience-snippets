{
 "cells": [
  {
   "cell_type": "markdown",
   "metadata": {
    "deletable": true,
    "editable": true
   },
   "source": [
    "## Classify and count sea lions from image"
   ]
  },
  {
   "cell_type": "code",
   "execution_count": 1,
   "metadata": {
    "collapsed": true,
    "deletable": true,
    "editable": true
   },
   "outputs": [],
   "source": [
    "INPUT_DIR = '../../input/kaggle-sea-lion/'\n",
    "OUTPUT_DIR = '../../output/kaggle-sea-lion/10/'\n",
    "\n",
    "IMAGE_DIMS = (84,84,3)\n",
    "LOAD_WEIGHTS_FILE = INPUT_DIR + '05/weights-0.72-simple.h5'\n",
    "LOAD_MODEL_FILE = None"
   ]
  },
  {
   "cell_type": "code",
   "execution_count": 2,
   "metadata": {
    "collapsed": false,
    "deletable": true,
    "editable": true
   },
   "outputs": [
    {
     "name": "stderr",
     "output_type": "stream",
     "text": [
      "Using TensorFlow backend.\n"
     ]
    }
   ],
   "source": [
    "%matplotlib inline\n",
    "import numpy as np\n",
    "import pandas as pd\n",
    "import h5py\n",
    "import matplotlib.pyplot as plt\n",
    "import sklearn\n",
    "import os\n",
    "import glob\n",
    "import cv2\n",
    "\n",
    "from modules.logging import logger\n",
    "import modules.utils as utils\n",
    "from modules.utils import Timer\n",
    "import modules.logging\n",
    "import modules.cnn as cnn\n",
    "import modules.lions as lions\n",
    "import modules.objectdetect as objectdetect"
   ]
  },
  {
   "cell_type": "markdown",
   "metadata": {
    "deletable": true,
    "editable": true
   },
   "source": [
    "### Prepare output dir"
   ]
  },
  {
   "cell_type": "code",
   "execution_count": 3,
   "metadata": {
    "collapsed": false,
    "deletable": true,
    "editable": true
   },
   "outputs": [
    {
     "name": "stderr",
     "output_type": "stream",
     "text": [
      "2017-05-23 07:55:13,417 INFO Dir ../../output/kaggle-sea-lion/10/ created\n"
     ]
    }
   ],
   "source": [
    "utils.mkdirs(OUTPUT_DIR, recreate=True)\n",
    "modules.logging.setup_file_logger(OUTPUT_DIR + 'out.log')\n",
    "logger.info('Dir ' + OUTPUT_DIR + ' created')"
   ]
  },
  {
   "cell_type": "code",
   "execution_count": 4,
   "metadata": {
    "collapsed": false,
    "deletable": true,
    "editable": true
   },
   "outputs": [],
   "source": [
    "#from MismatchedTrainImages.txt\n",
    "MISMATCHED = [3, 7, 9, 21, 30, 34, 71, 81, 89, 97, 151, 184, 215, 234, 242, 268, 290, 311, 331, 344, 380, 384, 406, 421, 469, 475, 490, 499, 507, 530, 531, 605, 607, 614, 621, 638, 644, 687, 712, 721, 767, 779, 781, 794, 800, 811, 839, 840, 869, 882, 901, 903, 905, 909, 913, 927, 946]\n"
   ]
  },
  {
   "cell_type": "markdown",
   "metadata": {
    "deletable": true,
    "editable": true
   },
   "source": [
    "### Load trained CNN model"
   ]
  },
  {
   "cell_type": "code",
   "execution_count": 5,
   "metadata": {
    "collapsed": false,
    "deletable": true,
    "editable": true,
    "scrolled": false
   },
   "outputs": [
    {
     "name": "stderr",
     "output_type": "stream",
     "text": [
      "2017-05-23 07:55:13,481 INFO Load CNN model\n",
      "2017-05-23 07:55:13,631 INFO loaded model from function convnet_simple_lion_keras\n",
      "2017-05-23 07:55:13,986 INFO Loaded model weights from ../../input/kaggle-sea-lion/05/weights-0.72-simple.h5\n",
      "2017-05-23 07:55:14,013 INFO Model prepared\n"
     ]
    }
   ],
   "source": [
    "logger.info('Load CNN model')\n",
    "#model = lions.convnet_alexnet2_lion_keras(IMAGE_DIMS)\n",
    "\n",
    "model = None\n",
    "if(LOAD_MODEL_FILE!=None and os.path.isfile(LOAD_MODEL_FILE)):\n",
    "    with open(LOAD_MODEL_FILE, 'r') as model_file:\n",
    "        my = model_file.read()\n",
    "        model = models.model_from_yaml(my)\n",
    "        logger.info('loaded model from file ' + LOAD_MODEL_FILE)\n",
    "else:\n",
    "    model = lions.convnet_simple_lion_keras(IMAGE_DIMS)\n",
    "    logger.info('loaded model from function convnet_simple_lion_keras')\n",
    "\n",
    "if(LOAD_WEIGHTS_FILE!=None and os.path.isfile(LOAD_WEIGHTS_FILE)):\n",
    "    model.load_weights(LOAD_WEIGHTS_FILE)\n",
    "    logger.info('Loaded model weights from ' + LOAD_WEIGHTS_FILE)\n",
    "\n",
    "model.compile(loss='categorical_crossentropy', optimizer='adam', metrics=['acc'])    \n",
    "logger.info('Model prepared')"
   ]
  },
  {
   "cell_type": "markdown",
   "metadata": {
    "deletable": true,
    "editable": true
   },
   "source": [
    "## Classify lion class using CNN"
   ]
  },
  {
   "cell_type": "markdown",
   "metadata": {},
   "source": [
    "### Perform sliding window search"
   ]
  },
  {
   "cell_type": "code",
   "execution_count": null,
   "metadata": {
    "collapsed": false,
    "deletable": true,
    "editable": true,
    "scrolled": false
   },
   "outputs": [
    {
     "name": "stdout",
     "output_type": "stream",
     "text": [
      "[[  2.65799509e-03   3.72588111e-04   2.64215138e-04   3.39635927e-03\n",
      "    3.07363662e-04   9.93001461e-01]]\n"
     ]
    },
    {
     "name": "stderr",
     "output_type": "stream",
     "text": [
      "2017-05-23 07:57:25,047 INFO > [started] sliding_window...\n"
     ]
    },
    {
     "name": "stdout",
     "output_type": "stream",
     "text": [
      "\r",
      "0/328 [>.........................] 0% 0s sliding window"
     ]
    }
   ],
   "source": [
    "img_path = INPUT_DIR + 'Train/41.jpg'\n",
    "img = cv2.imread(img_path)\n",
    "#img = img[1800:4000,2000:3300]\n",
    "img = img[3000:4000,3000:4000]\n",
    "#img = cv2.cvtColor(img,cv2.COLOR_BGR2GRAY).astype('u1')\n",
    "\n",
    "y_pred = model.predict(np.array([img[0:84,0:84]]))\n",
    "print(y_pred)\n",
    "\n",
    "#lion simple cnn forward time: ~10ms\n",
    "model = lions.convnet_simple_lion_keras(IMAGE_DIMS)\n",
    "model.load_weights(LOAD_WEIGHTS_FILE)\n",
    "\n",
    "\"\"\" Returns (score, label) \"\"\"\n",
    "def eval_region(region_img):\n",
    "    y_pred = model.predict(np.array([region_img]))\n",
    "    ylp = utils.onehot_to_label(np.array(y_pred))\n",
    "    return y_pred[0][ylp[0]], ylp[0]\n",
    "\n",
    "img2 = img.copy()\n",
    "\n",
    "region_generator = objectdetect.sliding_window_generator(img2, step=(24,24), window=IMAGE_DIMS, pyramid_max_layers=1)\n",
    "detections, imgs = objectdetect.evaluate_regions(region_generator, eval_region, filter_score_min=0.6, filter_labels=(0,1,2,3,4), apply_non_max_suppression=True, supression_overlap_threshold=0.1, threads=None)\n",
    "\n",
    "print('regions found:')\n",
    "print(len(detections))\n",
    "\n",
    "def detection_to_colortext(detection):\n",
    "    score = detection[4]\n",
    "    text = str(detection[5]) + ' ' + '{0:.2f}'.format(score)\n",
    "    c = int(score*255)\n",
    "    return (0,0,c), text\n",
    "\n",
    "objectdetect.draw_detections(detections, img2, detection_to_colortext)\n",
    "utils.show_image(img2, size=40, is_bgr=True)\n",
    "\n",
    "patches = objectdetect.extract_patches(detections, img2)\n",
    "utils.show_images(patches[100:160], size=2, cols=10)"
   ]
  },
  {
   "cell_type": "code",
   "execution_count": null,
   "metadata": {
    "collapsed": true,
    "deletable": true,
    "editable": true
   },
   "outputs": [],
   "source": []
  },
  {
   "cell_type": "markdown",
   "metadata": {
    "deletable": true,
    "editable": true
   },
   "source": [
    "## Verify classification/count performance"
   ]
  },
  {
   "cell_type": "code",
   "execution_count": null,
   "metadata": {
    "collapsed": true,
    "deletable": true,
    "editable": true
   },
   "outputs": [],
   "source": []
  },
  {
   "cell_type": "code",
   "execution_count": null,
   "metadata": {
    "collapsed": true,
    "deletable": true,
    "editable": true
   },
   "outputs": [],
   "source": []
  }
 ],
 "metadata": {
  "kernelspec": {
   "display_name": "Python 3",
   "language": "python",
   "name": "python3"
  },
  "language_info": {
   "codemirror_mode": {
    "name": "ipython",
    "version": 3
   },
   "file_extension": ".py",
   "mimetype": "text/x-python",
   "name": "python",
   "nbconvert_exporter": "python",
   "pygments_lexer": "ipython3",
   "version": "3.4.3"
  }
 },
 "nbformat": 4,
 "nbformat_minor": 0
}
