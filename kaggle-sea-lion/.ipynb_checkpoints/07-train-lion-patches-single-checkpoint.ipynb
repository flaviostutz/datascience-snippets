{
 "cells": [
  {
   "cell_type": "markdown",
   "metadata": {
    "deletable": true,
    "editable": true
   },
   "source": [
    "## Train sea lion classifier with a convnet"
   ]
  },
  {
   "cell_type": "code",
   "execution_count": 1,
   "metadata": {
    "collapsed": false,
    "deletable": true,
    "editable": true
   },
   "outputs": [],
   "source": [
    "INPUT_DIR = '../../input/kaggle-sea-lion/02/'\n",
    "OUTPUT_DIR = '../../output/kaggle-sea-lion/07/'\n",
    "IMAGE_DIMS = (84,84,3)#class0\n",
    "#IMAGE_DIMS = (84,84,3)#class1\n",
    "#IMAGE_DIMS = (56,56,3)#class2\n",
    "#IMAGE_DIMS = (42,42,3)#class3\n",
    "#IMAGE_DIMS = (26,26,3)#class4\n",
    "\n",
    "TRAIN_CLASS = 0\n",
    "SAVE_WEIGHTS_FILE = OUTPUT_DIR + 'last-weights-medium1-class0.h5'\n",
    "\n",
    "Y_CHANGE = [[1,2,3,4,5],[0]]\n",
    "TRAIN_WEIGHT_RAW = (1,0.2,0.2,0.2,0.2,0.2)\n",
    "TRAIN_WEIGHT = (1,1)\n",
    "TEST_WEIGHT_RAW = (1,0.2,0.2,0.2,0.2,0.2)\n",
    "TEST_WEIGHT = (1,1)\n",
    "\n",
    "SAVE_MODEL_FILE = None\n",
    "LOAD_WEIGHTS_FILE = SAVE_WEIGHTS_FILE\n",
    "LOAD_MODEL_FILE = None\n",
    "INPUT_DATASET_NAME = 'lion-patches-0px'\n",
    "\n",
    "RECREATE_OUTPUT_DIR = True\n",
    "RUN_TRAINING = True\n",
    "\n",
    "TRAIN_EPOCHS = 10\n",
    "INPUT_RANGE = 1\n",
    "DEBUG = False\n",
    "\n",
    "BATCH_SIZE=48"
   ]
  },
  {
   "cell_type": "code",
   "execution_count": 2,
   "metadata": {
    "collapsed": false,
    "deletable": true,
    "editable": true
   },
   "outputs": [
    {
     "name": "stderr",
     "output_type": "stream",
     "text": [
      "Using TensorFlow backend.\n"
     ]
    }
   ],
   "source": [
    "%matplotlib inline\n",
    "import numpy as np\n",
    "import pandas as pd\n",
    "import h5py\n",
    "import matplotlib.pyplot as plt\n",
    "import sklearn\n",
    "import os\n",
    "import glob\n",
    "\n",
    "import keras\n",
    "from keras.preprocessing.image import ImageDataGenerator\n",
    "from keras import models\n",
    "\n",
    "from modules.logging import logger\n",
    "import modules.utils as utils\n",
    "from modules.utils import Timer\n",
    "import modules.logging\n",
    "import modules.cnn as cnn\n",
    "import modules.lions as lions"
   ]
  },
  {
   "cell_type": "markdown",
   "metadata": {
    "deletable": true,
    "editable": true
   },
   "source": [
    "## Prepare"
   ]
  },
  {
   "cell_type": "markdown",
   "metadata": {
    "deletable": true,
    "editable": true
   },
   "source": [
    "### Prepare output dir"
   ]
  },
  {
   "cell_type": "code",
   "execution_count": 3,
   "metadata": {
    "collapsed": false,
    "deletable": true,
    "editable": true
   },
   "outputs": [
    {
     "name": "stderr",
     "output_type": "stream",
     "text": [
      "2017-06-11 13:37:58,608 INFO Output dirs created\n"
     ]
    }
   ],
   "source": [
    "utils.mkdirs(OUTPUT_DIR, dirs=['tf-logs','weights'], recreate=RECREATE_OUTPUT_DIR)\n",
    "modules.logging.setup_file_logger(OUTPUT_DIR + 'out.log')\n",
    "TF_LOGS_DIR = OUTPUT_DIR + 'tf-logs/'\n",
    "WEIGHTS_DIR = OUTPUT_DIR + 'weights/'\n",
    "input_dataset_path = INPUT_DIR + utils.dataset_name(INPUT_DATASET_NAME, IMAGE_DIMS)\n",
    "\n",
    "logger.info('Output dirs created')"
   ]
  },
  {
   "cell_type": "markdown",
   "metadata": {
    "deletable": true,
    "editable": true
   },
   "source": [
    "### Prepare train, validate and test data flows"
   ]
  },
  {
   "cell_type": "code",
   "execution_count": 4,
   "metadata": {
    "collapsed": false,
    "deletable": true,
    "editable": true,
    "scrolled": false
   },
   "outputs": [
    {
     "name": "stderr",
     "output_type": "stream",
     "text": [
      "2017-06-11 13:37:58,649 INFO Using dataset ../../input/kaggle-sea-lion/02/lion-patches-0px-84-84.h5 as input\n",
      "2017-06-11 13:37:58,665 INFO preparing train data\n",
      "2017-06-11 13:37:58,668 INFO loading input data for class distribution analysis...\n",
      "2017-06-11 13:37:58,669 INFO loading Y from raw dataset\n",
      "2017-06-11 13:37:58,671 INFO > [started] generator dump...\n"
     ]
    },
    {
     "name": "stdout",
     "output_type": "stream",
     "text": [
      "\r",
      "1600/2263"
     ]
    },
    {
     "name": "stderr",
     "output_type": "stream",
     "text": [
      "2017-06-11 13:37:59,088 INFO > [done]    generator dump (417.298 ms)\n",
      "2017-06-11 13:37:59,092 INFO raw sample class distribution\n",
      "2017-06-11 13:37:59,093 INFO 0: 78\n",
      "2017-06-11 13:37:59,095 INFO 1: 45\n",
      "2017-06-11 13:37:59,097 INFO 2: 675\n",
      "2017-06-11 13:37:59,098 INFO 3: 150\n",
      "2017-06-11 13:37:59,100 INFO 4: 281\n",
      "2017-06-11 13:37:59,101 INFO 5: 1034\n",
      "2017-06-11 13:37:59,103 INFO overall output samples per class: 90\n",
      "2017-06-11 13:37:59,104 INFO augmentation/undersampling ratio per class\n",
      "2017-06-11 13:37:59,106 INFO SETUP FLOW 0 0.7\n",
      "2017-06-11 13:37:59,108 INFO calculating source range according to start/end range of the desired output..\n",
      "2017-06-11 13:37:59,109 INFO output distribution for this flow\n",
      "2017-06-11 13:37:59,111 INFO 0: 62 (1.15)\n",
      "2017-06-11 13:37:59,112 INFO 1: 62 (2.00)\n",
      "2017-06-11 13:37:59,113 INFO 2: 62 (0.13)\n",
      "2017-06-11 13:37:59,115 INFO 3: 62 (0.60)\n",
      "2017-06-11 13:37:59,116 INFO 4: 62 (0.32)\n",
      "2017-06-11 13:37:59,117 INFO 5: 62 (0.09)\n",
      "2017-06-11 13:37:59,120 INFO source range: 0-1792 (1792)\n",
      "2017-06-11 13:37:59,121 INFO output range: 0-377 (377)\n",
      "2017-06-11 13:37:59,123 INFO loading input data for class distribution analysis...\n",
      "2017-06-11 13:37:59,125 INFO loading Y from raw dataset\n",
      "2017-06-11 13:37:59,126 INFO > [started] generator dump...\n",
      "2017-06-11 13:37:59,127 INFO starting new flow...\n",
      "2017-06-11 13:37:59,943 INFO > [done]    generator dump (817.028 ms)\n",
      "2017-06-11 13:37:59,947 INFO raw sample class distribution\n",
      "2017-06-11 13:37:59,949 INFO 0: 320\n",
      "2017-06-11 13:37:59,950 INFO 1: 57\n",
      "2017-06-11 13:37:59,952 INFO overall output samples per class: 114\n",
      "2017-06-11 13:37:59,953 INFO augmentation/undersampling ratio per class\n",
      "2017-06-11 13:37:59,954 INFO SETUP FLOW 0 1\n",
      "2017-06-11 13:37:59,956 INFO calculating source range according to start/end range of the desired output..\n",
      "2017-06-11 13:37:59,957 INFO output distribution for this flow\n",
      "2017-06-11 13:37:59,959 INFO 0: 114 (0.36)\n",
      "2017-06-11 13:37:59,960 INFO 1: 114 (2.00)\n",
      "2017-06-11 13:37:59,962 INFO source range: 0-376 (376)\n",
      "2017-06-11 13:37:59,963 INFO output range: 0-228 (228)\n",
      "2017-06-11 13:37:59,965 INFO train size=228 batches=5\n",
      "2017-06-11 13:37:59,966 INFO preparing valid data\n",
      "2017-06-11 13:37:59,968 INFO loading input data for class distribution analysis...\n",
      "2017-06-11 13:37:59,969 INFO loading Y from raw dataset\n",
      "2017-06-11 13:37:59,970 INFO > [started] generator dump...\n"
     ]
    },
    {
     "name": "stdout",
     "output_type": "stream",
     "text": [
      "\r",
      "1600/2263"
     ]
    },
    {
     "name": "stderr",
     "output_type": "stream",
     "text": [
      "2017-06-11 13:38:00,306 INFO > [done]    generator dump (335.333 ms)\n",
      "2017-06-11 13:38:00,308 INFO raw sample class distribution\n",
      "2017-06-11 13:38:00,310 INFO 0: 78\n",
      "2017-06-11 13:38:00,311 INFO 1: 45\n",
      "2017-06-11 13:38:00,313 INFO 2: 675\n",
      "2017-06-11 13:38:00,315 INFO 3: 150\n",
      "2017-06-11 13:38:00,316 INFO 4: 281\n",
      "2017-06-11 13:38:00,318 INFO 5: 1034\n",
      "2017-06-11 13:38:00,320 INFO overall output samples per class: 90\n",
      "2017-06-11 13:38:00,322 INFO augmentation/undersampling ratio per class\n",
      "2017-06-11 13:38:00,323 INFO SETUP FLOW 0.7 0.85\n",
      "2017-06-11 13:38:00,325 INFO calculating source range according to start/end range of the desired output..\n",
      "2017-06-11 13:38:00,326 INFO output distribution for this flow\n",
      "2017-06-11 13:38:00,327 INFO 0: 13 (1.15)\n",
      "2017-06-11 13:38:00,329 INFO 1: 13 (2.00)\n",
      "2017-06-11 13:38:00,330 INFO 2: 13 (0.13)\n",
      "2017-06-11 13:38:00,332 INFO 3: 13 (0.60)\n",
      "2017-06-11 13:38:00,333 INFO 4: 13 (0.32)\n",
      "2017-06-11 13:38:00,334 INFO 5: 13 (0.09)\n",
      "2017-06-11 13:38:00,337 INFO source range: 1586-1864 (278)\n",
      "2017-06-11 13:38:00,338 INFO output range: 378-458 (80)\n",
      "2017-06-11 13:38:00,340 INFO loading input data for class distribution analysis...\n",
      "2017-06-11 13:38:00,341 INFO loading Y from raw dataset\n",
      "2017-06-11 13:38:00,343 INFO > [started] generator dump...\n",
      "2017-06-11 13:38:00,345 INFO starting new flow...\n",
      "2017-06-11 13:38:00,440 INFO > [done]    generator dump (97.604 ms)\n",
      "2017-06-11 13:38:00,445 INFO raw sample class distribution\n",
      "2017-06-11 13:38:00,447 INFO 0: 66\n",
      "2017-06-11 13:38:00,448 INFO 1: 14\n",
      "2017-06-11 13:38:00,449 INFO overall output samples per class: 28\n",
      "2017-06-11 13:38:00,451 INFO augmentation/undersampling ratio per class\n",
      "2017-06-11 13:38:00,452 INFO SETUP FLOW 0 1\n",
      "2017-06-11 13:38:00,453 INFO calculating source range according to start/end range of the desired output..\n",
      "2017-06-11 13:38:00,455 INFO output distribution for this flow\n",
      "2017-06-11 13:38:00,456 INFO 0: 28 (0.42)\n",
      "2017-06-11 13:38:00,458 INFO 1: 28 (2.00)\n",
      "2017-06-11 13:38:00,459 INFO source range: 0-79 (79)\n",
      "2017-06-11 13:38:00,460 INFO output range: 0-56 (56)\n",
      "2017-06-11 13:38:00,461 INFO SETUP FLOW 0 79\n",
      "2017-06-11 13:38:00,463 INFO calculating source range according to start/end range of the desired output..\n",
      "2017-06-11 13:38:00,464 INFO output distribution for this flow\n",
      "2017-06-11 13:38:00,465 INFO 0: 7031 (1.15)\n",
      "2017-06-11 13:38:00,467 INFO 1: 7110 (2.00)\n",
      "2017-06-11 13:38:00,468 INFO 2: 7110 (0.13)\n",
      "2017-06-11 13:38:00,469 INFO 3: 7110 (0.60)\n",
      "2017-06-11 13:38:00,471 INFO 4: 7110 (0.32)\n",
      "2017-06-11 13:38:00,472 INFO 5: 7110 (0.09)\n",
      "2017-06-11 13:38:00,475 INFO source range: 0-2262 (2262)\n",
      "2017-06-11 13:38:00,477 INFO output range: 0-42581 (42581)\n",
      "2017-06-11 13:38:00,478 INFO valid size=56 batches=2\n",
      "2017-06-11 13:38:00,479 INFO preparing test data\n",
      "2017-06-11 13:38:00,482 INFO loading input data for class distribution analysis...\n",
      "2017-06-11 13:38:00,483 INFO loading Y from raw dataset\n",
      "2017-06-11 13:38:00,484 INFO > [started] generator dump...\n"
     ]
    },
    {
     "name": "stdout",
     "output_type": "stream",
     "text": [
      "\r",
      "1600/2263"
     ]
    },
    {
     "name": "stderr",
     "output_type": "stream",
     "text": [
      "2017-06-11 13:38:00,836 INFO > [done]    generator dump (352.203 ms)\n",
      "2017-06-11 13:38:00,839 INFO raw sample class distribution\n",
      "2017-06-11 13:38:00,841 INFO 0: 78\n",
      "2017-06-11 13:38:00,842 INFO 1: 45\n",
      "2017-06-11 13:38:00,844 INFO 2: 675\n",
      "2017-06-11 13:38:00,845 INFO 3: 150\n",
      "2017-06-11 13:38:00,847 INFO 4: 281\n",
      "2017-06-11 13:38:00,848 INFO 5: 1034\n",
      "2017-06-11 13:38:00,849 INFO overall output samples per class: 90\n",
      "2017-06-11 13:38:00,850 INFO augmentation/undersampling ratio per class\n",
      "2017-06-11 13:38:00,852 INFO SETUP FLOW 0.85 1\n",
      "2017-06-11 13:38:00,853 INFO calculating source range according to start/end range of the desired output..\n",
      "2017-06-11 13:38:00,855 INFO output distribution for this flow\n",
      "2017-06-11 13:38:00,856 INFO 0: 13 (1.15)\n",
      "2017-06-11 13:38:00,858 INFO 1: 13 (2.00)\n",
      "2017-06-11 13:38:00,859 INFO 2: 13 (0.13)\n",
      "2017-06-11 13:38:00,861 INFO 3: 13 (0.60)\n",
      "2017-06-11 13:38:00,862 INFO 4: 13 (0.32)\n",
      "2017-06-11 13:38:00,863 INFO 5: 13 (0.09)\n",
      "2017-06-11 13:38:00,866 INFO source range: 2028-2262 (234)\n",
      "2017-06-11 13:38:00,868 INFO output range: 459-539 (80)\n",
      "2017-06-11 13:38:00,869 INFO loading input data for class distribution analysis...\n",
      "2017-06-11 13:38:00,870 INFO loading Y from raw dataset\n",
      "2017-06-11 13:38:00,872 INFO > [started] generator dump...\n",
      "2017-06-11 13:38:00,873 INFO starting new flow...\n",
      "2017-06-11 13:38:00,967 INFO > [done]    generator dump (95.183 ms)\n",
      "2017-06-11 13:38:00,971 INFO raw sample class distribution\n",
      "2017-06-11 13:38:00,972 INFO 0: 72\n",
      "2017-06-11 13:38:00,974 INFO 1: 8\n",
      "2017-06-11 13:38:00,975 INFO overall output samples per class: 16\n",
      "2017-06-11 13:38:00,976 INFO augmentation/undersampling ratio per class\n",
      "2017-06-11 13:38:00,978 INFO SETUP FLOW 0 1\n",
      "2017-06-11 13:38:00,979 INFO calculating source range according to start/end range of the desired output..\n",
      "2017-06-11 13:38:00,981 INFO output distribution for this flow\n",
      "2017-06-11 13:38:00,982 INFO 0: 16 (0.22)\n",
      "2017-06-11 13:38:00,983 INFO 1: 16 (2.00)\n",
      "2017-06-11 13:38:00,985 INFO source range: 0-79 (79)\n",
      "2017-06-11 13:38:00,986 INFO output range: 0-32 (32)\n",
      "2017-06-11 13:38:00,988 INFO SETUP FLOW 0 79\n",
      "2017-06-11 13:38:00,989 INFO calculating source range according to start/end range of the desired output..\n",
      "2017-06-11 13:38:00,990 INFO output distribution for this flow\n",
      "2017-06-11 13:38:00,992 INFO 0: 7031 (1.15)\n",
      "2017-06-11 13:38:00,993 INFO 1: 7110 (2.00)\n",
      "2017-06-11 13:38:00,994 INFO 2: 7110 (0.13)\n",
      "2017-06-11 13:38:00,995 INFO 3: 7110 (0.60)\n",
      "2017-06-11 13:38:00,996 INFO 4: 7110 (0.32)\n",
      "2017-06-11 13:38:00,997 INFO 5: 7110 (0.09)\n",
      "2017-06-11 13:38:01,001 INFO source range: 0-2262 (2262)\n",
      "2017-06-11 13:38:01,062 INFO output range: 0-42581 (42581)\n",
      "2017-06-11 13:38:01,064 INFO test size=32 batches=1\n"
     ]
    }
   ],
   "source": [
    "logger.info('Using dataset ' + input_dataset_path + ' as input')\n",
    "h5file = h5py.File(input_dataset_path, 'r')\n",
    "\n",
    "#used for image augmentation (creating new images for balancing)\n",
    "image_augmentation_generator = ImageDataGenerator(\n",
    "        featurewise_center=False,\n",
    "        samplewise_center=False,\n",
    "        featurewise_std_normalization=False,\n",
    "        samplewise_std_normalization=False,\n",
    "        zca_whitening=False,\n",
    "        rotation_range=359,\n",
    "        width_shift_range=0,\n",
    "        height_shift_range=0,\n",
    "        shear_range=0,\n",
    "        horizontal_flip=True,\n",
    "        vertical_flip=True)\n",
    "\n",
    "#applied to all images during training\n",
    "image_randomize_generator = ImageDataGenerator(\n",
    "        featurewise_center=False,\n",
    "        samplewise_center=False,\n",
    "        featurewise_std_normalization=False,\n",
    "        samplewise_std_normalization=False,\n",
    "        zca_whitening=False,\n",
    "        rotation_range=359,\n",
    "        width_shift_range=0,\n",
    "        height_shift_range=0,\n",
    "        shear_range=0,\n",
    "        horizontal_flip=True,\n",
    "        vertical_flip=True)\n",
    "\n",
    "logger.info('preparing train data')\n",
    "train_batch_generator = utils.BatchGeneratorXYH5(h5file, start_ratio=0, end_ratio=INPUT_RANGE)\n",
    "train_balance_generator = utils.ClassBalancerGeneratorXY(train_batch_generator,\n",
    "                                                         image_augmentation=image_augmentation_generator,\n",
    "                                                         output_weight=TRAIN_WEIGHT_RAW,\n",
    "                                                         max_augmentation_ratio=1,\n",
    "                                                         max_undersampling_ratio=1,\n",
    "                                                         enforce_max_ratios=False,\n",
    "                                                         batch_size=BATCH_SIZE,\n",
    "                                                         start_ratio=0, end_ratio=0.7)\n",
    "train_image_generator = utils.ImageAugmentationXYGenerator(train_balance_generator, image_randomize_generator)\n",
    "train_generator = utils.ClassBalancerGeneratorXY(train_image_generator,\n",
    "                                                         image_augmentation=image_augmentation_generator,\n",
    "                                                         output_weight=TRAIN_WEIGHT,\n",
    "                                                         max_augmentation_ratio=1,\n",
    "                                                         max_undersampling_ratio=1,\n",
    "                                                         enforce_max_ratios=False,\n",
    "                                                         batch_size=BATCH_SIZE,\n",
    "                                                         start_ratio=0, end_ratio=1,\n",
    "                                                         change_y=Y_CHANGE)\n",
    "#train_generator = utils.ChangeXYGenerator(train_image_generator, categorical_to_boolean)\n",
    "logger.info('train size=' + str(train_generator.size) + ' batches=' + str(train_generator.nr_batches))\n",
    "\n",
    "\n",
    "logger.info('preparing valid data')\n",
    "valid_batch_generator = utils.BatchGeneratorXYH5(h5file, start_ratio=0, end_ratio=INPUT_RANGE)\n",
    "valid_balance_generator = utils.ClassBalancerGeneratorXY(valid_batch_generator,\n",
    "                                                         image_augmentation=image_augmentation_generator,\n",
    "                                                         output_weight=TEST_WEIGHT_RAW,\n",
    "                                                         max_augmentation_ratio=1,\n",
    "                                                         max_undersampling_ratio=1,\n",
    "                                                         enforce_max_ratios=False,\n",
    "                                                         batch_size=BATCH_SIZE,\n",
    "                                                         start_ratio=0.7, end_ratio=0.85)\n",
    "valid_generator = utils.ClassBalancerGeneratorXY(valid_balance_generator,\n",
    "                                                         image_augmentation=image_augmentation_generator,\n",
    "                                                         output_weight=TEST_WEIGHT,\n",
    "                                                         max_augmentation_ratio=1,\n",
    "                                                         max_undersampling_ratio=1,\n",
    "                                                         enforce_max_ratios=False,\n",
    "                                                         batch_size=BATCH_SIZE,\n",
    "                                                         start_ratio=0, end_ratio=1,\n",
    "                                                         change_y=Y_CHANGE)\n",
    "logger.info('valid size=' + str(valid_generator.size) + ' batches=' + str(valid_generator.nr_batches))\n",
    "\n",
    "\n",
    "\n",
    "logger.info('preparing test data')\n",
    "test_batch_generator = utils.BatchGeneratorXYH5(h5file, start_ratio=0, end_ratio=INPUT_RANGE)\n",
    "test_balance_generator = utils.ClassBalancerGeneratorXY(test_batch_generator,\n",
    "                                                         image_augmentation=image_augmentation_generator,\n",
    "                                                         output_weight=TEST_WEIGHT_RAW,\n",
    "                                                         max_augmentation_ratio=1,\n",
    "                                                         max_undersampling_ratio=1,\n",
    "                                                         enforce_max_ratios=False,\n",
    "                                                         batch_size=BATCH_SIZE,\n",
    "                                                         start_ratio=0.85, end_ratio=1)\n",
    "test_generator = utils.ClassBalancerGeneratorXY(test_balance_generator,\n",
    "                                                         image_augmentation=image_augmentation_generator,\n",
    "                                                         output_weight=TEST_WEIGHT,\n",
    "                                                         max_augmentation_ratio=1,\n",
    "                                                         max_undersampling_ratio=1,\n",
    "                                                         enforce_max_ratios=False,\n",
    "                                                         batch_size=BATCH_SIZE,\n",
    "                                                         start_ratio=0, end_ratio=1,\n",
    "                                                         change_y=Y_CHANGE)\n",
    "logger.info('test size=' + str(test_generator.size) + ' batches=' + str(test_generator.nr_batches))\n",
    "\n",
    "#FIXME when using 1 on end ratio size and nr_batches gets negative (h5 batch generator, not balancer...)"
   ]
  },
  {
   "cell_type": "code",
   "execution_count": 5,
   "metadata": {
    "collapsed": false,
    "deletable": true,
    "editable": true,
    "scrolled": false
   },
   "outputs": [],
   "source": [
    "#logger.info('INPUT DATASET DATA')\n",
    "#dataset_path = INPUT_DIR + utils.dataset_name(INPUT_DATASET_NAME, IMAGE_DIMS)\n",
    "#with h5py.File(input_dataset_path, 'r') as h5file:\n",
    "#    logger.info('generator')\n",
    "#    input_generator = utils.BatchGeneratorXYH5(h5file, start_ratio=0.001, end_ratio=0.0012, batch_size=64)\n",
    "#    X, Y = utils.dump_xy_to_array(input_generator.flow(), input_generator.size, x=True, y=True)\n",
    "#    utils.show_images(X, image_labels=utils.onehot_to_label(Y), group_by_label=False, cols=10, is_bgr=True, size=2)\n",
    "#\n",
    "#    logger.info('x ' + str(np.shape(X)))\n",
    "#    logger.info('y ' + str(np.shape(Y)))\n",
    "#    logger.info(str(utils.class_distribution(Y)))\n",
    "\n",
    "if(DEBUG):\n",
    "    logger.info('BALANCE GENERATOR DATA')\n",
    "    #dataset_path = INPUT_DIR + utils.dataset_name(INPUT_DATASET_NAME, IMAGE_DIMS)\n",
    "    X_train, Y_train = utils.dump_xy_to_array(train_generator.flow(), train_generator.size, x=False, y=True)\n",
    "    logger.info('y ' + str(np.shape(Y_train)))\n",
    "    #logger.info(str(utils.class_distribution(Y_train)))\n",
    "\n",
    "    for xs,ys in train_generator.flow():\n",
    "        utils.show_images(xs, image_labels=ys, cols=10, is_bgr=True, size=2)\n",
    "        break"
   ]
  },
  {
   "cell_type": "markdown",
   "metadata": {
    "deletable": true,
    "editable": true
   },
   "source": [
    "### Prepare CNN model"
   ]
  },
  {
   "cell_type": "code",
   "execution_count": 6,
   "metadata": {
    "collapsed": false,
    "deletable": true,
    "editable": true,
    "scrolled": false
   },
   "outputs": [
    {
     "name": "stderr",
     "output_type": "stream",
     "text": [
      "2017-06-11 13:38:01,106 INFO Load CNN model\n",
      "/notebooks/datascience-snippets/kaggle-sea-lion/modules/lions.py:164: UserWarning: Update your `Conv2D` call to the Keras 2 API: `Conv2D(64, (3, 3), padding=\"same\", kernel_initializer=\"glorot_uniform\", activation=\"relu\")`\n",
      "  model.add(convolutional.Conv2D(64, (3, 3), activation='relu', padding='same', init='glorot_uniform'))\n",
      "/notebooks/datascience-snippets/kaggle-sea-lion/modules/lions.py:166: UserWarning: Update your `Conv2D` call to the Keras 2 API: `Conv2D(128, (3, 3), padding=\"same\", kernel_initializer=\"glorot_uniform\", activation=\"relu\")`\n",
      "  model.add(convolutional.Conv2D(128, (3, 3), activation='relu', padding='same', init='glorot_uniform'))\n",
      "/notebooks/datascience-snippets/kaggle-sea-lion/modules/lions.py:168: UserWarning: Update your `Conv2D` call to the Keras 2 API: `Conv2D(256, (3, 3), padding=\"same\", kernel_initializer=\"glorot_uniform\", activation=\"relu\")`\n",
      "  model.add(convolutional.Conv2D(256, (3, 3), activation='relu', padding='same', init='glorot_uniform'))\n",
      "/notebooks/datascience-snippets/kaggle-sea-lion/modules/lions.py:173: UserWarning: Update your `Dense` call to the Keras 2 API: `Dense(1024, kernel_initializer=\"glorot_uniform\", activation=\"relu\")`\n",
      "  model.add(core.Dense(1024, activation='relu', init='glorot_uniform'))\n",
      "/notebooks/datascience-snippets/kaggle-sea-lion/modules/lions.py:175: UserWarning: Update your `Dense` call to the Keras 2 API: `Dense(1024, kernel_initializer=\"glorot_uniform\", activation=\"relu\")`\n",
      "  model.add(core.Dense(1024, activation='relu', init='glorot_uniform'))\n",
      "2017-06-11 13:38:01,217 INFO loaded model from function convnet_medium1_single\n",
      "2017-06-11 13:38:01,221 INFO Model prepared\n"
     ]
    }
   ],
   "source": [
    "logger.info('Load CNN model')\n",
    "#model = lions.convnet_alexnet2_lion_keras(IMAGE_DIMS)\n",
    "\n",
    "model = None\n",
    "if(LOAD_MODEL_FILE!=None and os.path.isfile(LOAD_MODEL_FILE)):\n",
    "    with open(LOAD_MODEL_FILE, 'r') as model_file:\n",
    "        my = model_file.read()\n",
    "        model = models.model_from_yaml(my)\n",
    "        logger.info('loaded model from file ' + LOAD_MODEL_FILE)\n",
    "else:\n",
    "    model = lions.convnet_medium1_boolean(IMAGE_DIMS)\n",
    "    logger.info('loaded model from function convnet_medium1_single')\n",
    "    \n",
    "\n",
    "if(LOAD_WEIGHTS_FILE!=None and os.path.isfile(LOAD_WEIGHTS_FILE)):\n",
    "    model.load_weights(LOAD_WEIGHTS_FILE)\n",
    "    logger.info('Loaded model weights from ' + LOAD_WEIGHTS_FILE)\n",
    "\n",
    "logger.info('Model prepared')"
   ]
  },
  {
   "cell_type": "markdown",
   "metadata": {
    "deletable": true,
    "editable": true
   },
   "source": [
    "## Train model"
   ]
  },
  {
   "cell_type": "code",
   "execution_count": 7,
   "metadata": {
    "collapsed": false,
    "deletable": true,
    "editable": true,
    "scrolled": false
   },
   "outputs": [
    {
     "name": "stderr",
     "output_type": "stream",
     "text": [
      "2017-06-11 13:38:01,232 INFO Starting CNN training...\n"
     ]
    },
    {
     "name": "stdout",
     "output_type": "stream",
     "text": [
      "INFO:tensorflow:Summary name conv2d_1/kernel:0 is illegal; using conv2d_1/kernel_0 instead.\n"
     ]
    },
    {
     "name": "stderr",
     "output_type": "stream",
     "text": [
      "2017-06-11 13:38:01,436 INFO Summary name conv2d_1/kernel:0 is illegal; using conv2d_1/kernel_0 instead.\n"
     ]
    },
    {
     "name": "stdout",
     "output_type": "stream",
     "text": [
      "INFO:tensorflow:Summary name conv2d_1/kernel:0 is illegal; using conv2d_1/kernel_0 instead.\n"
     ]
    },
    {
     "name": "stderr",
     "output_type": "stream",
     "text": [
      "2017-06-11 13:38:01,441 INFO Summary name conv2d_1/kernel:0 is illegal; using conv2d_1/kernel_0 instead.\n"
     ]
    },
    {
     "name": "stdout",
     "output_type": "stream",
     "text": [
      "INFO:tensorflow:Summary name conv2d_1/bias:0 is illegal; using conv2d_1/bias_0 instead.\n"
     ]
    },
    {
     "name": "stderr",
     "output_type": "stream",
     "text": [
      "2017-06-11 13:38:01,445 INFO Summary name conv2d_1/bias:0 is illegal; using conv2d_1/bias_0 instead.\n"
     ]
    },
    {
     "name": "stdout",
     "output_type": "stream",
     "text": [
      "INFO:tensorflow:Summary name conv2d_1/bias:0 is illegal; using conv2d_1/bias_0 instead.\n"
     ]
    },
    {
     "name": "stderr",
     "output_type": "stream",
     "text": [
      "2017-06-11 13:38:01,451 INFO Summary name conv2d_1/bias:0 is illegal; using conv2d_1/bias_0 instead.\n"
     ]
    },
    {
     "name": "stdout",
     "output_type": "stream",
     "text": [
      "INFO:tensorflow:Summary name conv2d_2/kernel:0 is illegal; using conv2d_2/kernel_0 instead.\n"
     ]
    },
    {
     "name": "stderr",
     "output_type": "stream",
     "text": [
      "2017-06-11 13:38:01,455 INFO Summary name conv2d_2/kernel:0 is illegal; using conv2d_2/kernel_0 instead.\n"
     ]
    },
    {
     "name": "stdout",
     "output_type": "stream",
     "text": [
      "INFO:tensorflow:Summary name conv2d_2/kernel:0 is illegal; using conv2d_2/kernel_0 instead.\n"
     ]
    },
    {
     "name": "stderr",
     "output_type": "stream",
     "text": [
      "2017-06-11 13:38:01,461 INFO Summary name conv2d_2/kernel:0 is illegal; using conv2d_2/kernel_0 instead.\n"
     ]
    },
    {
     "name": "stdout",
     "output_type": "stream",
     "text": [
      "INFO:tensorflow:Summary name conv2d_2/bias:0 is illegal; using conv2d_2/bias_0 instead.\n"
     ]
    },
    {
     "name": "stderr",
     "output_type": "stream",
     "text": [
      "2017-06-11 13:38:01,464 INFO Summary name conv2d_2/bias:0 is illegal; using conv2d_2/bias_0 instead.\n"
     ]
    },
    {
     "name": "stdout",
     "output_type": "stream",
     "text": [
      "INFO:tensorflow:Summary name conv2d_2/bias:0 is illegal; using conv2d_2/bias_0 instead.\n"
     ]
    },
    {
     "name": "stderr",
     "output_type": "stream",
     "text": [
      "2017-06-11 13:38:01,471 INFO Summary name conv2d_2/bias:0 is illegal; using conv2d_2/bias_0 instead.\n"
     ]
    },
    {
     "name": "stdout",
     "output_type": "stream",
     "text": [
      "INFO:tensorflow:Summary name conv2d_3/kernel:0 is illegal; using conv2d_3/kernel_0 instead.\n"
     ]
    },
    {
     "name": "stderr",
     "output_type": "stream",
     "text": [
      "2017-06-11 13:38:01,475 INFO Summary name conv2d_3/kernel:0 is illegal; using conv2d_3/kernel_0 instead.\n"
     ]
    },
    {
     "name": "stdout",
     "output_type": "stream",
     "text": [
      "INFO:tensorflow:Summary name conv2d_3/kernel:0 is illegal; using conv2d_3/kernel_0 instead.\n"
     ]
    },
    {
     "name": "stderr",
     "output_type": "stream",
     "text": [
      "2017-06-11 13:38:01,481 INFO Summary name conv2d_3/kernel:0 is illegal; using conv2d_3/kernel_0 instead.\n"
     ]
    },
    {
     "name": "stdout",
     "output_type": "stream",
     "text": [
      "INFO:tensorflow:Summary name conv2d_3/bias:0 is illegal; using conv2d_3/bias_0 instead.\n"
     ]
    },
    {
     "name": "stderr",
     "output_type": "stream",
     "text": [
      "2017-06-11 13:38:01,485 INFO Summary name conv2d_3/bias:0 is illegal; using conv2d_3/bias_0 instead.\n"
     ]
    },
    {
     "name": "stdout",
     "output_type": "stream",
     "text": [
      "INFO:tensorflow:Summary name conv2d_3/bias:0 is illegal; using conv2d_3/bias_0 instead.\n"
     ]
    },
    {
     "name": "stderr",
     "output_type": "stream",
     "text": [
      "2017-06-11 13:38:01,491 INFO Summary name conv2d_3/bias:0 is illegal; using conv2d_3/bias_0 instead.\n"
     ]
    },
    {
     "name": "stdout",
     "output_type": "stream",
     "text": [
      "INFO:tensorflow:Summary name dense_1/kernel:0 is illegal; using dense_1/kernel_0 instead.\n"
     ]
    },
    {
     "name": "stderr",
     "output_type": "stream",
     "text": [
      "2017-06-11 13:38:01,496 INFO Summary name dense_1/kernel:0 is illegal; using dense_1/kernel_0 instead.\n"
     ]
    },
    {
     "name": "stdout",
     "output_type": "stream",
     "text": [
      "INFO:tensorflow:Summary name dense_1/kernel:0 is illegal; using dense_1/kernel_0 instead.\n"
     ]
    },
    {
     "name": "stderr",
     "output_type": "stream",
     "text": [
      "2017-06-11 13:38:01,504 INFO Summary name dense_1/kernel:0 is illegal; using dense_1/kernel_0 instead.\n"
     ]
    },
    {
     "name": "stdout",
     "output_type": "stream",
     "text": [
      "INFO:tensorflow:Summary name dense_1/bias:0 is illegal; using dense_1/bias_0 instead.\n"
     ]
    },
    {
     "name": "stderr",
     "output_type": "stream",
     "text": [
      "2017-06-11 13:38:01,508 INFO Summary name dense_1/bias:0 is illegal; using dense_1/bias_0 instead.\n"
     ]
    },
    {
     "name": "stdout",
     "output_type": "stream",
     "text": [
      "INFO:tensorflow:Summary name dense_1/bias:0 is illegal; using dense_1/bias_0 instead.\n"
     ]
    },
    {
     "name": "stderr",
     "output_type": "stream",
     "text": [
      "2017-06-11 13:38:01,514 INFO Summary name dense_1/bias:0 is illegal; using dense_1/bias_0 instead.\n"
     ]
    },
    {
     "name": "stdout",
     "output_type": "stream",
     "text": [
      "INFO:tensorflow:Summary name dense_2/kernel:0 is illegal; using dense_2/kernel_0 instead.\n"
     ]
    },
    {
     "name": "stderr",
     "output_type": "stream",
     "text": [
      "2017-06-11 13:38:01,518 INFO Summary name dense_2/kernel:0 is illegal; using dense_2/kernel_0 instead.\n"
     ]
    },
    {
     "name": "stdout",
     "output_type": "stream",
     "text": [
      "INFO:tensorflow:Summary name dense_2/kernel:0 is illegal; using dense_2/kernel_0 instead.\n"
     ]
    },
    {
     "name": "stderr",
     "output_type": "stream",
     "text": [
      "2017-06-11 13:38:01,524 INFO Summary name dense_2/kernel:0 is illegal; using dense_2/kernel_0 instead.\n"
     ]
    },
    {
     "name": "stdout",
     "output_type": "stream",
     "text": [
      "INFO:tensorflow:Summary name dense_2/bias:0 is illegal; using dense_2/bias_0 instead.\n"
     ]
    },
    {
     "name": "stderr",
     "output_type": "stream",
     "text": [
      "2017-06-11 13:38:01,527 INFO Summary name dense_2/bias:0 is illegal; using dense_2/bias_0 instead.\n"
     ]
    },
    {
     "name": "stdout",
     "output_type": "stream",
     "text": [
      "INFO:tensorflow:Summary name dense_2/bias:0 is illegal; using dense_2/bias_0 instead.\n"
     ]
    },
    {
     "name": "stderr",
     "output_type": "stream",
     "text": [
      "2017-06-11 13:38:01,534 INFO Summary name dense_2/bias:0 is illegal; using dense_2/bias_0 instead.\n"
     ]
    },
    {
     "name": "stdout",
     "output_type": "stream",
     "text": [
      "INFO:tensorflow:Summary name dense_3/kernel:0 is illegal; using dense_3/kernel_0 instead.\n"
     ]
    },
    {
     "name": "stderr",
     "output_type": "stream",
     "text": [
      "2017-06-11 13:38:01,538 INFO Summary name dense_3/kernel:0 is illegal; using dense_3/kernel_0 instead.\n"
     ]
    },
    {
     "name": "stdout",
     "output_type": "stream",
     "text": [
      "INFO:tensorflow:Summary name dense_3/kernel:0 is illegal; using dense_3/kernel_0 instead.\n"
     ]
    },
    {
     "name": "stderr",
     "output_type": "stream",
     "text": [
      "2017-06-11 13:38:01,547 INFO Summary name dense_3/kernel:0 is illegal; using dense_3/kernel_0 instead.\n"
     ]
    },
    {
     "name": "stdout",
     "output_type": "stream",
     "text": [
      "INFO:tensorflow:Summary name dense_3/bias:0 is illegal; using dense_3/bias_0 instead.\n"
     ]
    },
    {
     "name": "stderr",
     "output_type": "stream",
     "text": [
      "2017-06-11 13:38:01,551 INFO Summary name dense_3/bias:0 is illegal; using dense_3/bias_0 instead.\n"
     ]
    },
    {
     "name": "stdout",
     "output_type": "stream",
     "text": [
      "INFO:tensorflow:Summary name dense_3/bias:0 is illegal; using dense_3/bias_0 instead.\n"
     ]
    },
    {
     "name": "stderr",
     "output_type": "stream",
     "text": [
      "2017-06-11 13:38:01,557 INFO Summary name dense_3/bias:0 is illegal; using dense_3/bias_0 instead.\n",
      "/usr/local/lib/python3.4/dist-packages/ipykernel/__main__.py:9: UserWarning: Update your `fit_generator` call to the Keras 2 API: `fit_generator(<generator..., callbacks=[<keras.ca..., epochs=2, steps_per_epoch=5, validation_steps=2, validation_data=<generator..., verbose=1)`\n",
      "2017-06-11 13:38:02,182 INFO starting new flow...\n",
      "2017-06-11 13:38:02,185 INFO starting new flow...\n"
     ]
    },
    {
     "name": "stdout",
     "output_type": "stream",
     "text": [
      "Epoch 1/2\n",
      "Epoch 1/2\n",
      "4/5 [=======================>......] - ETA: 2s - loss: 0.7522 - acc: 0.5365 \b\b\b\b\b\b\b\b\b\b\b\b\b\b\b\b\b\b\b\b\b\b\b\b\b\b\b\b\b\b\b\b\b\b\b\b\b\b\b\b\b\b\b\b\b\b\b\b\b\b\b\b\b\b\b\b\b\b\b\b\b\b\b\b\b\b\b\b\b\b\b\b\b\b\b\b\b\b\b\b\b\b\b\b\b\b\b\b\b\b\b\b\b\b\b\b\b\b\b\b\b\b\b\b\b\b\b\b\b\b\b\b\b\b\b\b\b\b\b\b\b\b\b\b\b\b\b\b\b\b\b\b\b\b\b\b\b\b\b\b\b\b\b\b\b\b\b\b\b\b\b\b\b\b\b\b\b\b\b\b\b\b\b\b\b\b\b\b\b\b\b\b\b\b\b\b\b\b\b\b\b\b\b\b\b\b\b\b\b\b\b\b\b\b\b\b\b\b\b\b\b\b\b\b\b\b\b\b\b\b\b\b\b\b\b\b\b\b\b\b\b\b\b\b\b\b\b\b\b\b\b\b\b\b\b\b\b\b\b\b\b\b\b\b\b\b\b\b\b\b\b\b\b\b\b\b\b\b\b\b\b\b\b\b\b\b\b\b\b\b\b\b\b\b\b\b\b\b\b\b\b\b\b\b\b\b\b\b\b\b\b\b\b\b\b\b\b\b\b\b\b\b\b\b\b\b\b\b\b\b\b\b\b\b\b\b\b\b\b\b\b\b\b\b\b\b\b\b\b\b\b\b\b\b\b\b\b\b\b\b\b\b\b\b\b\b\b\b\b\b\b\b\b\b\b\b\b\b\b\b\b\b\b\b\b\b\b\b\b\b\b\b\b\b\b\b\b\b\b\b\b\b\b\b\b\b\b\b\b\b\b\b\b\b\b\b\b\b\b\b\b\b\b\b\b\b\b\b\b\b\b\b\b\b\b\b\b\b\b\b\b\b\b\b\b\b\b\b\b\b\b\b\b\b\b\b\b\b\b\b\b\b\b\b\b\b\b\b\b\b\b\b"
     ]
    },
    {
     "name": "stderr",
     "output_type": "stream",
     "text": [
      "2017-06-11 13:38:12,546 INFO starting new flow...\n",
      "2017-06-11 13:38:12,547 INFO starting new flow...\n"
     ]
    },
    {
     "name": "stdout",
     "output_type": "stream",
     "text": [
      "Epoch 00000: val_acc improved from -inf to 0.43750, saving model to ../../output/kaggle-sea-lion/07/weights/weights-00-0.44.h5\n",
      "5/5 [==============================] - 13s - loss: 0.7388 - acc: 0.5458 - val_loss: 0.7050 - val_acc: 0.4375\n",
      "5/5 [==============================] - 14s - loss: 0.7388 - acc: 0.5458 - val_loss: 0.7050 - val_acc: 0.4375\n",
      "Epoch 2/2\n",
      "Epoch 2/2\n",
      "4/5 [=======================>......] - ETA: 1s - loss: 0.7001 - acc: 0.4635\b\b\b\b\b\b\b\b\b\b\b\b\b\b\b\b\b\b\b\b\b\b\b\b\b\b\b\b\b\b\b\b\b\b\b\b\b\b\b\b\b\b\b\b\b\b\b\b\b\b\b\b\b\b\b\b\b\b\b\b\b\b\b\b\b\b\b\b\b\b\b\b\b\b\b\b\b\b\b\b\b\b\b\b\b\b\b\b\b\b\b\b\b\b\b\b\b\b\b\b\b\b\b\b\b\b\b\b\b\b\b\b\b\b\b\b\b\b\b\b\b\b\b\b\b\b\b\b\b\b\b\b\b\b\b\b\b\b\b\b\b\b\b\b\b\b\b\b\b\b\b\b\b\b\b\b\b\b\b\b\b\b\b\b\b\b\b\b\b\b\b\b\b\b\b\b\b\b\b\b\b\b\b\b\b\b\b\b\b\b\b\b\b\b\b\b\b\b\b\b\b\b\b\b\b\b\b\b\b\b\b\b\b\b\b\b\b\b\b\b\b\b\b\b\b\b\b\b\b\b\b\b\b\b\b\b\b\b\b\b\b\b\b\b\b\b\b\b\b\b\b\b\b\b\b\b\b\b\b\b\b\b\b\b\b\b\b\b\b\b\b\b\b\b\b\b\b\b\b\b\b\b\b\b\b\b\b\b\b\b\b\b\b\b\b\b\b\b\b\b\b\b\b\b\b\b\b\b\b\b\b\b\b\b\b\b\b\b\b\b\b\b\b\b\b\b\b\b\b\b\b\b\b\b\b\b\b\b\b\b\b\b\b\b\b\b\b\b\b\b\b\b\b\b\b\b\b\b\b\b\b\b\b\b\b\b\b\b\b\b\b\b\b\b\b\b\b\b\b\b\b\b\b\b\b\b\b\b\b\b\b\b\b\b\b\b\b\b\b\b\b\b\b\b\b\b\b\b\b\b\b\b\b\b\b\b\b\b\b\b\b\b\b\b\b\b\b\b\b\b\b\b\b\b\b\b\b\b\b\b\b\b\b\b\b\b\b\b\b\bEpoch 00001: val_acc did not improve\n",
      "5/5 [==============================] - 11s - loss: 0.6979 - acc: 0.4833 - val_loss: 0.7010 - val_acc: 0.4062\n",
      "5/5 [==============================] - 11s - loss: 0.6979 - acc: 0.4833 - val_loss: 0.7010 - val_acc: 0.4062\n"
     ]
    },
    {
     "name": "stderr",
     "output_type": "stream",
     "text": [
      "2017-06-11 13:38:28,150 INFO Saved last weights to ../../output/kaggle-sea-lion/07/last-weights-medium1-class0.h5\n"
     ]
    }
   ],
   "source": [
    "if(RUN_TRAINING):\n",
    "    logger.info('Starting CNN training...')\n",
    "    history = model.fit_generator(train_generator.flow(),\n",
    "                  steps_per_epoch = train_generator.nr_batches,\n",
    "                  nb_epoch = TRAIN_EPOCHS,\n",
    "                  callbacks = cnn.get_callbacks_keras(model, WEIGHTS_DIR, TF_LOGS_DIR),\n",
    "                  validation_data = valid_generator.flow(), \n",
    "                  validation_steps = valid_generator.nr_batches,\n",
    "                  verbose = 1)\n",
    "\n",
    "    if(SAVE_MODEL_FILE!=None):\n",
    "        with open(SAVE_MODEL_FILE, 'w') as model_file:\n",
    "            model_file.write(model.to_yaml())\n",
    "            logger.info('Saved last model to ' + SAVE_MODEL_FILE)\n",
    "    \n",
    "    if(SAVE_WEIGHTS_FILE!=None):\n",
    "        model.save_weights(SAVE_WEIGHTS_FILE)\n",
    "        logger.info('Saved last weights to ' + SAVE_WEIGHTS_FILE)\n"
   ]
  },
  {
   "cell_type": "markdown",
   "metadata": {
    "deletable": true,
    "editable": true
   },
   "source": [
    "### Epoch accuracy/loss"
   ]
  },
  {
   "cell_type": "code",
   "execution_count": 8,
   "metadata": {
    "collapsed": false,
    "deletable": true,
    "editable": true
   },
   "outputs": [
    {
     "name": "stderr",
     "output_type": "stream",
     "text": [
      "2017-06-11 13:38:28,163 INFO Training info\n"
     ]
    },
    {
     "data": {
      "image/png": "[encoded data removed]",
      "text/plain": [
       "<matplotlib.figure.Figure at 0x7ff2f4de6b38>"
      ]
     },
     "metadata": {},
     "output_type": "display_data"
    }
   ],
   "source": [
    "if(RUN_TRAINING):\n",
    "    logger.info('Training info')\n",
    "    cnn.show_training_info_keras(history)"
   ]
  },
  {
   "cell_type": "markdown",
   "metadata": {
    "deletable": true,
    "editable": true
   },
   "source": [
    "### Confusion matrix"
   ]
  },
  {
   "cell_type": "code",
   "execution_count": 9,
   "metadata": {
    "collapsed": false,
    "deletable": true,
    "editable": true,
    "scrolled": false
   },
   "outputs": [
    {
     "name": "stderr",
     "output_type": "stream",
     "text": [
      "2017-06-11 13:38:28,430 INFO Evaluating model performance (32 samples)...\n",
      "2017-06-11 13:38:28,434 INFO starting new flow...\n",
      "2017-06-11 13:38:28,437 INFO starting new flow...\n",
      "2017-06-11 13:38:29,325 INFO Accuracy: 0.75 - Loss: 0.654538691044\n",
      "2017-06-11 13:38:29,328 INFO Predicting Y for detailed analysis...\n",
      "/notebooks/datascience-snippets/kaggle-sea-lion/modules/cnn.py:59: FutureWarning: comparison to `None` will result in an elementwise object comparison in the future.\n",
      "  if(self.y_ds==None):\n",
      "2017-06-11 13:38:30,901 INFO Accuracy: 0.75\n",
      "2017-06-11 13:38:30,903 INFO Number of test samples: 32\n",
      "2017-06-11 13:38:30,905 INFO Kappa score: 0.0 (-1 bad; 0 just luck; 1 great)\n",
      "/usr/local/lib/python3.4/dist-packages/sklearn/metrics/classification.py:1113: UndefinedMetricWarning: Precision and F-score are ill-defined and being set to 0.0 in labels with no predicted samples.\n",
      "  'precision', 'predicted', average, warn_for)\n",
      "2017-06-11 13:38:30,908 INFO \n",
      "             precision    recall  f1-score   support\n",
      "\n",
      "        any       0.00      0.00      0.00         8\n",
      "       male       0.75      1.00      0.86        24\n",
      "\n",
      "avg / total       0.56      0.75      0.64        32\n",
      "\n",
      "/notebooks/datascience-snippets/kaggle-sea-lion/modules/utils.py:828: RuntimeWarning: invalid value encountered in true_divide\n",
      "  acc_class = cm.diagonal()/np.sum(cm, axis=0)\n",
      "2017-06-11 13:38:30,914 INFO Accuracy per class:\n",
      "2017-06-11 13:38:30,915 INFO any: nan%\n",
      "2017-06-11 13:38:30,916 INFO male: 75.0%\n",
      "2017-06-11 13:38:30,917 INFO Confusion matrix:\n",
      "2017-06-11 13:38:30,919 INFO \n",
      "[[ 0  8]\n",
      " [ 0 24]]\n"
     ]
    },
    {
     "data": {
      "image/png": "[encoded data removed]",
      "text/plain": [
       "<matplotlib.figure.Figure at 0x7ff2c5ddde10>"
      ]
     },
     "metadata": {},
     "output_type": "display_data"
    }
   ],
   "source": [
    "cnn.evaluate_dataset_keras(test_generator.flow(), \n",
    "                       test_generator.nr_batches, \n",
    "                       test_generator.size, \n",
    "                       model, \n",
    "                       class_labels=['any', 'male'])"
   ]
  },
  {
   "cell_type": "code",
   "execution_count": 10,
   "metadata": {
    "collapsed": false,
    "deletable": true,
    "editable": true,
    "scrolled": false
   },
   "outputs": [],
   "source": [
    "if(DEBUG):\n",
    "    a = test_generator.flow()\n",
    "    cnn.show_predictions(a, 50, model)"
   ]
  },
  {
   "cell_type": "code",
   "execution_count": null,
   "metadata": {
    "collapsed": false,
    "deletable": true,
    "editable": true,
    "scrolled": false
   },
   "outputs": [],
   "source": []
  },
  {
   "cell_type": "code",
   "execution_count": null,
   "metadata": {
    "collapsed": false,
    "deletable": true,
    "editable": true
   },
   "outputs": [],
   "source": []
  },
  {
   "cell_type": "code",
   "execution_count": null,
   "metadata": {
    "collapsed": false,
    "deletable": true,
    "editable": true
   },
   "outputs": [],
   "source": []
  },
  {
   "cell_type": "code",
   "execution_count": null,
   "metadata": {
    "collapsed": false,
    "deletable": true,
    "editable": true
   },
   "outputs": [],
   "source": []
  },
  {
   "cell_type": "code",
   "execution_count": null,
   "metadata": {
    "collapsed": true,
    "deletable": true,
    "editable": true
   },
   "outputs": [],
   "source": []
  },
  {
   "cell_type": "code",
   "execution_count": null,
   "metadata": {
    "collapsed": true,
    "deletable": true,
    "editable": true
   },
   "outputs": [],
   "source": []
  }
 ],
 "metadata": {
  "kernelspec": {
   "display_name": "Python 3",
   "language": "python",
   "name": "python3"
  },
  "language_info": {
   "codemirror_mode": {
    "name": "ipython",
    "version": 3
   },
   "file_extension": ".py",
   "mimetype": "text/x-python",
   "name": "python",
   "nbconvert_exporter": "python",
   "pygments_lexer": "ipython3",
   "version": "3.4.3"
  }
 },
 "nbformat": 4,
 "nbformat_minor": 0
}
