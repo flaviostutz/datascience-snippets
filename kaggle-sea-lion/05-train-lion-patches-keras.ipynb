{
 "cells": [
  {
   "cell_type": "markdown",
   "metadata": {
    "deletable": true,
    "editable": true
   },
   "source": [
    "## Train sea lion classifier with a convnet"
   ]
  },
  {
   "cell_type": "code",
   "execution_count": 1,
   "metadata": {
    "collapsed": false,
    "deletable": true,
    "editable": true
   },
   "outputs": [],
   "source": [
    "INPUT_DIR = '../../input/kaggle-sea-lion/02/'\n",
    "OUTPUT_DIR = '../../output/kaggle-sea-lion/05/'\n",
    "#IMAGE_DIMS = (148,148,3)\n",
    "IMAGE_DIMS = (84,84,3)\n",
    "#IMAGE_DIMS = (32,32,3)\n",
    "\n",
    "INPUT_DATASET_NAME = 'lion-patches-30px'\n",
    "SAVE_WEIGHTS_FILE = OUTPUT_DIR + 'last-weights.h5'\n",
    "LOAD_WEIGHTS_FILE = None\n",
    "\n",
    "BATCH_SIZE=24"
   ]
  },
  {
   "cell_type": "code",
   "execution_count": 2,
   "metadata": {
    "collapsed": false,
    "deletable": true,
    "editable": true
   },
   "outputs": [
    {
     "name": "stderr",
     "output_type": "stream",
     "text": [
      "Using TensorFlow backend.\n"
     ]
    }
   ],
   "source": [
    "%matplotlib inline\n",
    "import numpy as np\n",
    "import pandas as pd\n",
    "import h5py\n",
    "import matplotlib.pyplot as plt\n",
    "import sklearn\n",
    "import os\n",
    "import glob\n",
    "\n",
    "import keras\n",
    "from keras.preprocessing.image import ImageDataGenerator\n",
    "\n",
    "from modules.logging import logger\n",
    "import modules.utils as utils\n",
    "from modules.utils import Timer\n",
    "import modules.logging\n",
    "import modules.cnn as cnn\n",
    "import modules.lions as lions"
   ]
  },
  {
   "cell_type": "markdown",
   "metadata": {
    "deletable": true,
    "editable": true
   },
   "source": [
    "## Prepare"
   ]
  },
  {
   "cell_type": "markdown",
   "metadata": {
    "deletable": true,
    "editable": true
   },
   "source": [
    "### Prepare output dir"
   ]
  },
  {
   "cell_type": "code",
   "execution_count": 3,
   "metadata": {
    "collapsed": false,
    "deletable": true,
    "editable": true
   },
   "outputs": [
    {
     "name": "stderr",
     "output_type": "stream",
     "text": [
      "2017-04-15 18:51:56,229 INFO Output dirs created\n"
     ]
    }
   ],
   "source": [
    "utils.mkdirs(OUTPUT_DIR, dirs=['tf-logs','weights'], recreate=False)\n",
    "modules.logging.setup_file_logger(OUTPUT_DIR + 'out.log')\n",
    "TF_LOGS_DIR = OUTPUT_DIR + 'tf-logs/'\n",
    "WEIGHTS_DIR = OUTPUT_DIR + 'weights/'\n",
    "input_dataset_path = INPUT_DIR + utils.dataset_name(INPUT_DATASET_NAME, IMAGE_DIMS)\n",
    "\n",
    "logger.info('Output dirs created')"
   ]
  },
  {
   "cell_type": "markdown",
   "metadata": {
    "deletable": true,
    "editable": true
   },
   "source": [
    "### Prepare CNN model"
   ]
  },
  {
   "cell_type": "code",
   "execution_count": 4,
   "metadata": {
    "collapsed": false,
    "deletable": true,
    "editable": true,
    "scrolled": false
   },
   "outputs": [
    {
     "name": "stderr",
     "output_type": "stream",
     "text": [
      "2017-04-15 18:51:56,238 INFO Load CNN model\n"
     ]
    }
   ],
   "source": [
    "logger.info('Load CNN model')\n",
    "#model = lions.convnet_alexnet2_lion_keras(IMAGE_DIMS)\n",
    "model = lions.convnet_simple_lion_keras(IMAGE_DIMS)\n",
    "model.compile(loss='categorical_crossentropy', optimizer='adam', metrics=['accuracy'])"
   ]
  },
  {
   "cell_type": "markdown",
   "metadata": {},
   "source": [
    "### Prepare train, validate and test data flows"
   ]
  },
  {
   "cell_type": "code",
   "execution_count": 5,
   "metadata": {
    "collapsed": false,
    "scrolled": false
   },
   "outputs": [
    {
     "name": "stderr",
     "output_type": "stream",
     "text": [
      "2017-04-15 18:51:56,427 INFO Using dataset ../../input/kaggle-sea-lion/02/lion-patches-30px-84-84.h5 as input\n",
      "2017-04-15 18:51:56,430 INFO train data\n",
      "2017-04-15 18:51:56,432 INFO train size 74304 1161.0\n",
      "2017-04-15 18:51:56,433 INFO loading input data for class distribution analysis...\n",
      "2017-04-15 18:51:56,435 INFO > [started] generator dump...\n"
     ]
    },
    {
     "name": "stdout",
     "output_type": "stream",
     "text": [
      "74304/74304"
     ]
    },
    {
     "name": "stderr",
     "output_type": "stream",
     "text": [
      "2017-04-15 18:52:23,061 INFO > [done]    generator dump (26626.168 ms)\n",
      "2017-04-15 18:52:23,096 INFO raw sample class distribution\n",
      "2017-04-15 18:52:23,097 INFO 0: 11610\n",
      "2017-04-15 18:52:23,098 INFO 1: 0\n",
      "2017-04-15 18:52:23,099 INFO 2: 40635\n",
      "2017-04-15 18:52:23,101 INFO 3: 6966\n",
      "2017-04-15 18:52:23,102 INFO 4: 15093\n",
      "2017-04-15 18:52:23,103 INFO 5: 0\n",
      "2017-04-15 18:52:23,105 INFO overall output samples per class: 6966\n",
      "2017-04-15 18:52:23,106 INFO augmentation/undersampling ratio per class\n",
      "2017-04-15 18:52:23,107 INFO SETUP FLOW 0 1\n",
      "2017-04-15 18:52:23,108 INFO output distribution\n",
      "2017-04-15 18:52:23,110 INFO 0: 0.6 (6966.0)\n",
      "2017-04-15 18:52:23,111 INFO 1: 0.0 (0.0)\n",
      "2017-04-15 18:52:23,112 INFO 2: 0.171428571429 (6966.0)\n",
      "2017-04-15 18:52:23,113 INFO 3: 1.0 (6966.0)\n",
      "2017-04-15 18:52:23,115 INFO 4: 0.461538461538 (6966.0)\n",
      "2017-04-15 18:52:23,116 INFO 5: 0.0 (0.0)\n",
      "2017-04-15 18:52:23,117 INFO estimated size: 27840\n",
      "2017-04-15 18:52:23,119 INFO calculating source range according to start/end range of the desired output..\n",
      "2017-04-15 18:52:23,120 INFO output range 0.0-27840.0\n",
      "2017-04-15 18:52:23,121 INFO start_pos 0\n",
      "2017-04-15 18:52:23,211 INFO source range 0-27840.0\n",
      "2017-04-15 18:52:23,213 INFO SETUP FLOW 0 0.01\n",
      "2017-04-15 18:52:23,214 INFO output distribution\n",
      "2017-04-15 18:52:23,215 INFO 0: 0.6 (69.66)\n",
      "2017-04-15 18:52:23,216 INFO 1: 0.0 (0.0)\n",
      "2017-04-15 18:52:23,218 INFO 2: 0.171428571429 (69.66)\n",
      "2017-04-15 18:52:23,219 INFO 3: 1.0 (69.66)\n",
      "2017-04-15 18:52:23,220 INFO 4: 0.461538461538 (69.66)\n",
      "2017-04-15 18:52:23,222 INFO 5: 0.0 (0.0)\n",
      "2017-04-15 18:52:23,223 INFO estimated size: 256\n",
      "2017-04-15 18:52:23,224 INFO calculating source range according to start/end range of the desired output..\n",
      "2017-04-15 18:52:23,225 INFO output range 0.0-256.0\n",
      "2017-04-15 18:52:23,227 INFO start_pos 0\n",
      "2017-04-15 18:52:23,229 INFO end_pos 723\n",
      "2017-04-15 18:52:23,305 INFO source range 0-723\n",
      "2017-04-15 18:52:23,307 INFO validate data\n",
      "2017-04-15 18:52:23,309 INFO validate size 720 30.0\n"
     ]
    }
   ],
   "source": [
    "logger.info('Using dataset ' + input_dataset_path + ' as input')\n",
    "h5file = h5py.File(input_dataset_path, 'r')\n",
    "\n",
    "logger.info('train data')\n",
    "train_batch_generator = utils.BatchGeneratorXYH5(h5file)\n",
    "\n",
    "logger.info('train size ' + str(train_batch_generator.size) + ' ' + str(train_batch_generator.nr_batches))\n",
    "\n",
    "image_randomize_generator = ImageDataGenerator(\n",
    "        featurewise_center=True,\n",
    "        samplewise_center=False,\n",
    "        featurewise_std_normalization=True,\n",
    "        samplewise_std_normalization=False,\n",
    "        zca_whitening=False,\n",
    "        rotation_range=360,\n",
    "        width_shift_range=0,\n",
    "        height_shift_range=0,\n",
    "        horizontal_flip=False,\n",
    "        vertical_flip=False)\n",
    "\n",
    "train_balance_generator = utils.ClassBalancerGeneratorXY(train_batch_generator,\n",
    "                                                         image_augmentation=image_randomize_generator,\n",
    "                                                         output_weight=(1,1,1,1,1,1),\n",
    "                                                         max_augmentation_ratio=0,\n",
    "                                                         max_undersampling_ratio=1,\n",
    "                                                         enforce_max_ratios=False)\n",
    "\n",
    "train_balance_generator.setup_flow(0, 0.01)\n",
    "train_generator = utils.image_augmentation_xy(train_balance_generator.flow(), image_randomize_generator)\n",
    "\n",
    "logger.info('validate data')\n",
    "validate_batch_generator = utils.BatchGeneratorXYH5(h5file, start_ratio=0.99, end_ratio=1, batch_size=BATCH_SIZE)\n",
    "logger.info('validate size ' + str(validate_batch_generator.size) + ' ' + str(validate_batch_generator.nr_batches))\n",
    "validate_generator = validate_batch_generator"
   ]
  },
  {
   "cell_type": "code",
   "execution_count": 12,
   "metadata": {
    "collapsed": false,
    "scrolled": false
   },
   "outputs": [
    {
     "ename": "SyntaxError",
     "evalue": "invalid syntax (<ipython-input-12-77d67c0bafed>, line 8)",
     "output_type": "error",
     "traceback": [
      "\u001b[0;36m  File \u001b[0;32m\"<ipython-input-12-77d67c0bafed>\"\u001b[0;36m, line \u001b[0;32m8\u001b[0m\n\u001b[0;31m    utils.show_images(X, image_labels=utils.onehot_to_label(Y), group_by_label=False, cols=10, is_bgr=True, size=2)\u001b[0m\n\u001b[0m        ^\u001b[0m\n\u001b[0;31mSyntaxError\u001b[0m\u001b[0;31m:\u001b[0m invalid syntax\n"
     ]
    }
   ],
   "source": [
    "logger.info('show input dataset samples')\n",
    "dataset_path = INPUT_DIR + utils.dataset_name(INPUT_DATASET_NAME, IMAGE_DIMS)\n",
    "with h5py.File(input_dataset_path, 'r') as h5file:\n",
    "    input_generator = utils.BatchGeneratorXYH5(h5file, start_ratio=0, end_ratio=0.001, batch_size=64)\n",
    "    logger.info('input_generator.size=' + str(input_generator.size))\n",
    "    X, Y = utils.dump_xy_to_array(input_generator.flow(), input_generator.size, x=True, y=True)\n",
    "    logger.info('dump len ' + str(len(X)) + ' ' + str(len(Y)) + ' ' + str(np.shape(X)))\n",
    "    utils.show_images(X, image_labels=utils.onehot_to_label(Y), group_by_label=False, cols=10, is_bgr=True, size=2)\n",
    "\n",
    "logger.info('dump balancer generator data')\n",
    "dataset_path = INPUT_DIR + utils.dataset_name(INPUT_DATASET_NAME, IMAGE_DIMS)\n",
    "X_train, Y_train = utils.dump_xy_to_array(train_balance_generator.flow(), train_balance_generator.size)\n",
    "print(np.shape(X_train))\n",
    "print(np.shape(Y_train))\n",
    "print(utils.class_distribution(Y_train).astype('uint'))\n",
    "\n",
    "print('show images from generator')\n",
    "c = 0\n",
    "for xs,ys in train_balance_generator.flow():\n",
    "    if(c>=1):\n",
    "        break\n",
    "    c += 1\n",
    "    utils.show_images(xs, image_labels=utils.onehot_to_label(ys), cols=10, is_bgr=True, size=2)\n",
    "#    for i,x in enumerate(xs):\n",
    "#        if(c>=3):\n",
    "#            break\n",
    "#       print('Y: ' + str(ys[i]))\n",
    "#        print('X: ' + str(np.shape(x)))\n",
    "#        utils.show_image(x, is_bgr=True)\n"
   ]
  },
  {
   "cell_type": "markdown",
   "metadata": {
    "deletable": true,
    "editable": true
   },
   "source": [
    "## Train model"
   ]
  },
  {
   "cell_type": "code",
   "execution_count": 7,
   "metadata": {
    "collapsed": false,
    "deletable": true,
    "editable": true,
    "scrolled": false
   },
   "outputs": [
    {
     "name": "stderr",
     "output_type": "stream",
     "text": [
      "2017-04-15 18:52:32,145 INFO Starting CNN training...\n",
      "/usr/local/lib/python3.4/dist-packages/ipykernel/__main__.py:13: UserWarning: Update your `fit_generator` call to the Keras 2 API: `fit_generator(<generator..., verbose=1, epochs=1, validation_steps=30.0, validation_data=<generator..., steps_per_epoch=4.0, callbacks=None)`\n",
      "2017-04-15 18:52:32,844 INFO starting new flow...\n",
      "2017-04-15 18:52:32,846 INFO source range is 0-723\n"
     ]
    },
    {
     "name": "stdout",
     "output_type": "stream",
     "text": [
      "Epoch 1/1\n"
     ]
    },
    {
     "name": "stderr",
     "output_type": "stream",
     "text": [
      "/usr/local/lib/python3.4/dist-packages/Keras-2.0.2-py3.4.egg/keras/preprocessing/image.py:500: UserWarning: This ImageDataGenerator specifies `featurewise_center`, but it hasn'tbeen fit on any training data. Fit it first by calling `.fit(numpy_data)`.\n",
      "  warnings.warn('This ImageDataGenerator specifies '\n",
      "/usr/local/lib/python3.4/dist-packages/Keras-2.0.2-py3.4.egg/keras/preprocessing/image.py:508: UserWarning: This ImageDataGenerator specifies `featurewise_std_normalization`, but it hasn'tbeen fit on any training data. Fit it first by calling `.fit(numpy_data)`.\n",
      "  warnings.warn('This ImageDataGenerator specifies '\n"
     ]
    },
    {
     "name": "stdout",
     "output_type": "stream",
     "text": [
      "4/4 [==============================] - 19s - loss: 1.5912 - acc: 0.1953 - val_loss: 1.4946 - val_acc: 0.4028\b\b\b\b\b\b\b\b\b\b\b\b\b\b\b\b\b\b\b\b\b\b\b\b\b\b\b\b\b\b\b\b\b\b\b\b\b\b\b\b\b\b\b\b\b\b\b\b\b\b\b\b\b\b\b\b\b\b\b\b\b\b\b\b\b\b\b\b\b\b\b\b\b\b\b\b\b\b\b\b\b\b\b\b\b\b\b\b\b\b\b\b\b\b\b\b\b\b\b\b\b\b\b\b\b\b\b\b\b\b\b\b\b\b\b\b\b\b\b\b\b\b\b\b\b\b\b\b\b\b\b\b\b\b\b\b\b\b\b\b\b\b\b\b\b\b\b\b\b\b\b\b\b\b\b\b\b\b\b\b\b\b\b\b\b\b\b\b\b\b\b\b\b\b\b\b\b\b\b\b\b\b\b\b\b\b\b\b\b\b\b\b\b\b"
     ]
    },
    {
     "name": "stderr",
     "output_type": "stream",
     "text": [
      "2017-04-15 18:52:51,954 INFO Saving last weights...\n"
     ]
    },
    {
     "name": "stdout",
     "output_type": "stream",
     "text": [
      "\n"
     ]
    }
   ],
   "source": [
    "if(LOAD_WEIGHTS_FILE!=None and os.path.isfile(LOAD_WEIGHTS_FILE)):\n",
    "    logger.info('Loading previous weights...')\n",
    "    model.load_weights(WEIGHTS_FILE)\n",
    "\n",
    "logger.info('Starting CNN training...')\n",
    "\n",
    "history = model.fit_generator(train_generator,\n",
    "              steps_per_epoch = train_balance_generator.nr_batches,\n",
    "              nb_epoch = 1, \n",
    "              callbacks = cnn.get_callbacks_keras(model, WEIGHTS_DIR, TF_LOGS_DIR),\n",
    "              validation_data = validate_generator.flow(), \n",
    "              validation_steps = validate_generator.nr_batches,\n",
    "              verbose = 1)\n",
    "\n",
    "if(SAVE_WEIGHTS_FILE!=None):\n",
    "    logger.info('Saving last weights...')\n",
    "    model.save_weights(SAVE_WEIGHTS_FILE)"
   ]
  },
  {
   "cell_type": "markdown",
   "metadata": {
    "deletable": true,
    "editable": true
   },
   "source": [
    "### Epoch accuracy/loss"
   ]
  },
  {
   "cell_type": "code",
   "execution_count": 8,
   "metadata": {
    "collapsed": false
   },
   "outputs": [
    {
     "name": "stderr",
     "output_type": "stream",
     "text": [
      "2017-04-15 18:52:52,182 INFO Training info\n"
     ]
    },
    {
     "data": {
      "image/png": "[encoded data removed]",
      "text/plain": [
       "<matplotlib.figure.Figure at 0x7f9332ba6f28>"
      ]
     },
     "metadata": {},
     "output_type": "display_data"
    }
   ],
   "source": [
    "logger.info('Training info')\n",
    "cnn.show_training_info_keras(history)"
   ]
  },
  {
   "cell_type": "markdown",
   "metadata": {},
   "source": [
    "### Confusion matrix"
   ]
  },
  {
   "cell_type": "code",
   "execution_count": 9,
   "metadata": {
    "collapsed": false,
    "deletable": true,
    "editable": true,
    "scrolled": false
   },
   "outputs": [
    {
     "name": "stderr",
     "output_type": "stream",
     "text": [
      "2017-04-15 18:52:52,552 INFO Evaluating model performance (740 samples)...\n",
      "2017-04-15 18:53:01,480 INFO Accuracy: 0.494594595722 - Loss: 1.45456390929\n",
      "2017-04-15 18:53:01,481 INFO Predicting Y for detailed analysis...\n",
      "2017-04-15 18:53:10,628 INFO > [started] generator dump...\n"
     ]
    },
    {
     "name": "stdout",
     "output_type": "stream",
     "text": [
      "740/740"
     ]
    },
    {
     "name": "stderr",
     "output_type": "stream",
     "text": [
      "2017-04-15 18:53:11,021 INFO > [done]    generator dump (393.188 ms)\n",
      "2017-04-15 18:53:11,023 INFO Nr test samples: 740|740\n",
      "2017-04-15 18:53:11,026 INFO Kappa score (was this luck?): 0.00213447171825\n",
      "2017-04-15 18:53:11,028 INFO Confusion matrix:\n",
      "2017-04-15 18:53:11,029 INFO [[  2  72   0]\n",
      " [  6 364   0]\n",
      " [  4 292   0]]\n"
     ]
    },
    {
     "data": {
      "image/png": "[encoded data removed]",
      "text/plain": [
       "<matplotlib.figure.Figure at 0x7f93320fa0b8>"
      ]
     },
     "metadata": {},
     "output_type": "display_data"
    }
   ],
   "source": [
    "from sklearn import metrics\n",
    "dataset_path = INPUT_DIR + utils.dataset_name(INPUT_DATASET_NAME, IMAGE_DIMS)\n",
    "with h5py.File(input_dataset_path, 'r') as h5file:\n",
    "    test_batch_generator = utils.BatchGeneratorXYH5(h5file, start_ratio=0.7, end_ratio=0.71, batch_size=10)\n",
    "    cnn.evaluate_dataset_keras(test_batch_generator.flow(), test_batch_generator.nr_batches, test_batch_generator.size, model)"
   ]
  },
  {
   "cell_type": "code",
   "execution_count": null,
   "metadata": {
    "collapsed": false,
    "deletable": true,
    "editable": true,
    "scrolled": false
   },
   "outputs": [],
   "source": []
  },
  {
   "cell_type": "code",
   "execution_count": null,
   "metadata": {
    "collapsed": false,
    "deletable": true,
    "editable": true,
    "scrolled": false
   },
   "outputs": [],
   "source": []
  },
  {
   "cell_type": "code",
   "execution_count": null,
   "metadata": {
    "collapsed": false,
    "deletable": true,
    "editable": true
   },
   "outputs": [],
   "source": []
  },
  {
   "cell_type": "code",
   "execution_count": null,
   "metadata": {
    "collapsed": true,
    "deletable": true,
    "editable": true
   },
   "outputs": [],
   "source": []
  }
 ],
 "metadata": {
  "kernelspec": {
   "display_name": "Python 3",
   "language": "python",
   "name": "python3"
  },
  "language_info": {
   "codemirror_mode": {
    "name": "ipython",
    "version": 3
   },
   "file_extension": ".py",
   "mimetype": "text/x-python",
   "name": "python",
   "nbconvert_exporter": "python",
   "pygments_lexer": "ipython3",
   "version": "3.4.3"
  }
 },
 "nbformat": 4,
 "nbformat_minor": 0
}
