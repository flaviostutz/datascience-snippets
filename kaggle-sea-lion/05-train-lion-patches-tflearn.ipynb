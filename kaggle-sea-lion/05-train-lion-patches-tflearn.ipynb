{
 "cells": [
  {
   "cell_type": "markdown",
   "metadata": {
    "deletable": true,
    "editable": true
   },
   "source": [
    "## Train sea lion classifier with a convnet"
   ]
  },
  {
   "cell_type": "code",
   "execution_count": 1,
   "metadata": {
    "collapsed": true,
    "deletable": true,
    "editable": true
   },
   "outputs": [],
   "source": [
    "INPUT_DIR = '../../output/kaggle-sea-lion/02/'\n",
    "OUTPUT_DIR = '../../output/kaggle-sea-lion/03/'\n",
    "IMAGE_DIMS = (148,148,3)\n",
    "\n",
    "MODEL_FILE = OUTPUT_DIR + 'sea-lion-classifier'"
   ]
  },
  {
   "cell_type": "code",
   "execution_count": 2,
   "metadata": {
    "collapsed": false,
    "deletable": true,
    "editable": true
   },
   "outputs": [
    {
     "name": "stderr",
     "output_type": "stream",
     "text": [
      "Using TensorFlow backend.\n"
     ]
    }
   ],
   "source": [
    "%matplotlib inline\n",
    "import numpy as np\n",
    "import pandas as pd\n",
    "import h5py\n",
    "import matplotlib.pyplot as plt\n",
    "import sklearn\n",
    "import os\n",
    "import glob\n",
    "\n",
    "from modules.logging import logger\n",
    "import modules.utils as utils\n",
    "from modules.utils import Timer\n",
    "import modules.logging\n",
    "import modules.cnn as cnn\n",
    "import modules.lions as lions"
   ]
  },
  {
   "cell_type": "markdown",
   "metadata": {
    "deletable": true,
    "editable": true
   },
   "source": [
    "## Training"
   ]
  },
  {
   "cell_type": "markdown",
   "metadata": {
    "deletable": true,
    "editable": true
   },
   "source": [
    "### Prepare output dir"
   ]
  },
  {
   "cell_type": "code",
   "execution_count": 3,
   "metadata": {
    "collapsed": false,
    "deletable": true,
    "editable": true
   },
   "outputs": [
    {
     "name": "stderr",
     "output_type": "stream",
     "text": [
      "2017-04-03 01:12:01,022 INFO Dir ../../output/kaggle-sea-lion/03/ created\n",
      "2017-04-03 01:12:01,024 INFO Found previous model file. It will be loaded on cnn network as its initial state. ../../output/kaggle-sea-lion/03/sea-lion-classifier\n"
     ]
    }
   ],
   "source": [
    "utils.mkdirs(OUTPUT_DIR, recreate=False)\n",
    "modules.logging.setup_file_logger(OUTPUT_DIR + 'out.log')\n",
    "logger.info('Dir ' + OUTPUT_DIR + ' created')\n",
    "\n",
    "load_model_file = None\n",
    "if(os.path.isfile(MODEL_FILE + '.index')):\n",
    "    load_model_file = MODEL_FILE\n",
    "    logger.info('Found previous model file. It will be loaded on cnn network as its initial state. ' + load_model_file)"
   ]
  },
  {
   "cell_type": "markdown",
   "metadata": {
    "deletable": true,
    "editable": true
   },
   "source": [
    "### Prepare CNN model"
   ]
  },
  {
   "cell_type": "code",
   "execution_count": 4,
   "metadata": {
    "collapsed": false,
    "deletable": true,
    "editable": true,
    "scrolled": false
   },
   "outputs": [
    {
     "name": "stderr",
     "output_type": "stream",
     "text": [
      "2017-04-03 01:12:01,039 INFO Prepare CNN for training\n",
      "2017-04-03 01:12:01,226 INFO Prepare CNN\n",
      "2017-04-03 01:12:01,227 INFO Preparing output dir\n",
      "2017-04-03 01:12:01,229 INFO Initializing network...\n",
      "2017-04-03 01:12:03,764 INFO Network initialized\n",
      "2017-04-03 01:12:03,765 INFO Load previous training...\n",
      "2017-04-03 01:12:06,333 INFO Model loaded\n"
     ]
    }
   ],
   "source": [
    "logger.info('Prepare CNN for training')\n",
    "network = lions.convnet_alexnet_lion(IMAGE_DIMS)\n",
    "model = cnn.prepare_cnn_model(network, OUTPUT_DIR, model_file=load_model_file)"
   ]
  },
  {
   "cell_type": "markdown",
   "metadata": {
    "deletable": true,
    "editable": true
   },
   "source": [
    "### Train model"
   ]
  },
  {
   "cell_type": "code",
   "execution_count": 5,
   "metadata": {
    "collapsed": false,
    "deletable": true,
    "editable": true
   },
   "outputs": [
    {
     "name": "stdout",
     "output_type": "stream",
     "text": [
      "Training Step: 29  | total loss: \u001b[1m\u001b[32m1.60029\u001b[0m\u001b[0m | time: 32.292s\n",
      "| Momentum | epoch: 010 | loss: 1.60029 - acc: 0.3534 -- iter: 192/216\n",
      "Training Step: 30  | total loss: \u001b[1m\u001b[32m1.54722\u001b[0m\u001b[0m | time: 58.554s\n",
      "| Momentum | epoch: 010 | loss: 1.54722 - acc: 0.3659 | val_loss: 1.44306 - val_acc: 0.5370 -- iter: 216/216\n",
      "--\n",
      "INFO:tensorflow:/notebooks/output/kaggle-sea-lion/03/tf-checkpoint-best5370 is not in all_model_checkpoint_paths. Manually adding it.\n"
     ]
    },
    {
     "name": "stderr",
     "output_type": "stream",
     "text": [
      "2017-04-03 00:54:07,168 INFO /notebooks/output/kaggle-sea-lion/03/tf-checkpoint-best5370 is not in all_model_checkpoint_paths. Manually adding it.\n"
     ]
    },
    {
     "name": "stdout",
     "output_type": "stream",
     "text": [
      "INFO:tensorflow:/notebooks/output/kaggle-sea-lion/03/sea-lion-classifier is not in all_model_checkpoint_paths. Manually adding it.\n"
     ]
    },
    {
     "name": "stderr",
     "output_type": "stream",
     "text": [
      "2017-04-03 00:54:14,543 INFO /notebooks/output/kaggle-sea-lion/03/sea-lion-classifier is not in all_model_checkpoint_paths. Manually adding it.\n",
      "2017-04-03 00:54:14,670 INFO Network trained and saved as ../../output/kaggle-sea-lion/03/sea-lion-classifier\n"
     ]
    }
   ],
   "source": [
    "dataset_path = INPUT_DIR + utils.dataset_name('lion-patches', IMAGE_DIMS)\n",
    "\n",
    "with h5py.File(dataset_path, 'r') as hdf5:\n",
    "    X,Y = utils.dataset_xy_range(hdf5, 0, 0.9)\n",
    "    logger.info('X shape ' + str(X.shape))\n",
    "    logger.info('Y shape ' + str(Y.shape))\n",
    "\n",
    "    logger.info('Starting CNN training...')\n",
    "    model.fit(X, Y, \n",
    "        validation_set=0.2,\n",
    "        shuffle=True, \n",
    "        batch_size=96, \n",
    "        n_epoch=10,\n",
    "        show_metric=True,\n",
    "        snapshot_epoch=False,\n",
    "        run_id='sea_lion_classifier')\n",
    "\n",
    "model.save(MODEL_FILE)\n",
    "logger.info(\"Network trained and saved as \" + MODEL_FILE)"
   ]
  },
  {
   "cell_type": "markdown",
   "metadata": {
    "deletable": true,
    "editable": true
   },
   "source": [
    "### Evaluate results"
   ]
  },
  {
   "cell_type": "code",
   "execution_count": 5,
   "metadata": {
    "collapsed": false,
    "deletable": true,
    "editable": true,
    "scrolled": false
   },
   "outputs": [
    {
     "name": "stderr",
     "output_type": "stream",
     "text": [
      "2017-04-03 01:12:11,372 INFO Evaluate dataset\n",
      "2017-04-03 01:12:13,403 INFO Accuracy: [0.70000001192092898]\n",
      "2017-04-03 01:12:15,270 INFO Nr test samples: 30\n",
      "2017-04-03 01:12:15,272 INFO Kappa score (was this luck?): -0.125\n",
      "2017-04-03 01:12:15,274 INFO Confusion matrix:\n",
      "2017-04-03 01:12:15,275 INFO [[ 0  2  0  0]\n",
      " [ 4 18  0  0]\n",
      " [ 0  3  0  0]\n",
      " [ 0  3  0  0]]\n"
     ]
    },
    {
     "data": {
      "image/png": "[encoded data removed]",
      "text/plain": [
       "<matplotlib.figure.Figure at 0x7fb89c26e8d0>"
      ]
     },
     "metadata": {},
     "output_type": "display_data"
    }
   ],
   "source": [
    "logger.info('Evaluate dataset')\n",
    "dataset_path = INPUT_DIR + utils.dataset_name('lion-patches', IMAGE_DIMS)\n",
    "\n",
    "with h5py.File(dataset_path, 'r') as hdf5:\n",
    "    X,Y = utils.dataset_xy_range(hdf5, 0.9, 1)\n",
    "    cnn.evaluate_dataset(X, Y, model, batch_size=24, detailed=True)"
   ]
  },
  {
   "cell_type": "code",
   "execution_count": null,
   "metadata": {
    "collapsed": false,
    "deletable": true,
    "editable": true,
    "scrolled": false
   },
   "outputs": [],
   "source": []
  },
  {
   "cell_type": "code",
   "execution_count": null,
   "metadata": {
    "collapsed": false,
    "deletable": true,
    "editable": true
   },
   "outputs": [],
   "source": []
  },
  {
   "cell_type": "code",
   "execution_count": null,
   "metadata": {
    "collapsed": false,
    "deletable": true,
    "editable": true
   },
   "outputs": [],
   "source": []
  },
  {
   "cell_type": "code",
   "execution_count": null,
   "metadata": {
    "collapsed": true,
    "deletable": true,
    "editable": true
   },
   "outputs": [],
   "source": []
  }
 ],
 "metadata": {
  "kernelspec": {
   "display_name": "Python 3",
   "language": "python",
   "name": "python3"
  },
  "language_info": {
   "codemirror_mode": {
    "name": "ipython",
    "version": 3
   },
   "file_extension": ".py",
   "mimetype": "text/x-python",
   "name": "python",
   "nbconvert_exporter": "python",
   "pygments_lexer": "ipython3",
   "version": "3.4.3"
  }
 },
 "nbformat": 4,
 "nbformat_minor": 0
}
