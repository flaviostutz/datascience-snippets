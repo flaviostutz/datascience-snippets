{
 "cells": [
  {
   "cell_type": "code",
   "execution_count": 1,
   "metadata": {
    "collapsed": true
   },
   "outputs": [],
   "source": [
    "INPUT_IMAGE_DIMS = (224, 152, 224, 1)\n",
    "OUTPUT_IMAGE_DIMS = (50, 34, 50, 1)\n",
    "\n",
    "SAVE_IMAGES = True\n",
    "\n",
    "INPUT_FOLDER = '../../input/stage1_some/'\n",
    "OUTPUT_FOLDER = '../../output/step5/'"
   ]
  },
  {
   "cell_type": "code",
   "execution_count": 2,
   "metadata": {
    "collapsed": false
   },
   "outputs": [],
   "source": [
    "import sys\n",
    "import h5py\n",
    "import numpy as np\n",
    "import shutil\n",
    "from scipy.ndimage.interpolation import rotate\n",
    "from scipy.ndimage.interpolation import shift\n",
    "import datetime\n",
    "import logging\n",
    "\n",
    "from modules.logging import logger\n",
    "import modules.logging\n",
    "import modules.lungprepare as lungprepare\n",
    "import modules.utils as utils\n",
    "from modules.utils import Timer"
   ]
  },
  {
   "cell_type": "code",
   "execution_count": 3,
   "metadata": {
    "collapsed": true
   },
   "outputs": [],
   "source": [
    "def create_xy_datasets(name, image_dims, size, output_dir):\n",
    "    dataset_file = output_dir + '{}-centered-rotated-{}-{}-{}.h5'.format(name, image_dims[0], image_dims[1], image_dims[2])\n",
    "    h5f = h5py.File(dataset_file, 'w')\n",
    "    x_ds = h5f.create_dataset('X', (size, image_dims[0], image_dims[1], image_dims[2], 1), chunks=(1, image_dims[0], image_dims[1], image_dims[2], 1), dtype='f')\n",
    "    y_ds = h5f.create_dataset('Y', (size, 2), dtype='f')\n",
    "\n",
    "    logger.debug('input x shape={}'.format(h5f['X'].shape))\n",
    "    x_ds = h5f['X']\n",
    "    y_ds = h5f['Y']\n",
    "    \n",
    "    return h5f, x_ds, y_ds\n"
   ]
  },
  {
   "cell_type": "code",
   "execution_count": 4,
   "metadata": {
    "collapsed": false
   },
   "outputs": [],
   "source": [
    "def distribute(input_x_ds, input_y_ds, output_x_ds, output_y_ds, qtty_label0, qtty_label1, non_usable_patients, resize_factor):\n",
    "    count_label0 = 0\n",
    "    count_label1 = 0\n",
    "    output_index = 0\n",
    "    for i in range(len(input_x_ds)):\n",
    "\n",
    "        if((count_label0+count_label1)>=len(output_x_ds)):\n",
    "            logger.warning('Reached max elements in output dataset. Stopping distribution')\n",
    "            break\n",
    "        \n",
    "        if(i in non_usable_patients):\n",
    "            continue\n",
    "        \n",
    "        label = input_y_ds[i]\n",
    "        valid = False\n",
    "        \n",
    "        #distribute label0 sample\n",
    "        if(label[0]==1 and count_label0<qtty_label0):\n",
    "            count_label0 = count_label0 + 1\n",
    "            valid = True\n",
    "\n",
    "        #distribute label1 sample\n",
    "        elif(label[1]==1 and count_label1<qtty_label1):\n",
    "            count_label1 = count_label1 + 1\n",
    "            valid = True\n",
    "                           \n",
    "        if(valid):\n",
    "            ts = Timer('Resizing patient pixels ' + str(i))\n",
    "            resize_factor = resize_factor[0:3]#REMOVE LATER\n",
    "            image_pixels = scipy.ndimage.interpolation.zoom(input_x_ds[i], resize_factor)\n",
    "            ts.stop()\n",
    "            image_pixels = np.expand_dims(image_pixels, axis=3)#REMOVE LATER\n",
    "            output_x_ds[output_index] = image_pixels\n",
    "            output_y_ds[output_index] = label\n",
    "            output_index = output_index + 1\n",
    "            non_usable_patients.append(i)\n"
   ]
  },
  {
   "cell_type": "code",
   "execution_count": 5,
   "metadata": {
    "collapsed": false
   },
   "outputs": [],
   "source": [
    "def start_processing(input_dir, input_image_dims, output_image_dims, output_dir):\n",
    "    logger.info('Resizing images. input_dir='+ str(input_dir) + ' output_dir=' + output_dir)\n",
    "    \n",
    "    t = Timer('Preparing output dir')\n",
    "    shutil.rmtree(output_dir, True)\n",
    "    try:\n",
    "        os.makedirs(output_dir + 'images')\n",
    "    except:\n",
    "        logger.warning('Ops! Couldnt create output dir')\n",
    "        pass\n",
    "    t.stop()\n",
    "\n",
    "    modules.logging.setup_file_logger(output_dir + 'out.log')\n",
    "\n",
    "    t = Timer('Distributing input dataset among train, validate and test datasets')\n",
    "    len_input_x_ds = None\n",
    "    resize_factor = (output_image_dims[0]/input_image_dims[0], output_image_dims[1]/input_image_dims[1], output_image_dims[2]/input_image_dims[2], output_image_dims[3]/input_image_dims[3])\n",
    "    dataset_file = input_dir + 'data-centered-rotated-{}-{}-{}.h5'.format(input_image_dims[0], input_image_dims[1], input_image_dims[2])\n",
    "    with h5py.File(dataset_file, 'r') as input_h5f:\n",
    "        logger.info('input x shape={}'.format(input_h5f['X'].shape))\n",
    "        input_x_ds = input_h5f['X']\n",
    "        input_y_ds = input_h5f['Y']\n",
    "        len_input_x_ds = len(input_x_ds)\n",
    "        len_input_y_ds = len(input_y_ds)\n",
    "        \n",
    "        if(len_input_x_ds!=len_input_y_ds):\n",
    "            raise Error('X and Y datasets have different sizes!')\n",
    "\n",
    "        logger.info('Calculating label 0|1 proportion')\n",
    "        label_total = np.array([[0,0]])\n",
    "        for pi in range(len_input_x_ds):\n",
    "            label_total = np.array(input_y_ds[pi]) + label_total\n",
    "\n",
    "        label0_total = label_total[0][0]\n",
    "        label1_total = label_total[0][1]\n",
    "        \n",
    "        label0_ratio = label0_total/len_input_y_ds    \n",
    "        label1_ratio = label1_total/len_input_y_ds   \n",
    "\n",
    "        logger.info('Y: total: ' + str(len_input_y_ds))\n",
    "        logger.info('Y: label 0: ' + str(label_total[0][0]) + ' ' + str(100*label0_ratio) + '%')\n",
    "        logger.info('Y: label 1: ' + str(label_total[0][1]) + ' ' + str(100*label1_ratio) + '%')\n",
    "        \n",
    "        logger.info('Calculate patient distribution among datasets')\n",
    "\n",
    "        distributed_patients = []\n",
    "#         total_patients = round(len_input_x_ds*0.2)#REMOVE 0.3 LATER\n",
    "        total_patients = len_input_x_ds\n",
    "        \n",
    "        \n",
    "        #DISTRIBUTE TO TRAIN DATASET\n",
    "        t = Timer('Distribute to train dataset')\n",
    "        train_qtty = round(min(min(label0_total*0.85, label1_total*0.85)*2, total_patients*0.8))\n",
    "        qtty_label0 = round(train_qtty/2)\n",
    "        qtty_label1 = train_qtty - qtty_label0\n",
    "        logger.debug('train_qtty=' + str(train_qtty) + ' qtty_label0=' + str(qtty_label0) + ' qtty_label1=' + str(qtty_label1))\n",
    "        f, x_ds, y_ds = create_xy_datasets('train', output_image_dims, train_qtty, output_dir)\n",
    "        distribute(input_x_ds, input_y_ds, x_ds, y_ds, qtty_label0, qtty_label1, distributed_patients, resize_factor)\n",
    "        f.close()\n",
    "        t.stop()\n",
    "\n",
    "        total_patients = total_patients - train_qtty\n",
    "        label0_total = label0_total - qtty_label0\n",
    "        label1_total = label1_total - qtty_label1\n",
    "        utils.validate_dataset('train', output_image_dims, output_dir)\n",
    "\n",
    "        #DISTRIBUTE TO VALIDATE DATASET\n",
    "        t = Timer('Distribute to validate dataset')\n",
    "        validate_qtty = round(min(min(label0_total*0.5, label1_total*0.5)*2, total_patients*0.5))\n",
    "        qtty_label0 = round(validate_qtty/2)\n",
    "        qtty_label1 = validate_qtty - qtty_label0\n",
    "        logger.debug('validate_qtty=' + str(validate_qtty) + ' qtty_label0=' + str(qtty_label0) + ' qtty_label1=' + str(qtty_label1))\n",
    "        f, x_ds, y_ds = create_xy_datasets('validate', output_image_dims, validate_qtty, output_dir)\n",
    "        distribute(input_x_ds, input_y_ds, x_ds, y_ds, qtty_label0, qtty_label1, distributed_patients, resize_factor)\n",
    "        f.close()\n",
    "        t.stop()\n",
    "        utils.validate_dataset('validate', output_image_dims, output_dir)\n",
    "\n",
    "        total_patients = total_patients - validate_qtty\n",
    "        \n",
    "        #DISTRIBUTE REMAINING TO TEST DATASET\n",
    "        t = Timer('Distribute to test dataset')\n",
    "        test_qtty = total_patients\n",
    "        qtty_label0 = test_qtty\n",
    "        qtty_label1 = test_qtty\n",
    "        logger.debug('test_qtty=' + str(test_qtty) + ' qtty_label0=' + str(qtty_label0) + ' qtty_label1=' + str(qtty_label1))\n",
    "        f, x_ds, y_ds = create_xy_datasets('test', output_image_dims, test_qtty, output_dir)\n",
    "        distribute(input_x_ds, input_y_ds, x_ds, y_ds, qtty_label0, qtty_label1, distributed_patients, resize_factor)\n",
    "        f.close()\n",
    "        t.stop()\n",
    "        utils.validate_dataset('test', output_image_dims, output_dir)\n",
    "\n",
    "    t.stop()\n"
   ]
  },
  {
   "cell_type": "code",
   "execution_count": 6,
   "metadata": {
    "collapsed": false,
    "scrolled": false
   },
   "outputs": [
    {
     "name": "stderr",
     "output_type": "stream",
     "text": [
      "2017-02-21 04:05:56,108 INFO ==== PROCESSING SHARDS MERGE ====\n",
      "2017-02-21 04:05:56,110 INFO Resizing images. input_dir=../../input/stage1_some/ output_dir=../../output/step5/\n",
      "2017-02-21 04:05:56,111 INFO > [started] Preparing output dir...\n",
      "2017-02-21 04:05:56,112 WARNING Ops! Couldnt create output dir\n",
      "2017-02-21 04:05:56,112 INFO > [done]    Preparing output dir (1.689 ms)\n"
     ]
    },
    {
     "ename": "FileNotFoundError",
     "evalue": "[Errno 2] No such file or directory: '/root/output/step5/out.log'",
     "output_type": "error",
     "traceback": [
      "\u001b[0;31m\u001b[0m",
      "\u001b[0;31mFileNotFoundError\u001b[0mTraceback (most recent call last)",
      "\u001b[0;32m<ipython-input-6-9bbcde270ee2>\u001b[0m in \u001b[0;36m<module>\u001b[0;34m()\u001b[0m\n\u001b[1;32m      1\u001b[0m \u001b[0mlogger\u001b[0m\u001b[0;34m.\u001b[0m\u001b[0minfo\u001b[0m\u001b[0;34m(\u001b[0m\u001b[0;34m'==== PROCESSING SHARDS MERGE ===='\u001b[0m\u001b[0;34m)\u001b[0m\u001b[0;34m\u001b[0m\u001b[0m\n\u001b[0;32m----> 2\u001b[0;31m \u001b[0mstart_processing\u001b[0m\u001b[0;34m(\u001b[0m\u001b[0mINPUT_FOLDER\u001b[0m\u001b[0;34m,\u001b[0m \u001b[0mINPUT_IMAGE_DIMS\u001b[0m\u001b[0;34m,\u001b[0m \u001b[0mOUTPUT_IMAGE_DIMS\u001b[0m\u001b[0;34m,\u001b[0m \u001b[0mOUTPUT_FOLDER\u001b[0m\u001b[0;34m)\u001b[0m\u001b[0;34m\u001b[0m\u001b[0m\n\u001b[0m\u001b[1;32m      3\u001b[0m \u001b[0mlogger\u001b[0m\u001b[0;34m.\u001b[0m\u001b[0minfo\u001b[0m\u001b[0;34m(\u001b[0m\u001b[0;34m'==== ALL DONE ===='\u001b[0m\u001b[0;34m)\u001b[0m\u001b[0;34m\u001b[0m\u001b[0m\n",
      "\u001b[0;32m<ipython-input-5-46d535151216>\u001b[0m in \u001b[0;36mstart_processing\u001b[0;34m(input_dir, input_image_dims, output_image_dims, output_dir)\u001b[0m\n\u001b[1;32m     11\u001b[0m     \u001b[0mt\u001b[0m\u001b[0;34m.\u001b[0m\u001b[0mstop\u001b[0m\u001b[0;34m(\u001b[0m\u001b[0;34m)\u001b[0m\u001b[0;34m\u001b[0m\u001b[0m\n\u001b[1;32m     12\u001b[0m \u001b[0;34m\u001b[0m\u001b[0m\n\u001b[0;32m---> 13\u001b[0;31m     \u001b[0mmodules\u001b[0m\u001b[0;34m.\u001b[0m\u001b[0mlogging\u001b[0m\u001b[0;34m.\u001b[0m\u001b[0msetup_file_logger\u001b[0m\u001b[0;34m(\u001b[0m\u001b[0moutput_dir\u001b[0m \u001b[0;34m+\u001b[0m \u001b[0;34m'out.log'\u001b[0m\u001b[0;34m)\u001b[0m\u001b[0;34m\u001b[0m\u001b[0m\n\u001b[0m\u001b[1;32m     14\u001b[0m \u001b[0;34m\u001b[0m\u001b[0m\n\u001b[1;32m     15\u001b[0m     \u001b[0mt\u001b[0m \u001b[0;34m=\u001b[0m \u001b[0mTimer\u001b[0m\u001b[0;34m(\u001b[0m\u001b[0;34m'Distributing input dataset among train, validate and test datasets'\u001b[0m\u001b[0;34m)\u001b[0m\u001b[0;34m\u001b[0m\u001b[0m\n",
      "\u001b[0;32m/root/workspace/kaggle-lung-cancer-detection/modules/logging.py\u001b[0m in \u001b[0;36msetup_file_logger\u001b[0;34m(log_file)\u001b[0m\n\u001b[1;32m     17\u001b[0m     \u001b[0;32mglobal\u001b[0m \u001b[0mlogger\u001b[0m\u001b[0;34m\u001b[0m\u001b[0m\n\u001b[1;32m     18\u001b[0m     \u001b[0;32mif\u001b[0m\u001b[0;34m(\u001b[0m\u001b[0;32mnot\u001b[0m \u001b[0m_file_logger\u001b[0m\u001b[0;34m)\u001b[0m\u001b[0;34m:\u001b[0m\u001b[0;34m\u001b[0m\u001b[0m\n\u001b[0;32m---> 19\u001b[0;31m         \u001b[0mhdlr\u001b[0m \u001b[0;34m=\u001b[0m \u001b[0mlogging\u001b[0m\u001b[0;34m.\u001b[0m\u001b[0mFileHandler\u001b[0m\u001b[0;34m(\u001b[0m\u001b[0mlog_file\u001b[0m\u001b[0;34m)\u001b[0m\u001b[0;34m\u001b[0m\u001b[0m\n\u001b[0m\u001b[1;32m     20\u001b[0m         \u001b[0mhdlr\u001b[0m\u001b[0;34m.\u001b[0m\u001b[0msetLevel\u001b[0m\u001b[0;34m(\u001b[0m\u001b[0mlogging\u001b[0m\u001b[0;34m.\u001b[0m\u001b[0mDEBUG\u001b[0m\u001b[0;34m)\u001b[0m\u001b[0;34m\u001b[0m\u001b[0m\n\u001b[1;32m     21\u001b[0m         \u001b[0mhdlr\u001b[0m\u001b[0;34m.\u001b[0m\u001b[0msetFormatter\u001b[0m\u001b[0;34m(\u001b[0m\u001b[0mlogging\u001b[0m\u001b[0;34m.\u001b[0m\u001b[0mFormatter\u001b[0m\u001b[0;34m(\u001b[0m\u001b[0;34m'%(asctime)s %(levelname)s %(message)s'\u001b[0m\u001b[0;34m)\u001b[0m\u001b[0;34m)\u001b[0m\u001b[0;34m\u001b[0m\u001b[0m\n",
      "\u001b[0;32m/opt/conda/lib/python3.5/logging/__init__.py\u001b[0m in \u001b[0;36m__init__\u001b[0;34m(self, filename, mode, encoding, delay)\u001b[0m\n\u001b[1;32m   1006\u001b[0m             \u001b[0mself\u001b[0m\u001b[0;34m.\u001b[0m\u001b[0mstream\u001b[0m \u001b[0;34m=\u001b[0m \u001b[0;32mNone\u001b[0m\u001b[0;34m\u001b[0m\u001b[0m\n\u001b[1;32m   1007\u001b[0m         \u001b[0;32melse\u001b[0m\u001b[0;34m:\u001b[0m\u001b[0;34m\u001b[0m\u001b[0m\n\u001b[0;32m-> 1008\u001b[0;31m             \u001b[0mStreamHandler\u001b[0m\u001b[0;34m.\u001b[0m\u001b[0m__init__\u001b[0m\u001b[0;34m(\u001b[0m\u001b[0mself\u001b[0m\u001b[0;34m,\u001b[0m \u001b[0mself\u001b[0m\u001b[0;34m.\u001b[0m\u001b[0m_open\u001b[0m\u001b[0;34m(\u001b[0m\u001b[0;34m)\u001b[0m\u001b[0;34m)\u001b[0m\u001b[0;34m\u001b[0m\u001b[0m\n\u001b[0m\u001b[1;32m   1009\u001b[0m \u001b[0;34m\u001b[0m\u001b[0m\n\u001b[1;32m   1010\u001b[0m     \u001b[0;32mdef\u001b[0m \u001b[0mclose\u001b[0m\u001b[0;34m(\u001b[0m\u001b[0mself\u001b[0m\u001b[0;34m)\u001b[0m\u001b[0;34m:\u001b[0m\u001b[0;34m\u001b[0m\u001b[0m\n",
      "\u001b[0;32m/opt/conda/lib/python3.5/logging/__init__.py\u001b[0m in \u001b[0;36m_open\u001b[0;34m(self)\u001b[0m\n\u001b[1;32m   1035\u001b[0m         \u001b[0mReturn\u001b[0m \u001b[0mthe\u001b[0m \u001b[0mresulting\u001b[0m \u001b[0mstream\u001b[0m\u001b[0;34m.\u001b[0m\u001b[0;34m\u001b[0m\u001b[0m\n\u001b[1;32m   1036\u001b[0m         \"\"\"\n\u001b[0;32m-> 1037\u001b[0;31m         \u001b[0;32mreturn\u001b[0m \u001b[0mopen\u001b[0m\u001b[0;34m(\u001b[0m\u001b[0mself\u001b[0m\u001b[0;34m.\u001b[0m\u001b[0mbaseFilename\u001b[0m\u001b[0;34m,\u001b[0m \u001b[0mself\u001b[0m\u001b[0;34m.\u001b[0m\u001b[0mmode\u001b[0m\u001b[0;34m,\u001b[0m \u001b[0mencoding\u001b[0m\u001b[0;34m=\u001b[0m\u001b[0mself\u001b[0m\u001b[0;34m.\u001b[0m\u001b[0mencoding\u001b[0m\u001b[0;34m)\u001b[0m\u001b[0;34m\u001b[0m\u001b[0m\n\u001b[0m\u001b[1;32m   1038\u001b[0m \u001b[0;34m\u001b[0m\u001b[0m\n\u001b[1;32m   1039\u001b[0m     \u001b[0;32mdef\u001b[0m \u001b[0memit\u001b[0m\u001b[0;34m(\u001b[0m\u001b[0mself\u001b[0m\u001b[0;34m,\u001b[0m \u001b[0mrecord\u001b[0m\u001b[0;34m)\u001b[0m\u001b[0;34m:\u001b[0m\u001b[0;34m\u001b[0m\u001b[0m\n",
      "\u001b[0;31mFileNotFoundError\u001b[0m: [Errno 2] No such file or directory: '/root/output/step5/out.log'"
     ]
    }
   ],
   "source": [
    "logger.info('==== PROCESSING SHARDS MERGE ====')\n",
    "start_processing(INPUT_FOLDER, INPUT_IMAGE_DIMS, OUTPUT_IMAGE_DIMS, OUTPUT_FOLDER)\n",
    "logger.info('==== ALL DONE ====')"
   ]
  },
  {
   "cell_type": "code",
   "execution_count": null,
   "metadata": {
    "collapsed": true
   },
   "outputs": [],
   "source": []
  },
  {
   "cell_type": "code",
   "execution_count": null,
   "metadata": {
    "collapsed": true
   },
   "outputs": [],
   "source": []
  },
  {
   "cell_type": "code",
   "execution_count": null,
   "metadata": {
    "collapsed": true
   },
   "outputs": [],
   "source": []
  },
  {
   "cell_type": "code",
   "execution_count": null,
   "metadata": {
    "collapsed": true
   },
   "outputs": [],
   "source": []
  },
  {
   "cell_type": "code",
   "execution_count": null,
   "metadata": {
    "collapsed": true
   },
   "outputs": [],
   "source": []
  }
 ],
 "metadata": {
  "anaconda-cloud": {},
  "kernelspec": {
   "display_name": "Python [default]",
   "language": "python",
   "name": "python3"
  },
  "language_info": {
   "codemirror_mode": {
    "name": "ipython",
    "version": 3
   },
   "file_extension": ".py",
   "mimetype": "text/x-python",
   "name": "python",
   "nbconvert_exporter": "python",
   "pygments_lexer": "ipython3",
   "version": "3.5.2"
  }
 },
 "nbformat": 4,
 "nbformat_minor": 1
}
