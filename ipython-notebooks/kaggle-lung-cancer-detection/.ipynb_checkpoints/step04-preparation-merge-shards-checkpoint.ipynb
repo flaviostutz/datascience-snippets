{
 "cells": [
  {
   "cell_type": "code",
   "execution_count": 6,
   "metadata": {
    "collapsed": true,
    "deletable": true,
    "editable": true
   },
   "outputs": [],
   "source": [
    "#depth, height, width, channels\n",
    "IMAGE_DIMS = (312, 212, 312, 1)\n",
    "\n",
    "NR_SHARDS = 700\n",
    "\n",
    "DATASET_NAME = 'data-centered-rotated'\n",
    "\n",
    "INPUT_FOLDER = '../../../output/kaggle-bowl/step3/'\n",
    "OUTPUT_FOLDER = '../../../output/kaggle-bowl/step4/'"
   ]
  },
  {
   "cell_type": "code",
   "execution_count": 7,
   "metadata": {
    "collapsed": false,
    "deletable": true,
    "editable": true
   },
   "outputs": [],
   "source": [
    "import sys\n",
    "import h5py\n",
    "from random import shuffle\n",
    "import numpy as np\n",
    "from numpy import ndarray\n",
    "import datetime\n",
    "import logging\n",
    "\n",
    "from modules.logging import logger\n",
    "import modules.logging\n",
    "import modules.lungprepare as lungprepare\n",
    "import modules.utils as utils\n",
    "from modules.utils import Timer\n",
    "import modules.logging"
   ]
  },
  {
   "cell_type": "code",
   "execution_count": 8,
   "metadata": {
    "collapsed": false,
    "deletable": true,
    "editable": true
   },
   "outputs": [],
   "source": [
    "def start_processing(input_dir, nr_shards, image_dims, output_dir):\n",
    "    logger.info('Merging shard results. nr_shards=' + str(nr_shards) + ' input_dir='+ str(input_dir) + ' output_dir=' + output_dir)\n",
    "    \n",
    "    t = Timer('Preparing output dir')\n",
    "    utils.mkdirs(output_dir, dirs=['images'], recreate=True)\n",
    "\n",
    "    modules.logging.setup_file_logger(output_dir + 'out.log')\n",
    "\n",
    "    dataset_name = DATASET_NAME\n",
    "\n",
    "    t = Timer('Count total patients among shards')\n",
    "    total_patients = 0\n",
    "    unusable_shards = []\n",
    "    for shard_id in range(1,nr_shards+1):\n",
    "        dataset_dir = input_dir + str(shard_id) + '/'\n",
    "        dataset_file = utils.dataset_path(dataset_dir, dataset_name, image_dims)\n",
    "        with h5py.File(dataset_file, 'r') as h5f:\n",
    "            try:\n",
    "                logger.info('shard_id={} shape={}'.format(shard_id,h5f['X'].shape))\n",
    "                total_patients = total_patients + len(h5f['X'])\n",
    "            except:\n",
    "                logger.warning('no data on shard ' + str(shard_id))\n",
    "                unusable_shards.append(shard_id)\n",
    "                continue\n",
    "        if(not utils.validate_dataset(dataset_dir, dataset_name, image_dims)):\n",
    "            raise Exception('Validation ERROR!')\n",
    "    t.stop()\n",
    "            \n",
    "    logger.info('total_patients=' + str(total_patients))\n",
    "\n",
    "    t = Timer('Creating output merged dataset')\n",
    "    output_dataset_file = utils.dataset_path(output_dir, dataset_name, image_dims)\n",
    "    with h5py.File(output_dataset_file, 'w') as h5f:\n",
    "        x_ds = h5f.create_dataset('X', (total_patients, image_dims[0], image_dims[1], image_dims[2], image_dims[3]), chunks=(1, image_dims[0], image_dims[1], image_dims[2], image_dims[3]), dtype='f')\n",
    "        y_ds = h5f.create_dataset('Y', (total_patients, 2), dtype='f')\n",
    "\n",
    "        logger.info('Merging shards')\n",
    "        pb = 0\n",
    "        for shard_id in range(1,nr_shards+1):\n",
    "            if(shard_id in unusable_shards):\n",
    "                logger.warning('skipping unusable shard ' + str(shard_id))\n",
    "                continue\n",
    "            ts = Timer('Processing shard' + str(shard_id))\n",
    "            dataset_file = utils.dataset_path(input_dir + str(shard_id) + '/', dataset_name, image_dims)\n",
    "            with h5py.File(dataset_file, 'r') as sh5f:\n",
    "                shard_x_ds = sh5f['X']\n",
    "                shard_y_ds = sh5f['Y']\n",
    "                le = len(shard_x_ds)\n",
    "                if(le>0):\n",
    "                    pe = pb + le\n",
    "                    logger.debug('output' + str(pb) + ' ' + str(pe) + ' input ' + str(0) + str(le))\n",
    "                    x_ds[pb:pe] = shard_x_ds[0:le]\n",
    "                    y_ds[pb:pe] = shard_y_ds[0:le]\n",
    "                    pb = pe\n",
    "                else:\n",
    "                    logger.warning('shard ' + str(shard_id) + ' skipped because it has no data')\n",
    "            ts.stop()\n",
    "    t.stop()\n",
    "    \n",
    "    t = Timer('Output dataset validations')\n",
    "    if(not utils.validate_dataset(output_dir, dataset_name, image_dims, save_dir=output_dir + 'images')):\n",
    "        raise Exception('Validation ERROR!')\n",
    "    t.stop()"
   ]
  },
  {
   "cell_type": "code",
   "execution_count": 9,
   "metadata": {
    "collapsed": false,
    "deletable": true,
    "editable": true,
    "scrolled": false
   },
   "outputs": [
    {
     "name": "stderr",
     "output_type": "stream",
     "text": [
      "2017-03-12 23:46:32,969 INFO ==== PROCESSING SHARDS MERGE ====\n",
      "2017-03-12 23:46:32,970 INFO Merging shard results. nr_shards=700 input_dir=../../../output/kaggle-bowl/step3/ output_dir=../../../output/kaggle-bowl/step4/\n",
      "2017-03-12 23:46:32,971 INFO > [started] Preparing output dir...\n",
      "2017-03-12 23:46:32,972 INFO > [started] Count total patients among shards...\n",
      "2017-03-12 23:46:32,973 INFO shard_id=1 shape=(3, 312, 212, 312, 1)\n",
      "2017-03-12 23:46:32,974 INFO VALIDATING DATASET ../../../output/kaggle-bowl/step3/1/data-centered-rotated-312-212-312.h5\n",
      "2017-03-12 23:46:33,207 INFO Summary\n",
      "2017-03-12 23:46:33,208 INFO X shape=(3, 312, 212, 312, 1)\n",
      "2017-03-12 23:46:33,208 INFO Y shape=(3, 2)\n",
      "2017-03-12 23:46:33,209 INFO Y: total: 3\n",
      "2017-03-12 23:46:33,210 INFO Y: label 0: 3.0 100.0%\n",
      "2017-03-12 23:46:33,210 INFO Y: label 1: 0.0 0.0%\n",
      "2017-03-12 23:46:33,211 INFO Recording sample data\n",
      "2017-03-12 23:46:33,212 INFO patient_index 0\n",
      "2017-03-12 23:46:33,212 INFO x=\n",
      "2017-03-12 23:46:33,213 INFO patient_index 1\n",
      "2017-03-12 23:46:33,214 INFO x=\n",
      "2017-03-12 23:46:33,214 INFO patient_index 2\n",
      "2017-03-12 23:46:33,215 INFO x=\n",
      "2017-03-12 23:46:33,216 INFO shard_id=2 shape=(3, 312, 212, 312, 1)\n",
      "2017-03-12 23:46:33,217 INFO VALIDATING DATASET ../../../output/kaggle-bowl/step3/2/data-centered-rotated-312-212-312.h5\n",
      "2017-03-12 23:46:33,451 INFO Summary\n",
      "2017-03-12 23:46:33,452 INFO X shape=(3, 312, 212, 312, 1)\n",
      "2017-03-12 23:46:33,453 INFO Y shape=(3, 2)\n",
      "2017-03-12 23:46:33,454 INFO Y: total: 3\n",
      "2017-03-12 23:46:33,454 INFO Y: label 0: 3.0 100.0%\n",
      "2017-03-12 23:46:33,455 INFO Y: label 1: 0.0 0.0%\n",
      "2017-03-12 23:46:33,456 INFO Recording sample data\n",
      "2017-03-12 23:46:33,456 INFO patient_index 0\n",
      "2017-03-12 23:46:33,457 INFO x=\n",
      "2017-03-12 23:46:33,458 INFO patient_index 1\n",
      "2017-03-12 23:46:33,458 INFO x=\n",
      "2017-03-12 23:46:33,459 INFO patient_index 2\n",
      "2017-03-12 23:46:33,460 INFO x=\n",
      "2017-03-12 23:46:33,461 INFO shard_id=3 shape=(3, 312, 212, 312, 1)\n",
      "2017-03-12 23:46:33,462 INFO VALIDATING DATASET ../../../output/kaggle-bowl/step3/3/data-centered-rotated-312-212-312.h5\n",
      "2017-03-12 23:46:33,695 INFO Summary\n",
      "2017-03-12 23:46:33,696 INFO X shape=(3, 312, 212, 312, 1)\n",
      "2017-03-12 23:46:33,696 INFO Y shape=(3, 2)\n",
      "2017-03-12 23:46:33,697 INFO Y: total: 3\n",
      "2017-03-12 23:46:33,698 INFO Y: label 0: 2.0 66.6666666667%\n",
      "2017-03-12 23:46:33,699 INFO Y: label 1: 1.0 33.3333333333%\n",
      "2017-03-12 23:46:33,699 INFO Recording sample data\n",
      "2017-03-12 23:46:33,700 INFO patient_index 0\n",
      "2017-03-12 23:46:33,701 INFO x=\n",
      "2017-03-12 23:46:33,701 INFO patient_index 1\n",
      "2017-03-12 23:46:33,702 INFO x=\n",
      "2017-03-12 23:46:33,703 INFO patient_index 2\n",
      "2017-03-12 23:46:33,703 INFO x=\n",
      "2017-03-12 23:46:33,705 INFO shard_id=4 shape=(3, 312, 212, 312, 1)\n",
      "2017-03-12 23:46:33,706 INFO VALIDATING DATASET ../../../output/kaggle-bowl/step3/4/data-centered-rotated-312-212-312.h5\n",
      "2017-03-12 23:46:33,940 INFO Summary\n",
      "2017-03-12 23:46:33,941 INFO X shape=(3, 312, 212, 312, 1)\n",
      "2017-03-12 23:46:33,942 INFO Y shape=(3, 2)\n",
      "2017-03-12 23:46:33,942 INFO Y: total: 3\n",
      "2017-03-12 23:46:33,943 INFO Y: label 0: 3.0 100.0%\n",
      "2017-03-12 23:46:33,944 INFO Y: label 1: 0.0 0.0%\n",
      "2017-03-12 23:46:33,945 INFO Recording sample data\n",
      "2017-03-12 23:46:33,945 INFO patient_index 0\n",
      "2017-03-12 23:46:33,946 INFO x=\n",
      "2017-03-12 23:46:33,947 INFO patient_index 1\n",
      "2017-03-12 23:46:33,947 INFO x=\n",
      "2017-03-12 23:46:33,948 INFO patient_index 2\n",
      "2017-03-12 23:46:33,949 INFO x=\n",
      "2017-03-12 23:46:33,950 INFO shard_id=5 shape=(3, 312, 212, 312, 1)\n",
      "2017-03-12 23:46:33,951 INFO VALIDATING DATASET ../../../output/kaggle-bowl/step3/5/data-centered-rotated-312-212-312.h5\n",
      "2017-03-12 23:46:34,184 INFO Summary\n",
      "2017-03-12 23:46:34,185 INFO X shape=(3, 312, 212, 312, 1)\n",
      "2017-03-12 23:46:34,186 INFO Y shape=(3, 2)\n",
      "2017-03-12 23:46:34,187 INFO Y: total: 3\n",
      "2017-03-12 23:46:34,188 INFO Y: label 0: 2.0 66.6666666667%\n",
      "2017-03-12 23:46:34,188 INFO Y: label 1: 1.0 33.3333333333%\n",
      "2017-03-12 23:46:34,189 INFO Recording sample data\n",
      "2017-03-12 23:46:34,190 INFO patient_index 0\n",
      "2017-03-12 23:46:34,190 INFO x=\n",
      "2017-03-12 23:46:34,191 INFO patient_index 1\n",
      "2017-03-12 23:46:34,192 INFO x=\n",
      "2017-03-12 23:46:34,192 INFO patient_index 2\n",
      "2017-03-12 23:46:34,193 INFO x=\n",
      "2017-03-12 23:46:34,194 WARNING no data on shard 6\n",
      "2017-03-12 23:46:34,195 INFO VALIDATING DATASET ../../../output/kaggle-bowl/step3/6/data-centered-rotated-312-212-312.h5\n"
     ]
    },
    {
     "ename": "KeyError",
     "evalue": "\"Unable to open object (Object 'x' doesn't exist)\"",
     "output_type": "error",
     "traceback": [
      "\u001b[0;31m---------------------------------------------------------------------------\u001b[0m",
      "\u001b[0;31mKeyError\u001b[0m                                  Traceback (most recent call last)",
      "\u001b[0;32m<ipython-input-9-62ccd5fa6403>\u001b[0m in \u001b[0;36m<module>\u001b[0;34m()\u001b[0m\n\u001b[1;32m      1\u001b[0m \u001b[0mlogger\u001b[0m\u001b[0;34m.\u001b[0m\u001b[0minfo\u001b[0m\u001b[0;34m(\u001b[0m\u001b[0;34m'==== PROCESSING SHARDS MERGE ===='\u001b[0m\u001b[0;34m)\u001b[0m\u001b[0;34m\u001b[0m\u001b[0m\n\u001b[0;32m----> 2\u001b[0;31m \u001b[0mstart_processing\u001b[0m\u001b[0;34m(\u001b[0m\u001b[0mINPUT_FOLDER\u001b[0m\u001b[0;34m,\u001b[0m \u001b[0mNR_SHARDS\u001b[0m\u001b[0;34m,\u001b[0m \u001b[0mIMAGE_DIMS\u001b[0m\u001b[0;34m,\u001b[0m \u001b[0mOUTPUT_FOLDER\u001b[0m\u001b[0;34m)\u001b[0m\u001b[0;34m\u001b[0m\u001b[0m\n\u001b[0m\u001b[1;32m      3\u001b[0m \u001b[0mlogger\u001b[0m\u001b[0;34m.\u001b[0m\u001b[0minfo\u001b[0m\u001b[0;34m(\u001b[0m\u001b[0;34m'==== ALL DONE ===='\u001b[0m\u001b[0;34m)\u001b[0m\u001b[0;34m\u001b[0m\u001b[0m\n",
      "\u001b[0;32m<ipython-input-8-b3100492d5d1>\u001b[0m in \u001b[0;36mstart_processing\u001b[0;34m(input_dir, nr_shards, image_dims, output_dir)\u001b[0m\n\u001b[1;32m     22\u001b[0m                 \u001b[0mlogger\u001b[0m\u001b[0;34m.\u001b[0m\u001b[0mwarning\u001b[0m\u001b[0;34m(\u001b[0m\u001b[0;34m'no data on shard '\u001b[0m \u001b[0;34m+\u001b[0m \u001b[0mstr\u001b[0m\u001b[0;34m(\u001b[0m\u001b[0mshard_id\u001b[0m\u001b[0;34m)\u001b[0m\u001b[0;34m)\u001b[0m\u001b[0;34m\u001b[0m\u001b[0m\n\u001b[1;32m     23\u001b[0m                 \u001b[0munusable_shards\u001b[0m\u001b[0;34m.\u001b[0m\u001b[0mappend\u001b[0m\u001b[0;34m(\u001b[0m\u001b[0mshard_id\u001b[0m\u001b[0;34m)\u001b[0m\u001b[0;34m\u001b[0m\u001b[0m\n\u001b[0;32m---> 24\u001b[0;31m         \u001b[0;32mif\u001b[0m\u001b[0;34m(\u001b[0m\u001b[0;32mnot\u001b[0m \u001b[0mutils\u001b[0m\u001b[0;34m.\u001b[0m\u001b[0mvalidate_dataset\u001b[0m\u001b[0;34m(\u001b[0m\u001b[0mdataset_dir\u001b[0m\u001b[0;34m,\u001b[0m \u001b[0mdataset_name\u001b[0m\u001b[0;34m,\u001b[0m \u001b[0mimage_dims\u001b[0m\u001b[0;34m)\u001b[0m\u001b[0;34m)\u001b[0m\u001b[0;34m:\u001b[0m\u001b[0;34m\u001b[0m\u001b[0m\n\u001b[0m\u001b[1;32m     25\u001b[0m             \u001b[0;32mraise\u001b[0m \u001b[0mException\u001b[0m\u001b[0;34m(\u001b[0m\u001b[0;34m'Validation ERROR!'\u001b[0m\u001b[0;34m)\u001b[0m\u001b[0;34m\u001b[0m\u001b[0m\n\u001b[1;32m     26\u001b[0m     \u001b[0mt\u001b[0m\u001b[0;34m.\u001b[0m\u001b[0mstop\u001b[0m\u001b[0;34m(\u001b[0m\u001b[0;34m)\u001b[0m\u001b[0;34m\u001b[0m\u001b[0m\n",
      "\u001b[0;32m/notebooks/datascience-snippets/ipython-notebooks/kaggle-lung-cancer-detection/modules/utils.py\u001b[0m in \u001b[0;36mvalidate_dataset\u001b[0;34m(dataset_dir, name, image_dims, save_dir)\u001b[0m\n\u001b[1;32m     53\u001b[0m \u001b[0;34m\u001b[0m\u001b[0m\n\u001b[1;32m     54\u001b[0m     \u001b[0;32mwith\u001b[0m \u001b[0mh5py\u001b[0m\u001b[0;34m.\u001b[0m\u001b[0mFile\u001b[0m\u001b[0;34m(\u001b[0m\u001b[0mdataset_file\u001b[0m\u001b[0;34m,\u001b[0m \u001b[0;34m'r'\u001b[0m\u001b[0;34m)\u001b[0m \u001b[0;32mas\u001b[0m \u001b[0mh5f\u001b[0m\u001b[0;34m:\u001b[0m\u001b[0;34m\u001b[0m\u001b[0m\n\u001b[0;32m---> 55\u001b[0;31m         \u001b[0mx_ds\u001b[0m \u001b[0;34m=\u001b[0m \u001b[0mh5f\u001b[0m\u001b[0;34m[\u001b[0m\u001b[0;34m'X'\u001b[0m\u001b[0;34m]\u001b[0m\u001b[0;34m\u001b[0m\u001b[0m\n\u001b[0m\u001b[1;32m     56\u001b[0m         \u001b[0my_ds\u001b[0m \u001b[0;34m=\u001b[0m \u001b[0mh5f\u001b[0m\u001b[0;34m[\u001b[0m\u001b[0;34m'Y'\u001b[0m\u001b[0;34m]\u001b[0m\u001b[0;34m\u001b[0m\u001b[0m\n\u001b[1;32m     57\u001b[0m \u001b[0;34m\u001b[0m\u001b[0m\n",
      "\u001b[0;32mh5py/_objects.pyx\u001b[0m in \u001b[0;36mh5py._objects.with_phil.wrapper (/tmp/pip-eeirwumi-build/h5py/_objects.c:2684)\u001b[0;34m()\u001b[0m\n",
      "\u001b[0;32mh5py/_objects.pyx\u001b[0m in \u001b[0;36mh5py._objects.with_phil.wrapper (/tmp/pip-eeirwumi-build/h5py/_objects.c:2642)\u001b[0;34m()\u001b[0m\n",
      "\u001b[0;32m/usr/local/lib/python3.4/dist-packages/h5py/_hl/group.py\u001b[0m in \u001b[0;36m__getitem__\u001b[0;34m(self, name)\u001b[0m\n\u001b[1;32m    164\u001b[0m                 \u001b[0;32mraise\u001b[0m \u001b[0mValueError\u001b[0m\u001b[0;34m(\u001b[0m\u001b[0;34m\"Invalid HDF5 object reference\"\u001b[0m\u001b[0;34m)\u001b[0m\u001b[0;34m\u001b[0m\u001b[0m\n\u001b[1;32m    165\u001b[0m         \u001b[0;32melse\u001b[0m\u001b[0;34m:\u001b[0m\u001b[0;34m\u001b[0m\u001b[0m\n\u001b[0;32m--> 166\u001b[0;31m             \u001b[0moid\u001b[0m \u001b[0;34m=\u001b[0m \u001b[0mh5o\u001b[0m\u001b[0;34m.\u001b[0m\u001b[0mopen\u001b[0m\u001b[0;34m(\u001b[0m\u001b[0mself\u001b[0m\u001b[0;34m.\u001b[0m\u001b[0mid\u001b[0m\u001b[0;34m,\u001b[0m \u001b[0mself\u001b[0m\u001b[0;34m.\u001b[0m\u001b[0m_e\u001b[0m\u001b[0;34m(\u001b[0m\u001b[0mname\u001b[0m\u001b[0;34m)\u001b[0m\u001b[0;34m,\u001b[0m \u001b[0mlapl\u001b[0m\u001b[0;34m=\u001b[0m\u001b[0mself\u001b[0m\u001b[0;34m.\u001b[0m\u001b[0m_lapl\u001b[0m\u001b[0;34m)\u001b[0m\u001b[0;34m\u001b[0m\u001b[0m\n\u001b[0m\u001b[1;32m    167\u001b[0m \u001b[0;34m\u001b[0m\u001b[0m\n\u001b[1;32m    168\u001b[0m         \u001b[0motype\u001b[0m \u001b[0;34m=\u001b[0m \u001b[0mh5i\u001b[0m\u001b[0;34m.\u001b[0m\u001b[0mget_type\u001b[0m\u001b[0;34m(\u001b[0m\u001b[0moid\u001b[0m\u001b[0;34m)\u001b[0m\u001b[0;34m\u001b[0m\u001b[0m\n",
      "\u001b[0;32mh5py/_objects.pyx\u001b[0m in \u001b[0;36mh5py._objects.with_phil.wrapper (/tmp/pip-eeirwumi-build/h5py/_objects.c:2684)\u001b[0;34m()\u001b[0m\n",
      "\u001b[0;32mh5py/_objects.pyx\u001b[0m in \u001b[0;36mh5py._objects.with_phil.wrapper (/tmp/pip-eeirwumi-build/h5py/_objects.c:2642)\u001b[0;34m()\u001b[0m\n",
      "\u001b[0;32mh5py/h5o.pyx\u001b[0m in \u001b[0;36mh5py.h5o.open (/tmp/pip-eeirwumi-build/h5py/h5o.c:3570)\u001b[0;34m()\u001b[0m\n",
      "\u001b[0;31mKeyError\u001b[0m: \"Unable to open object (Object 'x' doesn't exist)\""
     ]
    }
   ],
   "source": [
    "logger.info('==== PROCESSING SHARDS MERGE ====')\n",
    "start_processing(INPUT_FOLDER, NR_SHARDS, IMAGE_DIMS, OUTPUT_FOLDER)\n",
    "logger.info('==== ALL DONE ====')"
   ]
  },
  {
   "cell_type": "code",
   "execution_count": null,
   "metadata": {
    "collapsed": true,
    "deletable": true,
    "editable": true
   },
   "outputs": [],
   "source": []
  },
  {
   "cell_type": "code",
   "execution_count": null,
   "metadata": {
    "collapsed": true,
    "deletable": true,
    "editable": true
   },
   "outputs": [],
   "source": []
  },
  {
   "cell_type": "code",
   "execution_count": null,
   "metadata": {
    "collapsed": true,
    "deletable": true,
    "editable": true
   },
   "outputs": [],
   "source": []
  },
  {
   "cell_type": "code",
   "execution_count": null,
   "metadata": {
    "collapsed": true,
    "deletable": true,
    "editable": true
   },
   "outputs": [],
   "source": []
  },
  {
   "cell_type": "code",
   "execution_count": null,
   "metadata": {
    "collapsed": true,
    "deletable": true,
    "editable": true
   },
   "outputs": [],
   "source": []
  }
 ],
 "metadata": {
  "anaconda-cloud": {},
  "kernelspec": {
   "display_name": "Python 3",
   "language": "python",
   "name": "python3"
  },
  "language_info": {
   "codemirror_mode": {
    "name": "ipython",
    "version": 3
   },
   "file_extension": ".py",
   "mimetype": "text/x-python",
   "name": "python",
   "nbconvert_exporter": "python",
   "pygments_lexer": "ipython3",
   "version": "3.4.3"
  }
 },
 "nbformat": 4,
 "nbformat_minor": 1
}
