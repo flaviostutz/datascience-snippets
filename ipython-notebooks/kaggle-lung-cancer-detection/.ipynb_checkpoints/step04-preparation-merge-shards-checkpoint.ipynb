{
 "cells": [
  {
   "cell_type": "code",
   "execution_count": 5,
   "metadata": {
    "collapsed": true,
    "deletable": true,
    "editable": true
   },
   "outputs": [],
   "source": [
    "#depth, height, width, channels\n",
    "IMAGE_DIMS = (312, 212, 312, 1)\n",
    "\n",
    "NR_SHARDS = 700\n",
    "\n",
    "DATASET_NAME = 'data-centered-rotated'\n",
    "\n",
    "INPUT_FOLDER = '../../../output/kaggle-bowl/step3/'\n",
    "OUTPUT_FOLDER = '../../../output/kaggle-bowl/step4/'"
   ]
  },
  {
   "cell_type": "code",
   "execution_count": 6,
   "metadata": {
    "collapsed": false,
    "deletable": true,
    "editable": true
   },
   "outputs": [],
   "source": [
    "import sys\n",
    "import h5py\n",
    "from random import shuffle\n",
    "import numpy as np\n",
    "from numpy import ndarray\n",
    "import datetime\n",
    "import logging\n",
    "\n",
    "from modules.logging import logger\n",
    "import modules.logging\n",
    "import modules.lungprepare as lungprepare\n",
    "import modules.utils as utils\n",
    "from modules.utils import Timer\n",
    "import modules.logging"
   ]
  },
  {
   "cell_type": "code",
   "execution_count": 7,
   "metadata": {
    "collapsed": false,
    "deletable": true,
    "editable": true
   },
   "outputs": [],
   "source": [
    "def start_processing(input_dir, nr_shards, image_dims, output_dir):\n",
    "    logger.info('Merging shard results. nr_shards=' + str(nr_shards) + ' input_dir='+ str(input_dir) + ' output_dir=' + output_dir)\n",
    "    \n",
    "    t = Timer('Preparing output dir')\n",
    "    utils.mkdirs(output_dir, dirs=['images'], recreate=True)\n",
    "\n",
    "    modules.logging.setup_file_logger(output_dir + 'out.log')\n",
    "\n",
    "    dataset_name = DATASET_NAME\n",
    "\n",
    "    t = Timer('Count total patients among shards')\n",
    "    total_patients = 0\n",
    "    for shard_id in range(1,nr_shards+1):\n",
    "        dataset_dir = input_dir + str(shard_id) + '/'\n",
    "        dataset_file = utils.dataset_path(dataset_dir, dataset_name, image_dims)\n",
    "        with h5py.File(dataset_file, 'r') as h5f:\n",
    "            logger.info('shard_id={} shape={}'.format(shard_id,h5f['X'].shape))\n",
    "            total_patients = total_patients + len(h5f['X'])\n",
    "        if(not utils.validate_dataset(dataset_dir, dataset_name, image_dims)):\n",
    "            raise Exception('Validation ERROR!')\n",
    "    t.stop()\n",
    "            \n",
    "    logger.info('total_patients=' + str(total_patients))\n",
    "\n",
    "    t = Timer('Creating output merged dataset')\n",
    "    output_dataset_file = utils.dataset_path(output_dir, dataset_name, image_dims)\n",
    "    with h5py.File(output_dataset_file, 'w') as h5f:\n",
    "        x_ds = h5f.create_dataset('X', (total_patients, image_dims[0], image_dims[1], image_dims[2], image_dims[3]), chunks=(1, image_dims[0], image_dims[1], image_dims[2], image_dims[3]), dtype='f')\n",
    "        y_ds = h5f.create_dataset('Y', (total_patients, 2), dtype='f')\n",
    "\n",
    "        logger.info('Merging shards')\n",
    "        pb = 0\n",
    "        for shard_id in range(1,nr_shards+1):\n",
    "            ts = Timer('Processing shard' + str(shard_id))\n",
    "            dataset_file = utils.dataset_path(input_dir + str(shard_id) + '/', dataset_name, image_dims)\n",
    "            with h5py.File(dataset_file, 'r') as sh5f:\n",
    "                shard_x_ds = sh5f['X']\n",
    "                shard_y_ds = sh5f['Y']\n",
    "                le = len(shard_x_ds)\n",
    "                pe = pb + le\n",
    "                logger.debug('output' + str(pb) + ' ' + str(pe) + ' input ' + str(0) + str(le))\n",
    "                x_ds[pb:pe] = shard_x_ds[0:le]\n",
    "                y_ds[pb:pe] = shard_y_ds[0:le]\n",
    "                pb = pe\n",
    "            ts.stop()\n",
    "    t.stop()\n",
    "    \n",
    "    t = Timer('Output dataset validations')\n",
    "    if(not utils.validate_dataset(output_dir, dataset_name, image_dims, save_dir=output_dir + 'images'))):\n",
    "        raise Exception('Validation ERROR!')\n",
    "    t.stop()"
   ]
  },
  {
   "cell_type": "code",
   "execution_count": 9,
   "metadata": {
    "collapsed": false,
    "deletable": true,
    "editable": true,
    "scrolled": false
   },
   "outputs": [
    {
     "name": "stderr",
     "output_type": "stream",
     "text": [
      "2017-02-22 02:24:40,134 INFO ==== PROCESSING SHARDS MERGE ====\n",
      "2017-02-22 02:24:40,136 INFO Merging shard results. nr_shards=2 input_dir=../../output/step3/ output_dir=../../output/step4/\n",
      "2017-02-22 02:24:40,137 INFO > [started] Preparing output dir...\n",
      "2017-02-22 02:24:40,403 INFO > [started] Count total patients among shards...\n",
      "2017-02-22 02:24:40,404 INFO shard_id=1 shape=(19, 224, 152, 224, 1)\n",
      "2017-02-22 02:24:40,405 INFO VALIDATING DATASET ../../output/step3/1/data-centered-rotated-224-152-224.h5\n",
      "2017-02-22 02:24:40,731 INFO Summary\n",
      "2017-02-22 02:24:40,732 INFO X shape=(19, 224, 152, 224, 1)\n",
      "2017-02-22 02:24:40,733 INFO Y shape=(19, 2)\n",
      "2017-02-22 02:24:40,734 INFO Y: total: 19\n",
      "2017-02-22 02:24:40,734 INFO Y: label 0: 14.0 73.6842105263%\n",
      "2017-02-22 02:24:40,735 INFO Y: label 1: 5.0 26.3157894737%\n",
      "2017-02-22 02:24:40,736 INFO Recording sample data\n",
      "2017-02-22 02:24:40,737 INFO patient_index 0\n",
      "2017-02-22 02:24:40,738 INFO x=\n",
      "2017-02-22 02:24:40,738 INFO patient_index 6\n",
      "2017-02-22 02:24:40,739 INFO x=\n",
      "2017-02-22 02:24:40,740 INFO patient_index 13\n",
      "2017-02-22 02:24:40,741 INFO x=\n",
      "2017-02-22 02:24:40,742 INFO shard_id=2 shape=(19, 224, 152, 224, 1)\n",
      "2017-02-22 02:24:40,743 INFO VALIDATING DATASET ../../output/step3/2/data-centered-rotated-224-152-224.h5\n",
      "2017-02-22 02:24:42,252 INFO Summary\n",
      "2017-02-22 02:24:42,252 INFO X shape=(19, 224, 152, 224, 1)\n",
      "2017-02-22 02:24:42,253 INFO Y shape=(19, 2)\n",
      "2017-02-22 02:24:42,254 INFO Y: total: 19\n",
      "2017-02-22 02:24:42,255 INFO Y: label 0: 14.0 73.6842105263%\n",
      "2017-02-22 02:24:42,255 INFO Y: label 1: 5.0 26.3157894737%\n",
      "2017-02-22 02:24:42,256 INFO Recording sample data\n",
      "2017-02-22 02:24:42,257 INFO patient_index 0\n",
      "2017-02-22 02:24:42,258 INFO x=\n",
      "2017-02-22 02:24:42,258 INFO patient_index 6\n",
      "2017-02-22 02:24:42,259 INFO x=\n",
      "2017-02-22 02:24:42,260 INFO patient_index 13\n",
      "2017-02-22 02:24:42,260 INFO x=\n",
      "2017-02-22 02:24:42,261 INFO > [done]    Count total patients among shards (1858.807 ms)\n",
      "2017-02-22 02:24:42,262 INFO total_patients=38\n",
      "2017-02-22 02:24:42,263 INFO > [started] Creating output merged dataset...\n",
      "2017-02-22 02:24:42,264 INFO Merging shards\n",
      "2017-02-22 02:24:42,265 INFO > [started] Processing shard1...\n",
      "2017-02-22 02:24:42,267 DEBUG output0 19 input 019\n",
      "2017-02-22 02:24:43,047 INFO > [done]    Processing shard1 (781.913 ms)\n",
      "2017-02-22 02:24:43,049 INFO > [started] Processing shard2...\n",
      "2017-02-22 02:24:43,050 DEBUG output19 38 input 019\n",
      "2017-02-22 02:24:46,994 INFO > [done]    Processing shard2 (3944.436 ms)\n",
      "2017-02-22 02:24:46,995 INFO > [done]    Creating output merged dataset (4732.625 ms)\n",
      "2017-02-22 02:24:46,996 INFO > [started] Output dataset validations...\n",
      "2017-02-22 02:24:46,997 INFO VALIDATING DATASET ../../output/step4/data-centered-rotated-224-152-224.h5\n",
      "2017-02-22 02:24:48,350 INFO Summary\n",
      "2017-02-22 02:24:48,351 INFO X shape=(38, 224, 152, 224, 1)\n",
      "2017-02-22 02:24:48,353 INFO Y shape=(38, 2)\n",
      "2017-02-22 02:24:48,355 INFO Y: total: 38\n",
      "2017-02-22 02:24:48,356 INFO Y: label 0: 28.0 73.6842105263%\n",
      "2017-02-22 02:24:48,358 INFO Y: label 1: 10.0 26.3157894737%\n",
      "2017-02-22 02:24:48,360 INFO Recording sample data\n",
      "2017-02-22 02:24:48,361 INFO patient_index 0\n",
      "2017-02-22 02:24:48,362 INFO x=\n",
      "2017-02-22 02:24:48,363 INFO patient_index 13\n",
      "2017-02-22 02:24:48,364 INFO x=\n",
      "2017-02-22 02:24:48,365 INFO patient_index 25\n",
      "2017-02-22 02:24:48,365 INFO x=\n",
      "2017-02-22 02:24:48,366 INFO > [done]    Output dataset validations (1370.291 ms)\n",
      "2017-02-22 02:24:48,367 INFO ==== ALL DONE ====\n"
     ]
    }
   ],
   "source": [
    "logger.info('==== PROCESSING SHARDS MERGE ====')\n",
    "start_processing(INPUT_FOLDER, NR_SHARDS, IMAGE_DIMS, OUTPUT_FOLDER)\n",
    "logger.info('==== ALL DONE ====')"
   ]
  },
  {
   "cell_type": "code",
   "execution_count": null,
   "metadata": {
    "collapsed": true,
    "deletable": true,
    "editable": true
   },
   "outputs": [],
   "source": []
  },
  {
   "cell_type": "code",
   "execution_count": null,
   "metadata": {
    "collapsed": true,
    "deletable": true,
    "editable": true
   },
   "outputs": [],
   "source": []
  },
  {
   "cell_type": "code",
   "execution_count": null,
   "metadata": {
    "collapsed": true,
    "deletable": true,
    "editable": true
   },
   "outputs": [],
   "source": []
  },
  {
   "cell_type": "code",
   "execution_count": null,
   "metadata": {
    "collapsed": true,
    "deletable": true,
    "editable": true
   },
   "outputs": [],
   "source": []
  },
  {
   "cell_type": "code",
   "execution_count": null,
   "metadata": {
    "collapsed": true,
    "deletable": true,
    "editable": true
   },
   "outputs": [],
   "source": []
  }
 ],
 "metadata": {
  "anaconda-cloud": {},
  "kernelspec": {
   "display_name": "Python 3",
   "language": "python",
   "name": "python3"
  },
  "language_info": {
   "codemirror_mode": {
    "name": "ipython",
    "version": 3
   },
   "file_extension": ".py",
   "mimetype": "text/x-python",
   "name": "python",
   "nbconvert_exporter": "python",
   "pygments_lexer": "ipython3",
   "version": "3.4.3"
  }
 },
 "nbformat": 4,
 "nbformat_minor": 1
}
