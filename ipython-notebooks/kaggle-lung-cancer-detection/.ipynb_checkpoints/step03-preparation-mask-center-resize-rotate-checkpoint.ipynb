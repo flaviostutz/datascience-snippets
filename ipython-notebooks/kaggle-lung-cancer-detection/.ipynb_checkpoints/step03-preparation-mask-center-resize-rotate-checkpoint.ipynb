{
 "cells": [
  {
   "cell_type": "code",
   "execution_count": 1,
   "metadata": {
    "collapsed": true
   },
   "outputs": [],
   "source": [
    "#only (patient_id%NR_SHARDS) == SHARD_ID will be processed here\n",
    "#choose a value between 1-NR_SHARDS\n",
    "#those ratios where obtained by the mean dimension ratio from studying the full stage1 images\n",
    "SHARD_ID = 1\n",
    "\n",
    "IMAGE_DIMS = (224, 152, 224, 1)\n",
    "\n",
    "NR_SHARDS = 1\n",
    "RANDOM_SEED = 0.1\n",
    "SAVE_IMAGES = True\n",
    "\n",
    "#Patient DICOM images folder\n",
    "INPUT_FOLDER = '../../input/sample_images/'\n",
    "LABELS_FILE = '../../input/sample_labels.csv'\n",
    "\n",
    "OUTPUT_FOLDER = '../../output/step3/' + str(SHARD_ID) + '/'"
   ]
  },
  {
   "cell_type": "code",
   "execution_count": 2,
   "metadata": {
    "collapsed": false
   },
   "outputs": [],
   "source": [
    "import csv\n",
    "import sys\n",
    "import h5py\n",
    "import pandas as pd\n",
    "import os\n",
    "import numpy as np # linear algebra\n",
    "from numpy import ndarray\n",
    "from random import shuffle\n",
    "import csv\n",
    "import os\n",
    "\n",
    "from modules.logging import logger\n",
    "import modules.logging\n",
    "import modules.lungprepare as lungprepare\n",
    "import modules.utils as utils\n",
    "from modules.utils import Timer\n",
    "import modules.logging"
   ]
  },
  {
   "cell_type": "code",
   "execution_count": 3,
   "metadata": {
    "collapsed": false
   },
   "outputs": [],
   "source": [
    "def get_patient_ids(shard_id, input_dir):\n",
    "    shard_patients = []\n",
    "    \n",
    "    file = csv.DictReader(open(LABELS_FILE))    \n",
    "    for row in file:\n",
    "        p = row['id']\n",
    "        if(int(p,16)%NR_SHARDS == (shard_id-1)):\n",
    "            shard_patients.append(p)\n",
    "    logger.info('found {} patients for shard {}'.format(len(shard_patients), shard_id))\n",
    "    shuffle(shard_patients, lambda: RANDOM_SEED)\n",
    "    return shard_patients\n",
    "\n",
    "#     force ids\n",
    "#     return ['0c37613214faddf8701ca41e6d43f56e', '0a0c32c9e08cc2ea76a71649de56be6d', '0a38e7597ca26f9374f8ea2770ba870d']\n",
    "#     return ['0c37613214faddf8701ca41e6d43f56e']\n",
    "    "
   ]
  },
  {
   "cell_type": "code",
   "execution_count": 4,
   "metadata": {
    "collapsed": true
   },
   "outputs": [],
   "source": [
    "def patient_label(input_dir, patient_id):\n",
    "    labels = pd.read_csv(LABELS_FILE, index_col=0)\n",
    "    value = labels.get_value(patient_id, 'cancer')\n",
    "    #one-hot encoding\n",
    "    label = np.array([0,1])\n",
    "    if(value == 0): label = np.array([1,0])\n",
    "    return label"
   ]
  },
  {
   "cell_type": "code",
   "execution_count": null,
   "metadata": {
    "collapsed": false
   },
   "outputs": [],
   "source": [
    "def start_processing(input_dir, shard_id, max_patients, image_dims, output_dir):\n",
    "    logger.info('Processing patients. shard_id=' + str(shard_id) + ' max_patients='+ str(max_patients) + ' input_dir=' + input_dir + ' output_dir=' + output_dir)\n",
    "    \n",
    "    logger.info('Gathering patient ids for this shard')\n",
    "    patient_ids = get_patient_ids(shard_id, input_dir)\n",
    "    total_patients = len(patient_ids)\n",
    "    \n",
    "    dataset_name = 'data-centered-rotated'\n",
    "    \n",
    "    logger.info('Preparing output dir')\n",
    "    utils.mkdirs(output_dir, dirs=['images'], recreate=True)\n",
    "\n",
    "    modules.logging.setup_file_logger(output_dir + 'out.log')\n",
    "\n",
    "    logger.info('Creating datasets')\n",
    "    dataset_file = utils.dataset_path(output_dir, dataset_name, image_dims)\n",
    "    with h5py.File(dataset_file, 'w') as h5f:\n",
    "        x_ds = h5f.create_dataset('X', (total_patients, image_dims[0], image_dims[1], image_dims[2], image_dims[3]), chunks=(1, image_dims[0], image_dims[1], image_dims[2], image_dims[3]), dtype='f')\n",
    "        y_ds = h5f.create_dataset('Y', (total_patients, 2), dtype='f')\n",
    "\n",
    "        logger.info('Starting to process each patient (count={})'.format(len(patient_ids)))\n",
    "        count = 0\n",
    "        record_row = 0\n",
    "\n",
    "        for patient_id in patient_ids:\n",
    "            if(count>(max_patients-1)):\n",
    "                break\n",
    "\n",
    "            t = Timer('>>> PATIENT PROCESSING ' + patient_id + ' (count=' + str(count) + '; output_dir=' + output_dir + ')')\n",
    "            patient_pixels = lungprepare.process_patient_images(input_dir + patient_id, image_dims)\n",
    "            if(patient_pixels != None):\n",
    "                if(not np.any(patient_pixels)):\n",
    "                    logger.error('Patient pixels returned with zero values patient_id=' + patient_id)\n",
    "                logger.info('Recording patient pixels to output dataset count=' + str(count))\n",
    "                x_ds[record_row] = patient_pixels\n",
    "                label = patient_label(input_dir, patient_id)\n",
    "                y_ds[record_row] = label\n",
    "                record_row = record_row + 1\n",
    "            else:\n",
    "                logger.warning('Patient lung not found. Skipping.')   \n",
    "\n",
    "            t.stop()\n",
    "            count = count + 1\n",
    "\n",
    "    if(not utils.validate_dataset(output_dir, dataset_name, image_dims, save_dir=output_dir + 'images')):\n",
    "        raise Exception('Validation ERROR!')\n"
   ]
  },
  {
   "cell_type": "code",
   "execution_count": null,
   "metadata": {
    "collapsed": false,
    "scrolled": false
   },
   "outputs": [
    {
     "name": "stderr",
     "output_type": "stream",
     "text": [
      "2017-02-22 00:00:58,981 INFO ==== PROCESSING SHARD 1 ====\n",
      "2017-02-22 00:00:58,983 INFO Processing patients. shard_id=1 max_patients=99 input_dir=../../input/sample_images/ output_dir=../../output/step3/1/\n",
      "2017-02-22 00:00:58,984 INFO Gathering patient ids for this shard\n",
      "2017-02-22 00:00:58,985 INFO found 19 patients for shard 1\n",
      "2017-02-22 00:00:58,987 INFO Preparing output dir\n",
      "2017-02-22 00:00:58,999 INFO Creating datasets\n",
      "2017-02-22 00:00:59,003 INFO Starting to process each patient (count=19)\n",
      "2017-02-22 00:00:59,004 INFO > [started] >>> PATIENT PROCESSING 0a0c32c9e08cc2ea76a71649de56be6d (count=0; output_dir=../../output/step3/1/)...\n",
      "2017-02-22 00:00:59,005 INFO > [started] load_scan ../../input/sample_images/0a0c32c9e08cc2ea76a71649de56be6d...\n",
      "2017-02-22 00:00:59,138 INFO > [done]    load_scan ../../input/sample_images/0a0c32c9e08cc2ea76a71649de56be6d (133.509 ms)\n",
      "2017-02-22 00:00:59,346 INFO > [started] resample...\n",
      "2017-02-22 00:01:18,362 INFO > [done]    resample (19016.315 ms)\n",
      "2017-02-22 00:01:18,367 INFO > [started] segment_lung_mask...\n",
      "/root/workspace/kaggle-lung-cancer-detection/modules/lungprepare.py:118: VisibleDeprecationWarning: using a non-integer number instead of an integer will result in an error in the future\n",
      "  body = find_next_valid(labels[round(s[0]*0.6), round(s[1]*0.5)], bgs=bgs)\n",
      "2017-02-22 00:01:22,751 DEBUG bgs[0, 1, 1, 1, 1, 1, 1, 1, 1, 2]\n",
      "/root/workspace/kaggle-lung-cancer-detection/modules/lungprepare.py:123: VisibleDeprecationWarning: using a non-integer number instead of an integer will result in an error in the future\n",
      "  lung_label = largest_label_volume(labels[s[0]*0.2:s[0]*0.8, s[1]*0.25:s[1]*0.75, s[2]*0.25:s[2]*0.75], bgs=bgs)\n",
      "2017-02-22 00:01:22,853 DEBUG lung_label5\n",
      "2017-02-22 00:01:22,854 DEBUG remove non lung structures\n",
      "2017-02-22 00:01:24,252 DEBUG fill_lung_structures\n",
      "2017-02-22 00:01:24,772 INFO > [done]    segment_lung_mask (6405.080 ms)\n",
      "2017-02-22 00:01:24,787 INFO > [started] apply lung mask to image volume...\n",
      "2017-02-22 00:01:25,107 INFO > [done]    apply lung mask to image volume (319.675 ms)\n",
      "2017-02-22 00:01:25,108 INFO > [started] rotate image for optimal pose...\n"
     ]
    }
   ],
   "source": [
    "logger.info('==== PROCESSING SHARD ' + str(SHARD_ID) + ' ====')\n",
    "start_processing(INPUT_FOLDER, SHARD_ID, 99, IMAGE_DIMS, OUTPUT_FOLDER)\n",
    "logger.info('==== ALL DONE ====')"
   ]
  },
  {
   "cell_type": "code",
   "execution_count": 11,
   "metadata": {
    "collapsed": false
   },
   "outputs": [
    {
     "name": "stdout",
     "output_type": "stream",
     "text": [
      "test\n"
     ]
    }
   ],
   "source": [
    "for d in ['test']:\n",
    "    print(d)"
   ]
  },
  {
   "cell_type": "code",
   "execution_count": null,
   "metadata": {
    "collapsed": true
   },
   "outputs": [],
   "source": []
  },
  {
   "cell_type": "code",
   "execution_count": null,
   "metadata": {
    "collapsed": true
   },
   "outputs": [],
   "source": []
  },
  {
   "cell_type": "code",
   "execution_count": null,
   "metadata": {
    "collapsed": true
   },
   "outputs": [],
   "source": []
  },
  {
   "cell_type": "code",
   "execution_count": null,
   "metadata": {
    "collapsed": true
   },
   "outputs": [],
   "source": []
  }
 ],
 "metadata": {
  "anaconda-cloud": {},
  "kernelspec": {
   "display_name": "Python [default]",
   "language": "python",
   "name": "python3"
  },
  "language_info": {
   "codemirror_mode": {
    "name": "ipython",
    "version": 3
   },
   "file_extension": ".py",
   "mimetype": "text/x-python",
   "name": "python",
   "nbconvert_exporter": "python",
   "pygments_lexer": "ipython3",
   "version": "3.5.2"
  }
 },
 "nbformat": 4,
 "nbformat_minor": 1
}
