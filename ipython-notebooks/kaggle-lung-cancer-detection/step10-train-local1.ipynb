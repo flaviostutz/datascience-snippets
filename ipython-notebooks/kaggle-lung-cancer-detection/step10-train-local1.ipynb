{
 "cells": [
  {
   "cell_type": "code",
   "execution_count": 1,
   "metadata": {
    "collapsed": false
   },
   "outputs": [],
   "source": [
    "IMAGE_DIMS = (50,34,50,1)\n",
    "OUTPUT_DIR = '../../output/train-local/'\n",
    "INPUT_DIR = '../../input/stage1_prepared_some_even/'\n",
    "DATASET_NAME_SUFFIX = '-centered-rotated'\n",
    "# LOAD_MODEL_FILE = None\n",
    "LOAD_MODEL_FILE = OUTPUT_DIR + 'tf-checkpoint-best7826'"
   ]
  },
  {
   "cell_type": "code",
   "execution_count": 2,
   "metadata": {
    "collapsed": false
   },
   "outputs": [],
   "source": [
    "import csv\n",
    "import h5py\n",
    "import numpy as np # linear algebra\n",
    "import os\n",
    "import logging\n",
    "\n",
    "import tflearn\n",
    "from tflearn.layers.core import *\n",
    "from tflearn.layers.conv import *\n",
    "from tflearn.data_utils import *\n",
    "from tflearn.layers.normalization import *\n",
    "from tflearn.layers.estimator import regression\n",
    "\n",
    "from modules.logging import logger\n",
    "import modules.logging\n",
    "import modules.lungprepare as lungprepare\n",
    "import modules.utils as utils\n",
    "import modules.cnn as cnn\n",
    "from modules.utils import Timer"
   ]
  },
  {
   "cell_type": "code",
   "execution_count": 3,
   "metadata": {
    "collapsed": true
   },
   "outputs": [],
   "source": [
    "def start_training(model, input_dir, dataset_name_suffix, image_dims, output_dir):\n",
    "\n",
    "    utils.mkdirs(output_dir, recreate=False)\n",
    "\n",
    "    modules.logging.setup_file_logger(output_dir + 'out.log')\n",
    "    \n",
    "    dataset_path = utils.dataset_path(input_dir, 'test' + DATASET_NAME_SUFFIX, IMAGE_DIMS)\n",
    "    with h5py.File(dataset_path, 'r') as train_hdf5:\n",
    "        X = train_hdf5['X']\n",
    "        Y = train_hdf5['Y']\n",
    "        logger.info('X shape ' + str(X.shape))\n",
    "        logger.info('Y shape ' + str(Y.shape))\n",
    "\n",
    "        dataset_path = utils.dataset_path(input_dir, 'validate' + dataset_name_suffix, image_dims)\n",
    "        with h5py.File(dataset_path, 'r') as validate_hdf5:\n",
    "            X_validate = validate_hdf5['X']\n",
    "            Y_validate = validate_hdf5['Y']\n",
    "            logger.info('X_validate shape ' + str(X_validate.shape))\n",
    "            logger.info('Y_validate shape ' + str(Y_validate.shape))\n",
    "\n",
    "            logger.info('Starting CNN training...')\n",
    "            model.fit(X, Y, validation_set=(X_validate, Y_validate), \n",
    "                      shuffle=True, batch_size=10, n_epoch=2,\n",
    "                      show_metric=True, \n",
    "                      run_id='simplest1-'+str(image_dims))"
   ]
  },
  {
   "cell_type": "code",
   "execution_count": null,
   "metadata": {
    "collapsed": false
   },
   "outputs": [
    {
     "name": "stderr",
     "output_type": "stream",
     "text": [
      "2017-02-22 03:26:52,824 INFO Prepare CNN for training\n",
      "2017-02-22 03:26:52,941 INFO Prepare CNN\n",
      "2017-02-22 03:26:52,942 INFO Preparing output dir\n",
      "2017-02-22 03:26:52,943 INFO Initializing network...\n"
     ]
    }
   ],
   "source": [
    "logger.info('Prepare CNN for training')\n",
    "network = cnn.net_simplest1(IMAGE_DIMS)\n",
    "model = cnn.prepare_cnn_model(network, OUTPUT_DIR, model_file=None)"
   ]
  },
  {
   "cell_type": "code",
   "execution_count": null,
   "metadata": {
    "collapsed": false
   },
   "outputs": [
    {
     "name": "stderr",
     "output_type": "stream",
     "text": [
      "2017-02-22 03:26:54,419 INFO Train CNN\n",
      "2017-02-22 03:26:54,422 INFO X shape (111, 50, 34, 50, 1)\n",
      "2017-02-22 03:26:54,423 INFO Y shape (111, 2)\n",
      "2017-02-22 03:26:54,424 INFO X_validate shape (10, 50, 34, 50, 1)\n",
      "2017-02-22 03:26:54,425 INFO Y_validate shape (10, 2)\n",
      "2017-02-22 03:26:54,426 INFO Starting CNN training...\n"
     ]
    },
    {
     "name": "stdout",
     "output_type": "stream",
     "text": [
      "---------------------------------\n",
      "Run id: simplest1-(50, 34, 50, 1)\n",
      "Log directory: ../../output/train-local/tf-logs/\n",
      "INFO:tensorflow:Summary name Accuracy/ (raw) is illegal; using Accuracy/__raw_ instead.\n"
     ]
    },
    {
     "name": "stderr",
     "output_type": "stream",
     "text": [
      "2017-02-22 03:26:55,872 INFO Summary name Accuracy/ (raw) is illegal; using Accuracy/__raw_ instead.\n"
     ]
    },
    {
     "name": "stdout",
     "output_type": "stream",
     "text": [
      "---------------------------------\n",
      "Training samples: 111\n",
      "Validation samples: 10\n",
      "--\n"
     ]
    }
   ],
   "source": [
    "logger.info('Train CNN')\n",
    "start_training(model, INPUT_DIR, DATASET_NAME_SUFFIX, IMAGE_DIMS, OUTPUT_DIR)\n",
    "model.save(OUTPUT_DIR + 'final')\n",
    "logger.info('==== ALL DONE ====')"
   ]
  },
  {
   "cell_type": "code",
   "execution_count": null,
   "metadata": {
    "collapsed": true
   },
   "outputs": [],
   "source": [
    "logger.info('Evaluate model from dataset')\n",
    "dataset_path = utils.dataset_path(INPUT_DIR, 'test', IMAGE_DIMS)\n",
    "evaluate_dataset(dataset_path, model):"
   ]
  },
  {
   "cell_type": "code",
   "execution_count": null,
   "metadata": {
    "collapsed": false
   },
   "outputs": [],
   "source": []
  },
  {
   "cell_type": "code",
   "execution_count": null,
   "metadata": {
    "collapsed": false
   },
   "outputs": [],
   "source": []
  },
  {
   "cell_type": "code",
   "execution_count": null,
   "metadata": {
    "collapsed": true
   },
   "outputs": [],
   "source": []
  },
  {
   "cell_type": "code",
   "execution_count": null,
   "metadata": {
    "collapsed": true
   },
   "outputs": [],
   "source": []
  }
 ],
 "metadata": {
  "anaconda-cloud": {},
  "kernelspec": {
   "display_name": "Python [default]",
   "language": "python",
   "name": "python3"
  },
  "language_info": {
   "codemirror_mode": {
    "name": "ipython",
    "version": 3
   },
   "file_extension": ".py",
   "mimetype": "text/x-python",
   "name": "python",
   "nbconvert_exporter": "python",
   "pygments_lexer": "ipython3",
   "version": "3.5.2"
  }
 },
 "nbformat": 4,
 "nbformat_minor": 1
}
