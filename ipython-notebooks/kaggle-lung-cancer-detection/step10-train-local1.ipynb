{
 "cells": [
  {
   "cell_type": "code",
   "execution_count": 1,
   "metadata": {
    "collapsed": false,
    "deletable": true,
    "editable": true
   },
   "outputs": [],
   "source": [
    "#IMAGE_DIMS = (50,34,50,1)\n",
    "IMAGE_DIMS = (224,152,224,1)\n",
    "#IMAGE_DIMS = (112,76,112,1)\n",
    "OUTPUT_DIR = '../../../output/kaggle-bowl/step10/'\n",
    "#INPUT_DIR = '../../../input/step5-50/'\n",
    "INPUT_DIR = '../../../input/step5-224/'\n",
    "#INPUT_DIR = '../../../input/step5-112/'\n",
    "DATASET_NAME_SUFFIX = '-centered-rotated'\n",
    "LOAD_MODEL_FILE = None\n",
    "#LOAD_MODEL_FILE = OUTPUT_DIR + 'tf-checkpoint-best5556'"
   ]
  },
  {
   "cell_type": "code",
   "execution_count": 2,
   "metadata": {
    "collapsed": false,
    "deletable": true,
    "editable": true
   },
   "outputs": [],
   "source": [
    "import csv\n",
    "import h5py\n",
    "import numpy as np # linear algebra\n",
    "import os\n",
    "import logging\n",
    "import tflearn\n",
    "\n",
    "from modules.logging import logger\n",
    "import modules.logging\n",
    "import modules.lungprepare as lungprepare\n",
    "import modules.utils as utils\n",
    "import modules.cnn as cnn\n",
    "from modules.utils import Timer"
   ]
  },
  {
   "cell_type": "code",
   "execution_count": 3,
   "metadata": {
    "collapsed": true,
    "deletable": true,
    "editable": true
   },
   "outputs": [],
   "source": [
    "def start_training(model, input_dir, dataset_name_suffix, image_dims, output_dir, batch_size=50, n_epoch=10):\n",
    "\n",
    "    utils.mkdirs(output_dir, recreate=False)\n",
    "\n",
    "    modules.logging.setup_file_logger(output_dir + 'out.log')\n",
    "    \n",
    "    dataset_path = utils.dataset_path(input_dir, 'train' + dataset_name_suffix, IMAGE_DIMS)\n",
    "    with h5py.File(dataset_path, 'r') as train_hdf5:\n",
    "        X = train_hdf5['X']\n",
    "        Y = train_hdf5['Y']\n",
    "        logger.info('X shape ' + str(X.shape))\n",
    "        logger.info('Y shape ' + str(Y.shape))\n",
    "\n",
    "        dataset_path = utils.dataset_path(input_dir, 'validate' + dataset_name_suffix, image_dims)\n",
    "        with h5py.File(dataset_path, 'r') as validate_hdf5:\n",
    "            X_validate = validate_hdf5['X']\n",
    "            Y_validate = validate_hdf5['Y']\n",
    "            logger.info('X_validate shape ' + str(X_validate.shape))\n",
    "            logger.info('Y_validate shape ' + str(Y_validate.shape))\n",
    "\n",
    "            logger.info('Starting CNN training...')\n",
    "            model.fit(X, Y, validation_set=(X_validate, Y_validate), \n",
    "                      shuffle=True, batch_size=batch_size, n_epoch=n_epoch,\n",
    "                      show_metric=True, \n",
    "                      run_id='simplest1-'+str(image_dims))"
   ]
  },
  {
   "cell_type": "code",
   "execution_count": 4,
   "metadata": {
    "collapsed": false,
    "deletable": true,
    "editable": true,
    "scrolled": false
   },
   "outputs": [
    {
     "name": "stderr",
     "output_type": "stream",
     "text": [
      "2017-03-09 01:25:13,899 INFO Prepare CNN for training\n",
      "2017-03-09 01:25:13,958 INFO Prepare CNN\n",
      "2017-03-09 01:25:13,959 INFO Preparing output dir\n",
      "2017-03-09 01:25:13,960 INFO Initializing network...\n"
     ]
    }
   ],
   "source": [
    "logger.info('Prepare CNN for training')\n",
    "network = cnn.net_simplest1(IMAGE_DIMS)\n",
    "#network = cnn.net_deepmedic_simple(IMAGE_DIMS)\n",
    "# network = cnn.net_alzheimer_cnn(IMAGE_DIMS)\n",
    "model = cnn.prepare_cnn_model(network, OUTPUT_DIR, model_file=None)"
   ]
  },
  {
   "cell_type": "code",
   "execution_count": null,
   "metadata": {
    "collapsed": false,
    "deletable": true,
    "editable": true,
    "scrolled": false
   },
   "outputs": [
    {
     "name": "stdout",
     "output_type": "stream",
     "text": [
      "Training Step: 1  | time: 11.508s\n",
      "\u001b[2K\r",
      "| Adam | epoch: 001 | loss: 0.00000 - acc: 0.0000 -- iter: 008/538\n"
     ]
    }
   ],
   "source": [
    "logger.info('Train CNN')\n",
    "start_training(model, INPUT_DIR, DATASET_NAME_SUFFIX, IMAGE_DIMS, OUTPUT_DIR, batch_size=8, n_epoch=5)\n",
    "model.save(OUTPUT_DIR + 'final')\n",
    "logger.info('==== ALL DONE ====')"
   ]
  },
  {
   "cell_type": "code",
   "execution_count": 10,
   "metadata": {
    "collapsed": false,
    "deletable": true,
    "editable": true
   },
   "outputs": [
    {
     "name": "stderr",
     "output_type": "stream",
     "text": [
      "2017-03-08 22:12:24,576 INFO Evaluate model from dataset\n",
      "2017-03-08 22:12:24,580 DEBUG X_test shape (764, 112, 76, 112, 1)\n",
      "2017-03-08 22:12:24,581 DEBUG Y_test shape (764, 2)\n",
      "2017-03-08 22:12:24,582 INFO Evaluate performance on dataset ../../../input/step5-112/test-centered-rotated-112-76-112.h5...\n",
      "2017-03-08 22:12:57,432 INFO Accuracy: [0.058900524574424587]\n"
     ]
    }
   ],
   "source": [
    "logger.info('Evaluate model from dataset')\n",
    "dataset_path = utils.dataset_path(INPUT_DIR, 'test' + DATASET_NAME_SUFFIX, IMAGE_DIMS)\n",
    "cnn.evaluate_dataset(dataset_path, model)"
   ]
  },
  {
   "cell_type": "code",
   "execution_count": null,
   "metadata": {
    "collapsed": false,
    "deletable": true,
    "editable": true
   },
   "outputs": [],
   "source": []
  },
  {
   "cell_type": "code",
   "execution_count": null,
   "metadata": {
    "collapsed": false,
    "deletable": true,
    "editable": true
   },
   "outputs": [],
   "source": []
  },
  {
   "cell_type": "code",
   "execution_count": null,
   "metadata": {
    "collapsed": true,
    "deletable": true,
    "editable": true
   },
   "outputs": [],
   "source": []
  },
  {
   "cell_type": "code",
   "execution_count": null,
   "metadata": {
    "collapsed": true,
    "deletable": true,
    "editable": true
   },
   "outputs": [],
   "source": []
  },
  {
   "cell_type": "code",
   "execution_count": null,
   "metadata": {
    "collapsed": true,
    "deletable": true,
    "editable": true
   },
   "outputs": [],
   "source": []
  }
 ],
 "metadata": {
  "anaconda-cloud": {},
  "kernelspec": {
   "display_name": "Python 3",
   "language": "python",
   "name": "python3"
  },
  "language_info": {
   "codemirror_mode": {
    "name": "ipython",
    "version": 3
   },
   "file_extension": ".py",
   "mimetype": "text/x-python",
   "name": "python",
   "nbconvert_exporter": "python",
   "pygments_lexer": "ipython3",
   "version": "3.5.2"
  }
 },
 "nbformat": 4,
 "nbformat_minor": 1
}
