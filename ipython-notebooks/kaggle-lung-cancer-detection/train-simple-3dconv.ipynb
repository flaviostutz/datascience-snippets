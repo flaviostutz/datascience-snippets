{
 "cells": [
  {
   "cell_type": "code",
   "execution_count": 1,
   "metadata": {
    "collapsed": false
   },
   "outputs": [],
   "source": [
    "# -*- coding: utf-8 -*-\n",
    "\"\"\"\n",
    "Example on how to use HDF5 dataset with TFLearn. HDF5 is a data model,\n",
    "library, and file format for storing and managing data. It can handle large\n",
    "dataset that could not fit totally in ram memory. Note that this example\n",
    "just give a quick compatibility demonstration. In practice, there is no so\n",
    "real need to use HDF5 for small dataset such as CIFAR-10.\n",
    "\"\"\"\n",
    "\n",
    "from __future__ import division, print_function, absolute_import\n",
    "\n",
    "import tflearn\n",
    "from tflearn.layers.core import *\n",
    "from tflearn.layers.conv import *\n",
    "from tflearn.data_utils import *\n",
    "from tflearn.layers.normalization import *\n",
    "from tflearn.layers.estimator import regression\n",
    "\n",
    "# CIFAR-10 Dataset\n",
    "from tflearn.datasets import cifar10\n",
    "(X, Y), (X_test, Y_test) = cifar10.load_data()\n",
    "Y = to_categorical(Y, 10)\n",
    "Y_test = to_categorical(Y_test, 10)\n",
    "\n",
    "# Create a hdf5 dataset from CIFAR-10 numpy array\n",
    "import h5py\n",
    "h5f = h5py.File('data.h5', 'w')\n",
    "h5f.create_dataset('cifar10_X', data=X)\n",
    "h5f.create_dataset('cifar10_Y', data=Y)\n",
    "h5f.create_dataset('cifar10_X_test', data=X_test)\n",
    "h5f.create_dataset('cifar10_Y_test', data=Y_test)\n",
    "h5f.close()\n",
    "\n",
    "# Load hdf5 dataset\n",
    "h5f = h5py.File('data.h5', 'r')\n",
    "X = h5f['cifar10_X']\n",
    "Y = h5f['cifar10_Y']\n",
    "X_test = h5f['cifar10_X_test']\n",
    "Y_test = h5f['cifar10_Y_test']\n",
    "\n",
    "# Build network\n",
    "network = input_data(shape=[None, 32, 32, 3], dtype=tf.float32)\n",
    "network = conv_2d(network, 32, 3, activation='relu')\n",
    "network = max_pool_2d(network, 2)\n",
    "network = conv_2d(network, 64, 3, activation='relu')\n",
    "network = conv_2d(network, 64, 3, activation='relu')\n",
    "network = max_pool_2d(network, 2)\n",
    "network = fully_connected(network, 512, activation='relu')\n",
    "network = dropout(network, 0.5)\n",
    "network = fully_connected(network, 10, activation='softmax')\n",
    "network = regression(network, optimizer='adam',\n",
    "                     loss='categorical_crossentropy',\n",
    "                     learning_rate=0.001)\n"
   ]
  },
  {
   "cell_type": "code",
   "execution_count": null,
   "metadata": {
    "collapsed": true
   },
   "outputs": [],
   "source": [
    "# Training\n",
    "model = tflearn.DNN(network, tensorboard_verbose=0)\n",
    "model.fit(X, Y, n_epoch=50, shuffle=True, validation_set=(X_test, Y_test),\n",
    "          show_metric=True, batch_size=96, run_id='cifar10_cnn')\n",
    "\n",
    "h5f.close()"
   ]
  }
 ],
 "metadata": {
  "anaconda-cloud": {},
  "kernelspec": {
   "display_name": "Python [default]",
   "language": "python",
   "name": "python3"
  },
  "language_info": {
   "codemirror_mode": {
    "name": "ipython",
    "version": 3
   },
   "file_extension": ".py",
   "mimetype": "text/x-python",
   "name": "python",
   "nbconvert_exporter": "python",
   "pygments_lexer": "ipython3",
   "version": "3.5.2"
  }
 },
 "nbformat": 4,
 "nbformat_minor": 1
}
