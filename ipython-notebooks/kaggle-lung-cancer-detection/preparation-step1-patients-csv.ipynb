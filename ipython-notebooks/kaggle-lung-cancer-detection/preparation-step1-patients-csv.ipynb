{
 "cells": [
  {
   "cell_type": "markdown",
   "metadata": {},
   "source": [
    "# Get patients image size and mask boundings into CSV\n",
    "* Each script uses only a single GPU, so we will distribute patients among shards in order to distribute or paralellize execution\n",
    "* For each shard, duplicate this script, set a unique SHARD_ID and execute it\n",
    "* This script:\n",
    "   * Creates a directory named \"patients-[shard_id]\" with all its results\n",
    "   * Creates a file \"patients-analysis.csv\" with all imaging analysis data\n",
    "   * Snapshots 3 slides for each patient to directory \"samples\""
   ]
  },
  {
   "cell_type": "code",
   "execution_count": 5,
   "metadata": {
    "collapsed": false
   },
   "outputs": [],
   "source": [
    "#only (patient_id%NR_SHARDS) == SHARD_ID will be processed here\n",
    "#choose a value between 1-NR_SHARDS\n",
    "SHARD_ID = 1\n",
    "\n",
    "NR_SHARDS = 4\n",
    "\n",
    "#Patient DICOM images folder\n",
    "INPUT_FOLDER = '../../input/sample_images/'\n",
    "OUTPUT_FOLDER = '../../output/' + str(SHARD_ID) + '/'"
   ]
  },
  {
   "cell_type": "code",
   "execution_count": 6,
   "metadata": {
    "collapsed": false
   },
   "outputs": [],
   "source": [
    "%matplotlib inline\n",
    "\n",
    "import numpy as np # linear algebra\n",
    "from numpy import ndarray\n",
    "import pandas as pd # data processing, CSV file I/O (e.g. pd.read_csv)\n",
    "import statistics\n",
    "import csv\n",
    "import dicom\n",
    "import math\n",
    "from time import time\n",
    "import os\n",
    "import shutil\n",
    "import scipy.ndimage\n",
    "import matplotlib.pyplot as plt\n",
    "import matplotlib.patches as patches\n",
    "import scipy.ndimage as ndimage\n",
    "import itertools\n",
    "from itertools import product, combinations\n",
    "from skimage import measure, morphology\n",
    "from mpl_toolkits.mplot3d.art3d import Poly3DCollection"
   ]
  },
  {
   "cell_type": "code",
   "execution_count": 7,
   "metadata": {
    "collapsed": true
   },
   "outputs": [],
   "source": [
    "class Timer:\n",
    "    def __init__(self, name, debug=True):\n",
    "        self._name = name\n",
    "        self._debug = debug\n",
    "        self.start()\n",
    "    \n",
    "    def start(self):\n",
    "        self._start = time()\n",
    "        if(self._debug):\n",
    "            log('> [started] ' + self._name + '...')\n",
    "\n",
    "    def stop(self):\n",
    "        self._lastElapsed = (time()-self._start)\n",
    "        if(self._debug):\n",
    "            log('> [done]    {} ({:.3f} ms)'.format(self._name, self._lastElapsed*1000))\n",
    "            \n",
    "    def elapsed(self):\n",
    "        if(self._lastElapsed != None):\n",
    "            return (self._lastElapsed)\n",
    "        else:\n",
    "            return (time()-self._start)"
   ]
  },
  {
   "cell_type": "code",
   "execution_count": 8,
   "metadata": {
    "collapsed": true
   },
   "outputs": [],
   "source": [
    "import datetime\n",
    "def log(message):\n",
    "    print('{} {}'.format(datetime.datetime.now(), message))"
   ]
  },
  {
   "cell_type": "code",
   "execution_count": 9,
   "metadata": {
    "collapsed": true
   },
   "outputs": [],
   "source": [
    "def get_patient_ids(shard_id, input_folder):\n",
    "  shard_patients = []\n",
    "  patients = os.listdir(input_folder)\n",
    "  patients.sort()\n",
    "  for p in patients:\n",
    "    if(int(p,16)%NR_SHARDS == (shard_id-1)):\n",
    "      shard_patients.append(p)\n",
    "  return shard_patients"
   ]
  },
  {
   "cell_type": "code",
   "execution_count": null,
   "metadata": {
    "collapsed": true
   },
   "outputs": [],
   "source": []
  },
  {
   "cell_type": "code",
   "execution_count": 10,
   "metadata": {
    "collapsed": true
   },
   "outputs": [],
   "source": [
    "# Load the scans in given folder path\n",
    "#image pixels dimensions: z, y, x\n",
    "def load_scan(path):\n",
    "    t = Timer('load_scan ' + path)\n",
    "    \n",
    "    slices = [dicom.read_file(path + '/' + s) for s in os.listdir(path)]\n",
    "    slices.sort(key = lambda x: int(x.ImagePositionPatient[2]))\n",
    "    try:\n",
    "        slice_thickness = np.abs(slices[0].ImagePositionPatient[2] - slices[1].ImagePositionPatient[2])\n",
    "    except:\n",
    "        slice_thickness = np.abs(slices[0].SliceLocation - slices[1].SliceLocation)\n",
    "        \n",
    "    for s in slices:\n",
    "        s.slice_thickness = slice_thickness\n",
    "\n",
    "    t.stop()\n",
    "    return slices"
   ]
  },
  {
   "cell_type": "code",
   "execution_count": 11,
   "metadata": {
    "collapsed": true
   },
   "outputs": [],
   "source": [
    "#image pixels dimensions: z, y, x\n",
    "def get_pixels_hu(slices):\n",
    "    image = np.stack([s.pixel_array for s in slices])\n",
    "    # Convert to int16 (from sometimes int16), \n",
    "    # should be possible as values should always be low enough (<32k)\n",
    "    image = image.astype(np.int16)\n",
    "\n",
    "    # Set outside-of-scan pixels to 0\n",
    "    # The intercept is usually -1024, so air is approximately 0\n",
    "    image[image == -2000] = 0\n",
    "    \n",
    "    # Convert to Hounsfield units (HU)\n",
    "    for slice_number in range(len(slices)):\n",
    "        \n",
    "        intercept = slices[slice_number].RescaleIntercept\n",
    "        slope = slices[slice_number].RescaleSlope\n",
    "        \n",
    "        if slope != 1:\n",
    "            image[slice_number] = slope * image[slice_number].astype(np.float64)\n",
    "            image[slice_number] = image[slice_number].astype(np.int16)\n",
    "            \n",
    "        image[slice_number] += np.int16(intercept)\n",
    "    \n",
    "    return np.array(image, dtype=np.int16)"
   ]
  },
  {
   "cell_type": "code",
   "execution_count": 12,
   "metadata": {
    "collapsed": false
   },
   "outputs": [],
   "source": [
    "#image pixels dimensions: z, y, x\n",
    "def resample(image, scan, new_spacing=[1,1,1]):\n",
    "    t = Timer('resample')\n",
    "    # Determine current pixel spacing\n",
    "    spacing = np.array([scan[0].slice_thickness] + scan[0].PixelSpacing, dtype=np.float32)\n",
    "\n",
    "    resize_factor = spacing / new_spacing\n",
    "    new_real_shape = image.shape * resize_factor\n",
    "    new_shape = np.round(new_real_shape)\n",
    "    real_resize_factor = new_shape / image.shape\n",
    "    new_spacing = spacing / real_resize_factor\n",
    "    \n",
    "    image = scipy.ndimage.interpolation.zoom(image, real_resize_factor, mode='nearest')\n",
    "    t.stop()\n",
    "    \n",
    "    return image, new_spacing"
   ]
  },
  {
   "cell_type": "code",
   "execution_count": 13,
   "metadata": {
    "collapsed": true
   },
   "outputs": [],
   "source": [
    "def largest_label_volume(im, bg=-1):\n",
    "    vals, counts = np.unique(im, return_counts=True)\n",
    "\n",
    "    counts = counts[vals != bg]\n",
    "    vals = vals[vals != bg]\n",
    "\n",
    "    if len(counts) > 0:\n",
    "        return vals[np.argmax(counts)]\n",
    "    else:\n",
    "        return None"
   ]
  },
  {
   "cell_type": "code",
   "execution_count": 14,
   "metadata": {
    "collapsed": true
   },
   "outputs": [],
   "source": [
    "def segment_lung_mask(image, fill_lung_structures=True):\n",
    "    t = Timer('segment_lung_mask')\n",
    "\n",
    "    # 0 is treated as background, which we do not want\n",
    "    binary_image = np.array(image > -320, dtype=np.int8)+1\n",
    "    labels = measure.label(binary_image)\n",
    "\n",
    "    # Pick the pixel in the very corner to determine which label is air.\n",
    "    #   Improvement: Pick multiple background labels from around the patient\n",
    "    #   More resistant to \"trays\" on which the patient lays cutting the air \n",
    "    #   around the person in half\n",
    "    background_label = labels[0,0,0] \n",
    "    \n",
    "    #Fill the air around the person\n",
    "    binary_image[background_label == labels] = 2\n",
    "\n",
    "    # Method of filling the lung structures (that is superior to something like \n",
    "    # morphological closing)\n",
    "    if fill_lung_structures:\n",
    "        # For every slice we determine the largest solid structure\n",
    "        for i, axial_slice in enumerate(binary_image):\n",
    "            axial_slice = axial_slice - 1\n",
    "            labeling = measure.label(axial_slice)\n",
    "            l_max = largest_label_volume(labeling, bg=0)\n",
    "            \n",
    "            if l_max is not None: #This slice contains some lung\n",
    "                binary_image[i][labeling != l_max] = 1\n",
    "    \n",
    "    binary_image -= 1 #Make the image actual binary\n",
    "    binary_image = 1-binary_image # Invert it, lungs are now 1\n",
    "    \n",
    "    # Remove other air pockets insided body\n",
    "    labels = measure.label(binary_image, background=0)\n",
    "    \n",
    "    l_max = largest_label_volume(labels, bg=0)\n",
    "    if l_max is not None: # There are air pockets\n",
    "        binary_image[labels != l_max] = 0\n",
    "\n",
    "    #dilate mask\n",
    "    binary_image = scipy.ndimage.morphology.grey_dilation(binary_image, size=(10,10,10))\n",
    "    t.stop()\n",
    "    \n",
    "    return binary_image"
   ]
  },
  {
   "cell_type": "code",
   "execution_count": 15,
   "metadata": {
    "collapsed": true
   },
   "outputs": [],
   "source": [
    "#returns ((x1, y1, z1), (x2, y2, z2))\n",
    "def bounding_box(img):\n",
    "    N = img.ndim\n",
    "    out = []\n",
    "    for ax in itertools.combinations(range(N), N - 1):\n",
    "        nonzero = np.any(img, axis=ax)\n",
    "        out.extend(np.where(nonzero)[0][[0, -1]])\n",
    "    r = np.reshape(np.asarray(tuple(out)), (-1, 2)).T\n",
    "    return [tuple(r[0]), tuple(r[1])]"
   ]
  },
  {
   "cell_type": "code",
   "execution_count": 16,
   "metadata": {
    "collapsed": true
   },
   "outputs": [],
   "source": [
    "#return bounding box center in (x,y,z)\n",
    "def bounding_box_center(bounds):\n",
    "    return (int(round((bounds[0][0] + (bounds[1][0]-bounds[0][0])/2))), int(round((bounds[0][1] + (bounds[1][1]-bounds[0][1])/2))), int(round((bounds[0][2] + (bounds[1][2]-bounds[0][2])/2))))"
   ]
  },
  {
   "cell_type": "code",
   "execution_count": 17,
   "metadata": {
    "collapsed": true
   },
   "outputs": [],
   "source": [
    "#find lungs rotation by finding minimum and maximum extremities from lung halves\n",
    "def find_minmax_halfx(lung_mask, xhalf, bottom2up=True, left2right=True, slicen=220):\n",
    "    xsize = np.shape(lung_mask)[2]-1\n",
    "    ysize = np.shape(lung_mask)[1]-1\n",
    "    im = np.swapaxes(lung_mask[slicen], 0, 1)\n",
    "\n",
    "    if(bottom2up): mvalue = (-1,0)\n",
    "    else: mvalue = (-1, ysize)\n",
    "        \n",
    "    if(left2right): \n",
    "        xstart = 0\n",
    "        xend = xhalf\n",
    "        xdir = 1\n",
    "    else:\n",
    "        xstart = xsize\n",
    "        xend = xhalf\n",
    "        xdir = -1\n",
    "        \n",
    "    for x in range(xstart, xend, xdir):\n",
    "        for y in range(ysize):\n",
    "            if(not bottom2up): yi = ysize - y\n",
    "            else: yi = y\n",
    "\n",
    "            if(im[x][yi]>0.5):\n",
    "                if(bottom2up and yi>mvalue[1]):\n",
    "                    mvalue = (x, yi)\n",
    "                elif(not bottom2up and yi<mvalue[1]):\n",
    "                    mvalue = (x, yi)\n",
    "    return mvalue\n",
    "    \n",
    "def calculate_angle(p1, p2):\n",
    "    return math.degrees(math.atan2(p2[1]-p1[1],p2[0]-p1[0]))\n",
    "\n",
    "def value_between(value, min_value, max_value):\n",
    "    if(value<min_value): return False\n",
    "    if(value>max_value): return False\n",
    "    return True\n",
    "\n",
    "def discover_lung_rotation(lung_mask):\n",
    "    bbox = bounding_box(lung_mask)\n",
    "    slicen = int((bbox[1][2]-bbox[0][2])/2)\n",
    "    half = int(bbox[0][0]+(bbox[1][0]-bbox[0][0])/2)\n",
    "\n",
    "    l1 = find_minmax_halfx(lung_mask, half, bottom2up=True, left2right=True, slicen=slicen)\n",
    "    r1 = find_minmax_halfx(lung_mask, half, bottom2up=True, left2right=False, slicen=slicen)\n",
    "    l2 = find_minmax_halfx(lung_mask, half, bottom2up=False, left2right=True, slicen=slicen)\n",
    "    r2 = find_minmax_halfx(lung_mask, half, bottom2up=False, left2right=False, slicen=slicen)\n",
    "\n",
    "    r = (l1, r1, l2, r2)\n",
    "    xs, ys = zip(*r)\n",
    "    print(r)\n",
    "    \n",
    "    #verify points sanity\n",
    "    if(not value_between(xs[1]-xs[0], 50, 200) or\n",
    "       not value_between(xs[3]-xs[2], 50, 200) or\n",
    "       not value_between(ys[0]-ys[2], 100, 250) or\n",
    "       not value_between(ys[1]-ys[3], 100, 250)):\n",
    "        print('Strange rotation detected. returning 0 degrees')\n",
    "        return 0\n",
    "    \n",
    "    angle1 = calculate_angle(l1, r1)\n",
    "    angle2 = calculate_angle(l2, r2)\n",
    "    \n",
    "#     fig1, ax1 = plt.subplots(1)\n",
    "#     fig1.set_size_inches(2,2)\n",
    "#     ax1.imshow(lung_mask[slicen], cmap=plt.cm.gray)\n",
    "#     ax1.scatter(xs, ys)\n",
    "#     plt.show()\n",
    "    \n",
    "    a = ((angle1 + angle2)/2)\n",
    "    return a\n",
    "#     return min(max(a, -10), 10)\n",
    "\n",
    "# discover_lung_rotation(first_segmented_lungs_fill_dilated)\n",
    "# discover_lung_rotation(second_segmented_lungs_fill_dilated)"
   ]
  },
  {
   "cell_type": "code",
   "execution_count": 18,
   "metadata": {
    "collapsed": false
   },
   "outputs": [],
   "source": [
    "def generate_slice_shot(patient_pixels, patient_lung_mask, patient_id, slice_pos, output_dir):\n",
    "    t = Timer('generate_slice_shot ' + str(slice_pos))\n",
    "    fig1, ax1 = plt.subplots(1)\n",
    "    fig1.set_size_inches(6,6)\n",
    "\n",
    "    masked_img = np.ma.masked_where(patient_lung_mask[slice_pos]==0, patient_pixels[slice_pos])\n",
    "    ax1.imshow(masked_img, cmap=plt.cm.gray)\n",
    "\n",
    "    file = output_dir + patient_id + '-' + 'slice-' + str(slice_pos) + '.jpg'\n",
    "    plt.savefig(file)\n",
    "        \n",
    "    plt.close(fig1)\n",
    "#    plt.show()\n",
    "    t.stop()"
   ]
  },
  {
   "cell_type": "code",
   "execution_count": 19,
   "metadata": {
    "collapsed": false
   },
   "outputs": [],
   "source": [
    "def generate_patient_info(patient_pixels, patient_lung_mask, patient_scan, patient_id, append_to_csv_file):\n",
    "    t = Timer('generate_patient_info')\n",
    "    info = []\n",
    "    \n",
    "    #patient_id\n",
    "    info.append(patient_id)\n",
    "    \n",
    "    #image w,h,d\n",
    "    info.append(np.shape(patient_pixels)[2])\n",
    "    info.append(np.shape(patient_pixels)[1])\n",
    "    info.append(np.shape(patient_pixels)[0])\n",
    "    print(np.shape(patient_pixels))\n",
    "    \n",
    "    #image volume mean\n",
    "    t1 = Timer('flatten pixels')\n",
    "    data = list(ndarray.flatten(patient_pixels))\n",
    "    t1.stop()\n",
    "    t1 = Timer('calc mean')\n",
    "    info.append(statistics.mean(data))\n",
    "    t1.stop()\n",
    "    \n",
    "    #slice original scan qtty,thickness\n",
    "    info.append(len(patient_scan))\n",
    "    info.append(patient_scan[0].slice_thickness)\n",
    "    \n",
    "    #lung rotation\n",
    "    info.append(discover_lung_rotation(patient_lung_mask))\n",
    "    \n",
    "    #mask cx,cy,cz,w,h,d\n",
    "    box = bounding_box(patient_lung_mask)\n",
    "    box_center = bounding_box_center(box)\n",
    "    info.append(box_center[0])\n",
    "    info.append(box_center[1])\n",
    "    info.append(box_center[2])\n",
    "    info.append(box[1][0]-box[0][0])\n",
    "    info.append(box[1][1]-box[0][1])\n",
    "    info.append(box[1][2]-box[0][2])\n",
    "    \n",
    "    #append data to csv file\n",
    "    with open(append_to_csv_file, 'a') as csvfile:\n",
    "        writer = csv.writer(csvfile, delimiter=',', quotechar='\\'', quoting=csv.QUOTE_MINIMAL)\n",
    "        writer.writerow(info)\n",
    "        \n",
    "    t.stop()"
   ]
  },
  {
   "cell_type": "code",
   "execution_count": 20,
   "metadata": {
    "collapsed": true
   },
   "outputs": [],
   "source": [
    "def process_patient(input_dir, patient_id, output_shots_dir, output_csv_file):\n",
    "    patient_dir = input_dir + patient_id\n",
    "    patient_scan = load_scan(patient_dir)\n",
    "    patient_pixels = get_pixels_hu(patient_scan)\n",
    "    patient_pixels_resampled, spacing = resample(patient_pixels, patient_scan, [1,1,1])\n",
    "    patient_lung_mask = segment_lung_mask(patient_pixels_resampled, True)\n",
    "    \n",
    "    generate_patient_info(patient_pixels_resampled, patient_lung_mask, patient_scan, patient_id, output_csv_file)\n",
    "    \n",
    "    ln = np.shape(patient_pixels_resampled)[0]\n",
    "    generate_slice_shot(patient_pixels_resampled, patient_lung_mask, patient_id, int(ln/4), output_shots_dir)\n",
    "    generate_slice_shot(patient_pixels_resampled, patient_lung_mask, patient_id, int(ln/4*2), output_shots_dir)\n",
    "    generate_slice_shot(patient_pixels_resampled, patient_lung_mask, patient_id, int(ln/4*3), output_shots_dir)    "
   ]
  },
  {
   "cell_type": "code",
   "execution_count": 21,
   "metadata": {
    "collapsed": false
   },
   "outputs": [],
   "source": [
    "def start_processing(input_dir, shard_id, max_patients, output_dir):\n",
    "    log('Processing patients. shard_id=' + str(shard_id) + ' max_patients='+ str(max_patients) + ' input_dir=' + input_dir + ' output_dir=' + output_dir)\n",
    "    patient_ids = get_patient_ids(shard_id, input_dir)\n",
    "    log('Number of patients: ' + str(len(patient_ids)))\n",
    "    patients_count = 0\n",
    "    shutil.rmtree(output_dir, True)\n",
    "    try:\n",
    "        os.makedirs(output_dir + 'shots')\n",
    "    except:\n",
    "        pass\n",
    "    \n",
    "    for patient_id in patient_ids:\n",
    "        patients_count = patients_count + 1\n",
    "        if(patients_count>max_patients):\n",
    "            break\n",
    "        t = Timer('>>> PATIENT PROCESSING ' + patient_id + ' (count=' + str(patients_count) + '; output_dir=' + output_dir + ')')\n",
    "        process_patient(input_dir, patient_id, output_dir + 'shots/', output_dir + 'patients.csv')\n",
    "        t.stop()\n",
    "        print('')"
   ]
  },
  {
   "cell_type": "code",
   "execution_count": 22,
   "metadata": {
    "collapsed": false
   },
   "outputs": [
    {
     "name": "stdout",
     "output_type": "stream",
     "text": [
      "==== PROCESSING SHARD 1====\n",
      "2017-02-14 11:25:43.067954 Processing patients. shard_id=1 max_patients=99999 input_dir=../../input/sample_images/ output_dir=../../output/1/\n",
      "2017-02-14 11:25:43.068840 Number of patients: 3\n",
      "2017-02-14 11:25:43.072535 > [started] >>> PATIENT PROCESSING 0a099f2549429d29b32f349e95fb2244 (count=1; output_dir=../../output/1/)...\n",
      "2017-02-14 11:25:43.072597 > [started] load_scan ../../input/sample_images/0a099f2549429d29b32f349e95fb2244...\n",
      "2017-02-14 11:25:43.904655 > [done]    load_scan ../../input/sample_images/0a099f2549429d29b32f349e95fb2244 (832.043 ms)\n",
      "2017-02-14 11:25:44.118934 > [started] resample...\n",
      "2017-02-14 11:26:02.093729 > [done]    resample (17974.768 ms)\n",
      "2017-02-14 11:26:02.093931 > [started] segment_lung_mask...\n",
      "2017-02-14 11:26:08.631108 > [done]    segment_lung_mask (6537.142 ms)\n",
      "2017-02-14 11:26:08.643952 > [started] generate_patient_info...\n",
      "(320, 347, 347)\n",
      "2017-02-14 11:26:08.644036 > [started] flatten pixels...\n",
      "2017-02-14 11:26:10.372037 > [done]    flatten pixels (1727.967 ms)\n",
      "2017-02-14 11:26:10.372150 > [started] calc mean...\n",
      "2017-02-14 11:26:34.070289 > [done]    calc mean (23698.119 ms)\n",
      "((94, 263), (238, 265), (124, 77), (174, 82))\n",
      "2017-02-14 11:26:34.632276 > [done]    generate_patient_info (25988.316 ms)\n",
      "2017-02-14 11:26:34.964341 > [started] generate_slice_shot 80...\n",
      "2017-02-14 11:26:35.127094 > [done]    generate_slice_shot 80 (162.742 ms)\n",
      "2017-02-14 11:26:35.127161 > [started] generate_slice_shot 160...\n",
      "2017-02-14 11:26:35.264910 > [done]    generate_slice_shot 160 (137.734 ms)\n",
      "2017-02-14 11:26:35.265039 > [started] generate_slice_shot 240...\n",
      "2017-02-14 11:26:35.407357 > [done]    generate_slice_shot 240 (142.303 ms)\n",
      "2017-02-14 11:26:35.416901 > [done]    >>> PATIENT PROCESSING 0a099f2549429d29b32f349e95fb2244 (count=1; output_dir=../../output/1/) (52344.311 ms)\n",
      "\n",
      "2017-02-14 11:26:35.416987 > [started] >>> PATIENT PROCESSING 0bd0e3056cbf23a1cb7f0f0b18446068 (count=2; output_dir=../../output/1/)...\n",
      "2017-02-14 11:26:35.417015 > [started] load_scan ../../input/sample_images/0bd0e3056cbf23a1cb7f0f0b18446068...\n",
      "2017-02-14 11:26:36.774948 > [done]    load_scan ../../input/sample_images/0bd0e3056cbf23a1cb7f0f0b18446068 (1357.907 ms)\n",
      "2017-02-14 11:26:37.273940 > [started] resample...\n",
      "2017-02-14 11:26:59.821156 > [done]    resample (22547.194 ms)\n",
      "2017-02-14 11:26:59.821321 > [started] segment_lung_mask...\n",
      "2017-02-14 11:27:07.124292 > [done]    segment_lung_mask (7302.940 ms)\n",
      "2017-02-14 11:27:07.136077 > [started] generate_patient_info...\n",
      "(350, 340, 340)\n",
      "2017-02-14 11:27:07.136156 > [started] flatten pixels...\n",
      "2017-02-14 11:27:08.851898 > [done]    flatten pixels (1715.707 ms)\n",
      "2017-02-14 11:27:08.852027 > [started] calc mean...\n",
      "2017-02-14 11:27:33.648182 > [done]    calc mean (24796.134 ms)\n",
      "((98, 264), (244, 257), (105, 83), (233, 80))\n",
      "2017-02-14 11:27:34.211994 > [done]    generate_patient_info (27075.907 ms)\n",
      "2017-02-14 11:27:34.564444 > [started] generate_slice_shot 87...\n",
      "2017-02-14 11:27:34.708185 > [done]    generate_slice_shot 87 (143.738 ms)\n",
      "2017-02-14 11:27:34.708257 > [started] generate_slice_shot 175...\n",
      "2017-02-14 11:27:34.843862 > [done]    generate_slice_shot 175 (135.590 ms)\n",
      "2017-02-14 11:27:34.843994 > [started] generate_slice_shot 262...\n",
      "2017-02-14 11:27:34.985896 > [done]    generate_slice_shot 262 (141.877 ms)\n",
      "2017-02-14 11:27:35.002551 > [done]    >>> PATIENT PROCESSING 0bd0e3056cbf23a1cb7f0f0b18446068 (count=2; output_dir=../../output/1/) (59585.530 ms)\n",
      "\n",
      "2017-02-14 11:27:35.002643 > [started] >>> PATIENT PROCESSING 0c9d8314f9c69840e25febabb1229fa4 (count=3; output_dir=../../output/1/)...\n",
      "2017-02-14 11:27:35.002671 > [started] load_scan ../../input/sample_images/0c9d8314f9c69840e25febabb1229fa4...\n",
      "2017-02-14 11:27:35.697630 > [done]    load_scan ../../input/sample_images/0c9d8314f9c69840e25febabb1229fa4 (694.944 ms)\n",
      "2017-02-14 11:27:35.996586 > [started] resample...\n",
      "2017-02-14 11:27:56.252241 > [done]    resample (20255.628 ms)\n",
      "2017-02-14 11:27:56.252401 > [started] segment_lung_mask...\n",
      "2017-02-14 11:28:03.095853 > [done]    segment_lung_mask (6843.412 ms)\n",
      "2017-02-14 11:28:03.107837 > [started] generate_patient_info...\n",
      "(398, 309, 309)\n",
      "2017-02-14 11:28:03.107943 > [started] flatten pixels...\n",
      "2017-02-14 11:28:04.734262 > [done]    flatten pixels (1626.278 ms)\n",
      "2017-02-14 11:28:04.734353 > [started] calc mean...\n",
      "2017-02-14 11:28:28.591354 > [done]    calc mean (23856.983 ms)\n",
      "((65, 254), (223, 260), (90, 59), (226, 61))\n",
      "2017-02-14 11:28:29.132125 > [done]    generate_patient_info (26024.282 ms)\n",
      "2017-02-14 11:28:29.482765 > [started] generate_slice_shot 99...\n",
      "2017-02-14 11:28:29.634841 > [done]    generate_slice_shot 99 (152.072 ms)\n",
      "2017-02-14 11:28:29.634917 > [started] generate_slice_shot 199...\n",
      "2017-02-14 11:28:29.781831 > [done]    generate_slice_shot 199 (146.897 ms)\n",
      "2017-02-14 11:28:29.781969 > [started] generate_slice_shot 298...\n",
      "2017-02-14 11:28:29.993952 > [done]    generate_slice_shot 298 (211.969 ms)\n",
      "2017-02-14 11:28:30.006193 > [done]    >>> PATIENT PROCESSING 0c9d8314f9c69840e25febabb1229fa4 (count=3; output_dir=../../output/1/) (55003.506 ms)\n",
      "\n",
      "==== ALL DONE ====\n"
     ]
    }
   ],
   "source": [
    "print('==== PROCESSING SHARD ' + str(SHARD_ID) + '====')\n",
    "start_processing(INPUT_FOLDER, SHARD_ID, 99999, OUTPUT_FOLDER)\n",
    "print('==== ALL DONE ====')"
   ]
  },
  {
   "cell_type": "code",
   "execution_count": null,
   "metadata": {
    "collapsed": false
   },
   "outputs": [],
   "source": []
  },
  {
   "cell_type": "code",
   "execution_count": null,
   "metadata": {
    "collapsed": true
   },
   "outputs": [],
   "source": []
  },
  {
   "cell_type": "code",
   "execution_count": null,
   "metadata": {
    "collapsed": true
   },
   "outputs": [],
   "source": []
  },
  {
   "cell_type": "code",
   "execution_count": null,
   "metadata": {
    "collapsed": true
   },
   "outputs": [],
   "source": []
  }
 ],
 "metadata": {
  "anaconda-cloud": {},
  "kernelspec": {
   "display_name": "Python [default]",
   "language": "python",
   "name": "python3"
  },
  "language_info": {
   "codemirror_mode": {
    "name": "ipython",
    "version": 3
   },
   "file_extension": ".py",
   "mimetype": "text/x-python",
   "name": "python",
   "nbconvert_exporter": "python",
   "pygments_lexer": "ipython3",
   "version": "3.5.2"
  }
 },
 "nbformat": 4,
 "nbformat_minor": 1
}
