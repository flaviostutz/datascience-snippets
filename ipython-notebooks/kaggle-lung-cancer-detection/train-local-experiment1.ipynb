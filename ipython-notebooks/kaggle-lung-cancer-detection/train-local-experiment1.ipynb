{
 "cells": [
  {
   "cell_type": "code",
   "execution_count": 1,
   "metadata": {
    "collapsed": true
   },
   "outputs": [],
   "source": [
    "IMAGE_DIMS = (50,34,50,1)\n",
    "OUTPUT_DIR = '../../output/train-local/'\n",
    "INPUT_DIR = '../../output/step5/'"
   ]
  },
  {
   "cell_type": "code",
   "execution_count": 2,
   "metadata": {
    "collapsed": false
   },
   "outputs": [],
   "source": [
    "import tflearn\n",
    "from tflearn.layers.core import *\n",
    "from tflearn.layers.conv import *\n",
    "from tflearn.data_utils import *\n",
    "from tflearn.layers.normalization import *\n",
    "from tflearn.layers.estimator import regression\n",
    "import os\n",
    "import shutil\n",
    "import datetime\n",
    "import h5py"
   ]
  },
  {
   "cell_type": "code",
   "execution_count": 3,
   "metadata": {
    "collapsed": true
   },
   "outputs": [],
   "source": [
    "def log(message):\n",
    "    print('{} {}'.format(datetime.datetime.now(), message))"
   ]
  },
  {
   "cell_type": "code",
   "execution_count": 4,
   "metadata": {
    "collapsed": true
   },
   "outputs": [],
   "source": [
    "def load_data(input_dir, image_dims):\n",
    "    return h5py.File('{}data-centered-rotated-{}-{}-{}.h5'.format(input_dir,image_dims[2],image_dims[1],image_dims[0]), 'r')"
   ]
  },
  {
   "cell_type": "code",
   "execution_count": 5,
   "metadata": {
    "collapsed": true
   },
   "outputs": [],
   "source": [
    "def prepare_dirs(output_dir):\n",
    "    log('Preparing output dir')\n",
    "\n",
    "    dir_tflogs = output_dir + 'tf-logs'\n",
    "    dir_checkpoints = output_dir + 'tf-checkpoints'\n",
    "    dir_checkpoint_best = output_dir + 'tf-checkpoint-best'\n",
    "    \n",
    "#     shutil.rmtree(output_dir, True)\n",
    "    try:\n",
    "        os.makedirs(dir_tflogs)\n",
    "        os.makedirs(dir_checkpoints)\n",
    "        os.makedirs(dir_checkpoint_best)\n",
    "    except:\n",
    "        pass\n",
    "\n",
    "    return dir_tflogs, dir_checkpoints, dir_checkpoint_best"
   ]
  },
  {
   "cell_type": "code",
   "execution_count": 6,
   "metadata": {
    "collapsed": true
   },
   "outputs": [],
   "source": [
    "def network(image_dims):\n",
    "    net = input_data(shape=[None, image_dims[0], image_dims[1], image_dims[2], image_dims[3]], dtype=tf.float32)\n",
    "    \n",
    "    net = conv_3d(net, 32, 3, strides=1, activation='relu')\n",
    "    net = max_pool_3d(net, [1,2,2,2,1], strides=[1,2,2,2,1])\n",
    "\n",
    "    net = conv_3d(net, 64, 3, strides=1, activation='relu')\n",
    "    net = max_pool_3d(net, [1,2,2,2,1], strides=[1,2,2,2,1])\n",
    "    \n",
    "    net = fully_connected(net, 64, activation='relu')\n",
    "    net = dropout(net, 0.8)\n",
    "    \n",
    "    net = fully_connected(net, 2, activation='softmax')\n",
    "    \n",
    "    net = regression(net, optimizer='adam',\n",
    "                     loss='categorical_crossentropy',\n",
    "                     learning_rate=0.001)\n",
    "    return net"
   ]
  },
  {
   "cell_type": "code",
   "execution_count": 7,
   "metadata": {
    "collapsed": true
   },
   "outputs": [],
   "source": [
    "def prepare_cnn(output_dir, image_dims):\n",
    "    dir_tflogs, dir_checkpoints, dir_checkpoint_best = prepare_dirs(output_dir)\n",
    "    log('Preparing CNN network...')\n",
    "    net = network(image_dims)\n",
    "\n",
    "    log('Preparing DNN trainer...')\n",
    "    model = tflearn.DNN(net, tensorboard_verbose=3, \n",
    "                             tensorboard_dir=dir_tflogs,\n",
    "                             checkpoint_path=dir_checkpoints,\n",
    "                             best_checkpoint_path=dir_checkpoint_best)\n",
    "    return model"
   ]
  },
  {
   "cell_type": "code",
   "execution_count": 8,
   "metadata": {
    "collapsed": true
   },
   "outputs": [],
   "source": [
    "def start_training(model, input_dir, image_dims):\n",
    "\n",
    "    with load_data(input_dir, image_dims) as hdf5:\n",
    "        X = hdf5['X']\n",
    "        Y = hdf5['Y']\n",
    "        print('X shape', X.shape)\n",
    "        print('Y shape', Y.shape)\n",
    "\n",
    "        log('Starting CNN training...')\n",
    "        model.fit(X, Y, validation_set=0.1, shuffle=True,\n",
    "                  batch_size=10, n_epoch=10,\n",
    "                  show_metric=True, \n",
    "                  run_id='first'+str(image_dims))"
   ]
  },
  {
   "cell_type": "code",
   "execution_count": 9,
   "metadata": {
    "collapsed": false
   },
   "outputs": [
    {
     "name": "stdout",
     "output_type": "stream",
     "text": [
      "==== PREPARE CNN ====\n",
      "2017-02-19 18:28:10.446595 Preparing output dir\n",
      "2017-02-19 18:28:10.446842 Preparing CNN network...\n",
      "2017-02-19 18:28:10.553738 Preparing DNN trainer...\n",
      "==== DONE ====\n"
     ]
    }
   ],
   "source": [
    "print('==== PREPARE CNN ====')\n",
    "model = prepare_cnn(OUTPUT_DIR, IMAGE_DIMS)\n",
    "print('==== DONE ====')"
   ]
  },
  {
   "cell_type": "code",
   "execution_count": 10,
   "metadata": {
    "collapsed": false
   },
   "outputs": [
    {
     "name": "stdout",
     "output_type": "stream",
     "text": [
      "Training Step: 19  | total loss: \u001b[1m\u001b[32m0.53220\u001b[0m\u001b[0m | time: 41.943s\n",
      "| Adam | epoch: 010 | loss: 0.53220 - acc: 0.7416 -- iter: 10/17\n",
      "Training Step: 20  | total loss: \u001b[1m\u001b[32m0.52014\u001b[0m\u001b[0m | time: 75.302s\n",
      "| Adam | epoch: 010 | loss: 0.52014 - acc: 0.6962 | val_loss: 1.82357 - val_acc: 0.5000 -- iter: 17/17\n",
      "--\n",
      "INFO:tensorflow:/root/output/train-local/tf-checkpoints-20 is not in all_model_checkpoint_paths. Manually adding it.\n",
      "==== ALL DONE ====\n"
     ]
    }
   ],
   "source": [
    "print('==== TRAIN CNN ====')\n",
    "start_training(model, INPUT_DIR, IMAGE_DIMS)\n",
    "print('==== ALL DONE ====')"
   ]
  },
  {
   "cell_type": "code",
   "execution_count": null,
   "metadata": {
    "collapsed": true
   },
   "outputs": [],
   "source": []
  },
  {
   "cell_type": "code",
   "execution_count": null,
   "metadata": {
    "collapsed": true
   },
   "outputs": [],
   "source": []
  }
 ],
 "metadata": {
  "anaconda-cloud": {},
  "kernelspec": {
   "display_name": "Python [default]",
   "language": "python",
   "name": "python3"
  },
  "language_info": {
   "codemirror_mode": {
    "name": "ipython",
    "version": 3
   },
   "file_extension": ".py",
   "mimetype": "text/x-python",
   "name": "python",
   "nbconvert_exporter": "python",
   "pygments_lexer": "ipython3",
   "version": "3.5.2"
  }
 },
 "nbformat": 4,
 "nbformat_minor": 1
}
