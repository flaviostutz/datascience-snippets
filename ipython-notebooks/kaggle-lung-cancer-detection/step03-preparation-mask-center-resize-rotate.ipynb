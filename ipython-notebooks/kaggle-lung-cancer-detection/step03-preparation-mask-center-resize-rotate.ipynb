{
 "cells": [
  {
   "cell_type": "code",
   "execution_count": 1,
   "metadata": {
    "collapsed": false,
    "deletable": true,
    "editable": true
   },
   "outputs": [],
   "source": [
    "#This script takes raw dicom patient images, applies various transformations on 3d scan figure and saves it to one h5 matrix per shard. Step4 will merge it all.\n",
    "#Saved values are in HU scale\n",
    "IMAGE_DIMS = (312, 212, 312, 1)\n",
    "\n",
    "NR_SHARDS = 700\n",
    "RANDOM_SEED = 0.1\n",
    "SAVE_IMAGES = True\n",
    "\n",
    "#Patient DICOM images folder\n",
    "INPUT_FOLDER = '../../../input/stage1_images/'\n",
    "LABELS_FILE = '../../../input/stage1_labels.csv'\n",
    "\n",
    "BASE_OUTPUT_FOLDER = '../../../output/kaggle-bowl/step3/'"
   ]
  },
  {
   "cell_type": "code",
   "execution_count": 2,
   "metadata": {
    "collapsed": false,
    "deletable": true,
    "editable": true
   },
   "outputs": [],
   "source": [
    "import csv\n",
    "import sys\n",
    "import h5py\n",
    "import pandas as pd\n",
    "import os\n",
    "import numpy as np # linear algebra\n",
    "from numpy import ndarray\n",
    "from random import shuffle\n",
    "import csv\n",
    "import os\n",
    "\n",
    "from modules.logging import logger\n",
    "import modules.logging\n",
    "import modules.lungprepare as lungprepare\n",
    "import modules.utils as utils\n",
    "from modules.utils import Timer\n",
    "import modules.logging\n",
    "\n",
    "from multiprocessing import Pool\n",
    "import multiprocessing as mp"
   ]
  },
  {
   "cell_type": "code",
   "execution_count": 3,
   "metadata": {
    "collapsed": false,
    "deletable": true,
    "editable": true
   },
   "outputs": [],
   "source": [
    "def get_patient_ids(shard_id, input_dir):\n",
    "    shard_patients = []\n",
    "    \n",
    "    file = csv.DictReader(open(LABELS_FILE))    \n",
    "    for row in file:\n",
    "        p = row['id']\n",
    "        if(int(p,16)%NR_SHARDS == (shard_id-1)):\n",
    "            shard_patients.append(p)\n",
    "    logger.info('found {} patients for shard {}'.format(len(shard_patients), shard_id))\n",
    "    shuffle(shard_patients, lambda: RANDOM_SEED)\n",
    "    return shard_patients\n",
    "\n",
    "#     force ids\n",
    "#     return ['0c37613214faddf8701ca41e6d43f56e', '0a0c32c9e08cc2ea76a71649de56be6d', '0a38e7597ca26f9374f8ea2770ba870d']\n",
    "#     return ['16377fe7caf072d882f234dbbff9ef6c']\n",
    "    "
   ]
  },
  {
   "cell_type": "code",
   "execution_count": 4,
   "metadata": {
    "collapsed": true,
    "deletable": true,
    "editable": true
   },
   "outputs": [],
   "source": [
    "def patient_label(input_dir, patient_id):\n",
    "    labels = pd.read_csv(LABELS_FILE, index_col=0)\n",
    "    value = labels.get_value(patient_id, 'cancer')\n",
    "    #one-hot encoding\n",
    "    label = np.array([0,1])\n",
    "    if(value == 0): label = np.array([1,0])\n",
    "    return label"
   ]
  },
  {
   "cell_type": "code",
   "execution_count": 5,
   "metadata": {
    "collapsed": false,
    "deletable": true,
    "editable": true
   },
   "outputs": [],
   "source": [
    "def start_processing(input_dir, shard_id, max_patients, image_dims, base_output_dir):\n",
    "    t = Timer('shard', debug=False)\n",
    "    output_dir = base_output_dir + str(shard_id) + '/'\n",
    "    logger.info('Processing patients. shard_id=' + str(shard_id) + ' max_patients='+ str(max_patients) + ' input_dir=' + input_dir + ' output_dir=' + output_dir)\n",
    "    \n",
    "    #check if this shard was already processed\n",
    "    file_done = output_dir + 'done'\n",
    "    if(os.path.isfile(file_done)):\n",
    "        logger.warning('Shard ' + str(shard_id) + ' already processed. Skipping it.')\n",
    "        return 'shard ' + str(shard_id) + ': SKIPPED'\n",
    "\n",
    "    logger.info('Gathering patient ids for this shard')\n",
    "    patient_ids = get_patient_ids(shard_id, input_dir)\n",
    "    total_patients = len(patient_ids)\n",
    "    \n",
    "    dataset_name = 'data-centered-rotated'\n",
    "\n",
    "    logger.info('Preparing output dir')\n",
    "    utils.mkdirs(output_dir, dirs=['images'], recreate=True)\n",
    "\n",
    "    modules.logging.setup_file_logger(base_output_dir + 'out.log')\n",
    "\n",
    "    logger.info('Creating datasets')\n",
    "    dataset_file = utils.dataset_path(output_dir, dataset_name, image_dims)\n",
    "    with h5py.File(dataset_file, 'w') as h5f:\n",
    "        x_ds = h5f.create_dataset('X', (total_patients, image_dims[0], image_dims[1], image_dims[2], image_dims[3]), chunks=(1, image_dims[0], image_dims[1], image_dims[2], image_dims[3]), dtype='f')\n",
    "        y_ds = h5f.create_dataset('Y', (total_patients, 2), dtype='f')\n",
    "\n",
    "        logger.info('Starting to process each patient (count={})'.format(len(patient_ids)))\n",
    "        count = 0\n",
    "        record_row = 0\n",
    "\n",
    "        for patient_id in patient_ids:\n",
    "            if(count>(max_patients-1)):\n",
    "                break\n",
    "\n",
    "            t = Timer('>>> PATIENT PROCESSING ' + patient_id + ' (count=' + str(count) + '; output_dir=' + output_dir + ')')\n",
    "            patient_pixels = lungprepare.process_patient_images(input_dir + patient_id, image_dims, output_dir, patient_id)\n",
    "            if(patient_pixels != None):\n",
    "                if(not np.any(patient_pixels)):\n",
    "                    logger.error('Patient pixels returned with zero values patient_id=' + patient_id)\n",
    "                logger.info('Recording patient pixels to output dataset count=' + str(count))\n",
    "                x_ds[record_row] = patient_pixels\n",
    "                label = patient_label(input_dir, patient_id)\n",
    "                y_ds[record_row] = label\n",
    "                record_row = record_row + 1\n",
    "            else:\n",
    "                logger.warning('Patient lung not found. Skipping.')   \n",
    "\n",
    "            t.stop()\n",
    "            count = count + 1\n",
    "\n",
    "    if(not utils.validate_dataset(output_dir, dataset_name, image_dims, save_dir=output_dir + 'images/')):\n",
    "        logger.error('Validation ERROR on shard ' + str(shard_id))\n",
    "        return 'shard ' + str(shard_id) + ': ERROR ' + str(t.elapsed()*1000) + 'ms'\n",
    "\n",
    "    logger.info('Marking shard as processed')\n",
    "    f = open(file_done, 'w')\n",
    "    f.write('OK')\n",
    "    f.close()\n",
    "    \n",
    "    return 'shard ' + str(shard_id) + ': OK ' + str(t.elapsed()*1000) + 'ms'"
   ]
  },
  {
   "cell_type": "code",
   "execution_count": null,
   "metadata": {
    "collapsed": false,
    "deletable": true,
    "editable": true,
    "scrolled": false
   },
   "outputs": [
    {
     "name": "stderr",
     "output_type": "stream",
     "text": [
      "2017-03-12 23:12:58,079 INFO ==== PROCESSING SHARDS IN PARALLEL ====\n",
      "2017-03-12 23:12:58,081 INFO Using 8 parallel tasks\n",
      "2017-03-12 23:13:00,150 INFO Processing patients. shard_id=646 max_patients=999 input_dir=../../../input/stage1_images/ output_dir=../../../output/kaggle-bowl/step3/646/\n",
      "2017-03-12 23:13:00,153 WARNING Shard 646 already processed. Skipping it.\n"
     ]
    },
    {
     "name": "stdout",
     "output_type": "stream",
     "text": [
      "shard 646: SKIPPED\n"
     ]
    },
    {
     "name": "stderr",
     "output_type": "stream",
     "text": [
      "2017-03-12 23:13:05,155 INFO Processing patients. shard_id=233 max_patients=999 input_dir=../../../input/stage1_images/ output_dir=../../../output/kaggle-bowl/step3/233/\n",
      "2017-03-12 23:13:05,158 WARNING Shard 233 already processed. Skipping it.\n"
     ]
    },
    {
     "name": "stdout",
     "output_type": "stream",
     "text": [
      "shard 233: SKIPPED\n"
     ]
    },
    {
     "name": "stderr",
     "output_type": "stream",
     "text": [
      "2017-03-12 23:13:14,164 INFO Processing patients. shard_id=414 max_patients=999 input_dir=../../../input/stage1_images/ output_dir=../../../output/kaggle-bowl/step3/414/\n",
      "2017-03-12 23:13:14,166 WARNING Shard 414 already processed. Skipping it.\n"
     ]
    },
    {
     "name": "stdout",
     "output_type": "stream",
     "text": [
      "shard 414: SKIPPED\n"
     ]
    },
    {
     "name": "stderr",
     "output_type": "stream",
     "text": [
      "2017-03-12 23:13:16,165 INFO Processing patients. shard_id=433 max_patients=999 input_dir=../../../input/stage1_images/ output_dir=../../../output/kaggle-bowl/step3/433/\n",
      "2017-03-12 23:13:16,166 INFO Processing patients. shard_id=221 max_patients=999 input_dir=../../../input/stage1_images/ output_dir=../../../output/kaggle-bowl/step3/221/\n",
      "2017-03-12 23:13:16,166 INFO Processing patients. shard_id=674 max_patients=999 input_dir=../../../input/stage1_images/ output_dir=../../../output/kaggle-bowl/step3/674/\n",
      "2017-03-12 23:13:16,166 INFO Processing patients. shard_id=41 max_patients=999 input_dir=../../../input/stage1_images/ output_dir=../../../output/kaggle-bowl/step3/41/\n",
      "2017-03-12 23:13:16,165 INFO Processing patients. shard_id=624 max_patients=999 input_dir=../../../input/stage1_images/ output_dir=../../../output/kaggle-bowl/step3/624/\n",
      "2017-03-12 23:13:16,168 WARNING Shard 433 already processed. Skipping it.\n",
      "2017-03-12 23:13:16,169 WARNING Shard 221 already processed. Skipping it.\n",
      "2017-03-12 23:13:16,169 INFO Gathering patient ids for this shard\n",
      "2017-03-12 23:13:16,169 WARNING Shard 41 already processed. Skipping it.\n",
      "2017-03-12 23:13:16,169 WARNING Shard 674 already processed. Skipping it.\n",
      "2017-03-12 23:13:16,169 INFO Processing patients. shard_id=626 max_patients=999 input_dir=../../../input/stage1_images/ output_dir=../../../output/kaggle-bowl/step3/626/\n",
      "2017-03-12 23:13:16,171 INFO Gathering patient ids for this shard\n",
      "2017-03-12 23:13:16,175 INFO found 0 patients for shard 624\n",
      "2017-03-12 23:13:16,176 INFO Preparing output dir\n",
      "2017-03-12 23:13:16,176 INFO found 0 patients for shard 626\n",
      "2017-03-12 23:13:16,177 INFO Preparing output dir\n",
      "2017-03-12 23:13:16,210 INFO Creating datasets\n",
      "2017-03-12 23:13:16,210 INFO Creating datasets\n",
      "2017-03-12 23:13:16,213 WARNING Exception while processing shard 626: Chunk shape must not be greater than data shape in any dimension. (1, 312, 212, 312, 1) is not compatible with (0, 312, 212, 312, 1)\n",
      "2017-03-12 23:13:16,213 WARNING Exception while processing shard 624: Chunk shape must not be greater than data shape in any dimension. (1, 312, 212, 312, 1) is not compatible with (0, 312, 212, 312, 1)\n"
     ]
    },
    {
     "name": "stdout",
     "output_type": "stream",
     "text": [
      "shard 433: SKIPPED\n",
      "shard 221: SKIPPED\n",
      "shard 41: SKIPPED\n",
      "shard 674: SKIPPED\n",
      "shard 626 exception: Chunk shape must not be greater than data shape in any dimension. (1, 312, 212, 312, 1) is not compatible with (0, 312, 212, 312, 1)\n",
      "shard 624 exception: Chunk shape must not be greater than data shape in any dimension. (1, 312, 212, 312, 1) is not compatible with (0, 312, 212, 312, 1)\n"
     ]
    },
    {
     "name": "stderr",
     "output_type": "stream",
     "text": [
      "2017-03-12 23:13:17,167 INFO Processing patients. shard_id=275 max_patients=999 input_dir=../../../input/stage1_images/ output_dir=../../../output/kaggle-bowl/step3/275/\n",
      "2017-03-12 23:13:17,169 WARNING Shard 275 already processed. Skipping it.\n"
     ]
    },
    {
     "name": "stdout",
     "output_type": "stream",
     "text": [
      "shard 275: SKIPPED\n"
     ]
    },
    {
     "name": "stderr",
     "output_type": "stream",
     "text": [
      "2017-03-12 23:13:23,177 INFO Processing patients. shard_id=662 max_patients=999 input_dir=../../../input/stage1_images/ output_dir=../../../output/kaggle-bowl/step3/662/\n",
      "2017-03-12 23:13:23,177 INFO Processing patients. shard_id=131 max_patients=999 input_dir=../../../input/stage1_images/ output_dir=../../../output/kaggle-bowl/step3/131/\n",
      "2017-03-12 23:13:23,178 WARNING Shard 662 already processed. Skipping it.\n",
      "2017-03-12 23:13:23,178 WARNING Shard 131 already processed. Skipping it.\n"
     ]
    },
    {
     "name": "stdout",
     "output_type": "stream",
     "text": [
      "shard 662: SKIPPED\n",
      "shard 131: SKIPPED\n"
     ]
    },
    {
     "name": "stderr",
     "output_type": "stream",
     "text": [
      "2017-03-12 23:13:24,222 INFO Processing patients. shard_id=365 max_patients=999 input_dir=../../../input/stage1_images/ output_dir=../../../output/kaggle-bowl/step3/365/\n",
      "2017-03-12 23:13:24,223 WARNING Shard 365 already processed. Skipping it.\n"
     ]
    },
    {
     "name": "stdout",
     "output_type": "stream",
     "text": [
      "shard 365: SKIPPED\n"
     ]
    },
    {
     "name": "stderr",
     "output_type": "stream",
     "text": [
      "2017-03-12 23:13:25,181 INFO Processing patients. shard_id=656 max_patients=999 input_dir=../../../input/stage1_images/ output_dir=../../../output/kaggle-bowl/step3/656/\n",
      "2017-03-12 23:13:25,182 WARNING Shard 656 already processed. Skipping it.\n"
     ]
    },
    {
     "name": "stdout",
     "output_type": "stream",
     "text": [
      "shard 656: SKIPPED\n"
     ]
    },
    {
     "name": "stderr",
     "output_type": "stream",
     "text": [
      "2017-03-12 23:13:27,182 INFO Processing patients. shard_id=337 max_patients=999 input_dir=../../../input/stage1_images/ output_dir=../../../output/kaggle-bowl/step3/337/\n",
      "2017-03-12 23:13:27,183 WARNING Shard 337 already processed. Skipping it.\n",
      "2017-03-12 23:13:27,227 INFO Processing patients. shard_id=213 max_patients=999 input_dir=../../../input/stage1_images/ output_dir=../../../output/kaggle-bowl/step3/213/\n",
      "2017-03-12 23:13:27,228 WARNING Shard 213 already processed. Skipping it.\n"
     ]
    },
    {
     "name": "stdout",
     "output_type": "stream",
     "text": [
      "shard 337: SKIPPED\n",
      "shard 213: SKIPPED\n"
     ]
    },
    {
     "name": "stderr",
     "output_type": "stream",
     "text": [
      "2017-03-12 23:13:28,182 INFO Processing patients. shard_id=61 max_patients=999 input_dir=../../../input/stage1_images/ output_dir=../../../output/kaggle-bowl/step3/61/\n",
      "2017-03-12 23:13:28,184 WARNING Shard 61 already processed. Skipping it.\n"
     ]
    },
    {
     "name": "stdout",
     "output_type": "stream",
     "text": [
      "shard 61: SKIPPED\n"
     ]
    },
    {
     "name": "stderr",
     "output_type": "stream",
     "text": [
      "2017-03-12 23:13:33,191 INFO Processing patients. shard_id=272 max_patients=999 input_dir=../../../input/stage1_images/ output_dir=../../../output/kaggle-bowl/step3/272/\n",
      "2017-03-12 23:13:33,192 WARNING Shard 272 already processed. Skipping it.\n",
      "2017-03-12 23:13:33,231 INFO Processing patients. shard_id=500 max_patients=999 input_dir=../../../input/stage1_images/ output_dir=../../../output/kaggle-bowl/step3/500/\n",
      "2017-03-12 23:13:33,232 WARNING Shard 500 already processed. Skipping it.\n"
     ]
    },
    {
     "name": "stdout",
     "output_type": "stream",
     "text": [
      "shard 272: SKIPPED\n",
      "shard 500: SKIPPED\n"
     ]
    },
    {
     "name": "stderr",
     "output_type": "stream",
     "text": [
      "2017-03-12 23:13:35,188 INFO Processing patients. shard_id=648 max_patients=999 input_dir=../../../input/stage1_images/ output_dir=../../../output/kaggle-bowl/step3/648/\n",
      "2017-03-12 23:13:35,189 WARNING Shard 648 already processed. Skipping it.\n",
      "2017-03-12 23:13:35,237 INFO Processing patients. shard_id=502 max_patients=999 input_dir=../../../input/stage1_images/ output_dir=../../../output/kaggle-bowl/step3/502/\n",
      "2017-03-12 23:13:35,238 INFO Gathering patient ids for this shard\n",
      "2017-03-12 23:13:35,243 INFO found 0 patients for shard 502\n",
      "2017-03-12 23:13:35,244 INFO Preparing output dir\n",
      "2017-03-12 23:13:35,245 INFO Creating datasets\n",
      "2017-03-12 23:13:35,247 WARNING Exception while processing shard 502: Chunk shape must not be greater than data shape in any dimension. (1, 312, 212, 312, 1) is not compatible with (0, 312, 212, 312, 1)\n"
     ]
    },
    {
     "name": "stdout",
     "output_type": "stream",
     "text": [
      "shard 648: SKIPPED\n",
      "shard 502 exception: Chunk shape must not be greater than data shape in any dimension. (1, 312, 212, 312, 1) is not compatible with (0, 312, 212, 312, 1)\n"
     ]
    },
    {
     "name": "stderr",
     "output_type": "stream",
     "text": [
      "2017-03-12 23:13:36,191 INFO Processing patients. shard_id=264 max_patients=999 input_dir=../../../input/stage1_images/ output_dir=../../../output/kaggle-bowl/step3/264/\n",
      "2017-03-12 23:13:36,192 WARNING Shard 264 already processed. Skipping it.\n"
     ]
    },
    {
     "name": "stdout",
     "output_type": "stream",
     "text": [
      "shard 264: SKIPPED\n"
     ]
    },
    {
     "name": "stderr",
     "output_type": "stream",
     "text": [
      "2017-03-12 23:13:41,197 INFO Processing patients. shard_id=39 max_patients=999 input_dir=../../../input/stage1_images/ output_dir=../../../output/kaggle-bowl/step3/39/\n",
      "2017-03-12 23:13:41,198 INFO Processing patients. shard_id=344 max_patients=999 input_dir=../../../input/stage1_images/ output_dir=../../../output/kaggle-bowl/step3/344/\n",
      "2017-03-12 23:13:41,199 WARNING Shard 344 already processed. Skipping it.\n",
      "2017-03-12 23:13:41,198 WARNING Shard 39 already processed. Skipping it.\n",
      "2017-03-12 23:13:41,200 INFO Processing patients. shard_id=399 max_patients=999 input_dir=../../../input/stage1_images/ output_dir=../../../output/kaggle-bowl/step3/399/\n",
      "2017-03-12 23:13:41,201 WARNING Shard 399 already processed. Skipping it.\n"
     ]
    },
    {
     "name": "stdout",
     "output_type": "stream",
     "text": [
      "shard 344: SKIPPED\n",
      "shard 39: SKIPPED\n",
      "shard 399: SKIPPED\n"
     ]
    },
    {
     "name": "stderr",
     "output_type": "stream",
     "text": [
      "2017-03-12 23:13:42,202 INFO Processing patients. shard_id=550 max_patients=999 input_dir=../../../input/stage1_images/ output_dir=../../../output/kaggle-bowl/step3/550/\n",
      "2017-03-12 23:13:42,203 WARNING Shard 550 already processed. Skipping it.\n"
     ]
    },
    {
     "name": "stdout",
     "output_type": "stream",
     "text": [
      "shard 550: SKIPPED\n"
     ]
    },
    {
     "name": "stderr",
     "output_type": "stream",
     "text": [
      "2017-03-12 23:13:44,203 INFO Processing patients. shard_id=351 max_patients=999 input_dir=../../../input/stage1_images/ output_dir=../../../output/kaggle-bowl/step3/351/\n",
      "2017-03-12 23:13:44,204 WARNING Shard 351 already processed. Skipping it.\n"
     ]
    },
    {
     "name": "stdout",
     "output_type": "stream",
     "text": [
      "shard 351: SKIPPED\n"
     ]
    },
    {
     "name": "stderr",
     "output_type": "stream",
     "text": [
      "2017-03-12 23:13:45,203 INFO Processing patients. shard_id=350 max_patients=999 input_dir=../../../input/stage1_images/ output_dir=../../../output/kaggle-bowl/step3/350/\n",
      "2017-03-12 23:13:45,204 WARNING Shard 350 already processed. Skipping it.\n"
     ]
    },
    {
     "name": "stdout",
     "output_type": "stream",
     "text": [
      "shard 350: SKIPPED\n"
     ]
    },
    {
     "name": "stderr",
     "output_type": "stream",
     "text": [
      "2017-03-12 23:13:47,202 INFO Processing patients. shard_id=229 max_patients=999 input_dir=../../../input/stage1_images/ output_dir=../../../output/kaggle-bowl/step3/229/\n",
      "2017-03-12 23:13:47,203 WARNING Shard 229 already processed. Skipping it.\n"
     ]
    },
    {
     "name": "stdout",
     "output_type": "stream",
     "text": [
      "shard 229: SKIPPED\n"
     ]
    },
    {
     "name": "stderr",
     "output_type": "stream",
     "text": [
      "2017-03-12 23:13:49,204 INFO Processing patients. shard_id=609 max_patients=999 input_dir=../../../input/stage1_images/ output_dir=../../../output/kaggle-bowl/step3/609/\n",
      "2017-03-12 23:13:49,206 WARNING Shard 609 already processed. Skipping it.\n"
     ]
    },
    {
     "name": "stdout",
     "output_type": "stream",
     "text": [
      "shard 609: SKIPPED\n"
     ]
    },
    {
     "name": "stderr",
     "output_type": "stream",
     "text": [
      "2017-03-12 23:13:51,212 INFO Processing patients. shard_id=419 max_patients=999 input_dir=../../../input/stage1_images/ output_dir=../../../output/kaggle-bowl/step3/419/\n",
      "2017-03-12 23:13:51,213 WARNING Shard 419 already processed. Skipping it.\n",
      "2017-03-12 23:13:51,251 INFO Processing patients. shard_id=613 max_patients=999 input_dir=../../../input/stage1_images/ output_dir=../../../output/kaggle-bowl/step3/613/\n",
      "2017-03-12 23:13:51,252 WARNING Shard 613 already processed. Skipping it.\n"
     ]
    },
    {
     "name": "stdout",
     "output_type": "stream",
     "text": [
      "shard 419: SKIPPED\n",
      "shard 613: SKIPPED\n"
     ]
    },
    {
     "name": "stderr",
     "output_type": "stream",
     "text": [
      "2017-03-12 23:13:52,213 INFO Processing patients. shard_id=559 max_patients=999 input_dir=../../../input/stage1_images/ output_dir=../../../output/kaggle-bowl/step3/559/\n",
      "2017-03-12 23:13:52,214 WARNING Shard 559 already processed. Skipping it.\n"
     ]
    },
    {
     "name": "stdout",
     "output_type": "stream",
     "text": [
      "shard 559: SKIPPED\n"
     ]
    },
    {
     "name": "stderr",
     "output_type": "stream",
     "text": [
      "2017-03-12 23:13:53,266 INFO Processing patients. shard_id=444 max_patients=999 input_dir=../../../input/stage1_images/ output_dir=../../../output/kaggle-bowl/step3/444/\n",
      "2017-03-12 23:13:53,267 WARNING Shard 444 already processed. Skipping it.\n"
     ]
    },
    {
     "name": "stdout",
     "output_type": "stream",
     "text": [
      "shard 444: SKIPPED\n"
     ]
    },
    {
     "name": "stderr",
     "output_type": "stream",
     "text": [
      "2017-03-12 23:13:54,216 INFO Processing patients. shard_id=487 max_patients=999 input_dir=../../../input/stage1_images/ output_dir=../../../output/kaggle-bowl/step3/487/\n",
      "2017-03-12 23:13:54,217 WARNING Shard 487 already processed. Skipping it.\n"
     ]
    },
    {
     "name": "stdout",
     "output_type": "stream",
     "text": [
      "shard 487: SKIPPED\n"
     ]
    },
    {
     "name": "stderr",
     "output_type": "stream",
     "text": [
      "2017-03-12 23:13:55,215 INFO Processing patients. shard_id=236 max_patients=999 input_dir=../../../input/stage1_images/ output_dir=../../../output/kaggle-bowl/step3/236/\n",
      "2017-03-12 23:13:55,217 WARNING Shard 236 already processed. Skipping it.\n"
     ]
    },
    {
     "name": "stdout",
     "output_type": "stream",
     "text": [
      "shard 236: SKIPPED\n"
     ]
    },
    {
     "name": "stderr",
     "output_type": "stream",
     "text": [
      "2017-03-12 23:13:56,220 INFO Processing patients. shard_id=219 max_patients=999 input_dir=../../../input/stage1_images/ output_dir=../../../output/kaggle-bowl/step3/219/\n",
      "2017-03-12 23:13:56,221 WARNING Shard 219 already processed. Skipping it.\n"
     ]
    },
    {
     "name": "stdout",
     "output_type": "stream",
     "text": [
      "shard 219: SKIPPED\n"
     ]
    },
    {
     "name": "stderr",
     "output_type": "stream",
     "text": [
      "2017-03-12 23:13:59,222 INFO Processing patients. shard_id=453 max_patients=999 input_dir=../../../input/stage1_images/ output_dir=../../../output/kaggle-bowl/step3/453/\n",
      "2017-03-12 23:13:59,222 INFO Processing patients. shard_id=80 max_patients=999 input_dir=../../../input/stage1_images/ output_dir=../../../output/kaggle-bowl/step3/80/\n",
      "2017-03-12 23:13:59,223 INFO Gathering patient ids for this shard\n",
      "2017-03-12 23:13:59,223 WARNING Shard 453 already processed. Skipping it.\n",
      "2017-03-12 23:13:59,229 INFO found 0 patients for shard 80\n",
      "2017-03-12 23:13:59,229 INFO Preparing output dir\n",
      "2017-03-12 23:13:59,231 INFO Creating datasets\n",
      "2017-03-12 23:13:59,233 WARNING Exception while processing shard 80: Chunk shape must not be greater than data shape in any dimension. (1, 312, 212, 312, 1) is not compatible with (0, 312, 212, 312, 1)\n",
      "2017-03-12 23:13:59,261 INFO Processing patients. shard_id=434 max_patients=999 input_dir=../../../input/stage1_images/ output_dir=../../../output/kaggle-bowl/step3/434/\n",
      "2017-03-12 23:13:59,262 WARNING Shard 434 already processed. Skipping it.\n"
     ]
    },
    {
     "name": "stdout",
     "output_type": "stream",
     "text": [
      "shard 453: SKIPPED\n",
      "shard 80 exception: Chunk shape must not be greater than data shape in any dimension. (1, 312, 212, 312, 1) is not compatible with (0, 312, 212, 312, 1)\n",
      "shard 434: SKIPPED\n"
     ]
    },
    {
     "name": "stderr",
     "output_type": "stream",
     "text": [
      "2017-03-12 23:14:02,266 INFO Processing patients. shard_id=645 max_patients=999 input_dir=../../../input/stage1_images/ output_dir=../../../output/kaggle-bowl/step3/645/\n",
      "2017-03-12 23:14:02,268 WARNING Shard 645 already processed. Skipping it.\n"
     ]
    },
    {
     "name": "stdout",
     "output_type": "stream",
     "text": [
      "shard 645: SKIPPED\n"
     ]
    },
    {
     "name": "stderr",
     "output_type": "stream",
     "text": [
      "2017-03-12 23:14:03,221 INFO Processing patients. shard_id=185 max_patients=999 input_dir=../../../input/stage1_images/ output_dir=../../../output/kaggle-bowl/step3/185/\n",
      "2017-03-12 23:14:03,222 WARNING Shard 185 already processed. Skipping it.\n",
      "2017-03-12 23:14:03,226 INFO Processing patients. shard_id=155 max_patients=999 input_dir=../../../input/stage1_images/ output_dir=../../../output/kaggle-bowl/step3/155/\n",
      "2017-03-12 23:14:03,227 WARNING Shard 155 already processed. Skipping it.\n"
     ]
    },
    {
     "name": "stdout",
     "output_type": "stream",
     "text": [
      "shard 185: SKIPPED\n",
      "shard 155: SKIPPED\n"
     ]
    },
    {
     "name": "stderr",
     "output_type": "stream",
     "text": [
      "2017-03-12 23:14:04,271 INFO Processing patients. shard_id=593 max_patients=999 input_dir=../../../input/stage1_images/ output_dir=../../../output/kaggle-bowl/step3/593/\n",
      "2017-03-12 23:14:04,272 INFO Gathering patient ids for this shard\n",
      "2017-03-12 23:14:04,277 INFO found 0 patients for shard 593\n",
      "2017-03-12 23:14:04,278 INFO Preparing output dir\n",
      "2017-03-12 23:14:04,280 INFO Creating datasets\n",
      "2017-03-12 23:14:04,281 WARNING Exception while processing shard 593: Chunk shape must not be greater than data shape in any dimension. (1, 312, 212, 312, 1) is not compatible with (0, 312, 212, 312, 1)\n"
     ]
    },
    {
     "name": "stdout",
     "output_type": "stream",
     "text": [
      "shard 593 exception: Chunk shape must not be greater than data shape in any dimension. (1, 312, 212, 312, 1) is not compatible with (0, 312, 212, 312, 1)\n"
     ]
    },
    {
     "name": "stderr",
     "output_type": "stream",
     "text": [
      "2017-03-12 23:14:06,223 INFO Processing patients. shard_id=684 max_patients=999 input_dir=../../../input/stage1_images/ output_dir=../../../output/kaggle-bowl/step3/684/\n",
      "2017-03-12 23:14:06,224 WARNING Shard 684 already processed. Skipping it.\n"
     ]
    },
    {
     "name": "stdout",
     "output_type": "stream",
     "text": [
      "shard 684: SKIPPED\n"
     ]
    },
    {
     "name": "stderr",
     "output_type": "stream",
     "text": [
      "2017-03-12 23:14:07,226 INFO Processing patients. shard_id=100 max_patients=999 input_dir=../../../input/stage1_images/ output_dir=../../../output/kaggle-bowl/step3/100/\n",
      "2017-03-12 23:14:07,226 INFO Processing patients. shard_id=384 max_patients=999 input_dir=../../../input/stage1_images/ output_dir=../../../output/kaggle-bowl/step3/384/\n",
      "2017-03-12 23:14:07,228 INFO Gathering patient ids for this shard\n",
      "2017-03-12 23:14:07,228 WARNING Shard 100 already processed. Skipping it.\n",
      "2017-03-12 23:14:07,230 INFO Processing patients. shard_id=91 max_patients=999 input_dir=../../../input/stage1_images/ output_dir=../../../output/kaggle-bowl/step3/91/\n",
      "2017-03-12 23:14:07,231 WARNING Shard 91 already processed. Skipping it.\n",
      "2017-03-12 23:14:07,233 INFO found 0 patients for shard 384\n",
      "2017-03-12 23:14:07,234 INFO Preparing output dir\n",
      "2017-03-12 23:14:07,235 INFO Creating datasets\n",
      "2017-03-12 23:14:07,237 WARNING Exception while processing shard 384: Chunk shape must not be greater than data shape in any dimension. (1, 312, 212, 312, 1) is not compatible with (0, 312, 212, 312, 1)\n"
     ]
    },
    {
     "name": "stdout",
     "output_type": "stream",
     "text": [
      "shard 100: SKIPPED\n",
      "shard 91: SKIPPED\n",
      "shard 384 exception: Chunk shape must not be greater than data shape in any dimension. (1, 312, 212, 312, 1) is not compatible with (0, 312, 212, 312, 1)\n"
     ]
    },
    {
     "name": "stderr",
     "output_type": "stream",
     "text": [
      "2017-03-12 23:14:08,233 INFO Processing patients. shard_id=142 max_patients=999 input_dir=../../../input/stage1_images/ output_dir=../../../output/kaggle-bowl/step3/142/\n",
      "2017-03-12 23:14:08,234 WARNING Shard 142 already processed. Skipping it.\n"
     ]
    },
    {
     "name": "stdout",
     "output_type": "stream",
     "text": [
      "shard 142: SKIPPED\n"
     ]
    },
    {
     "name": "stderr",
     "output_type": "stream",
     "text": [
      "2017-03-12 23:14:11,231 INFO Processing patients. shard_id=379 max_patients=999 input_dir=../../../input/stage1_images/ output_dir=../../../output/kaggle-bowl/step3/379/\n",
      "2017-03-12 23:14:11,232 WARNING Shard 379 already processed. Skipping it.\n"
     ]
    },
    {
     "name": "stdout",
     "output_type": "stream",
     "text": [
      "shard 379: SKIPPED\n"
     ]
    },
    {
     "name": "stderr",
     "output_type": "stream",
     "text": [
      "2017-03-12 23:14:13,235 INFO Processing patients. shard_id=108 max_patients=999 input_dir=../../../input/stage1_images/ output_dir=../../../output/kaggle-bowl/step3/108/\n",
      "2017-03-12 23:14:13,236 WARNING Shard 108 already processed. Skipping it.\n",
      "2017-03-12 23:14:13,288 INFO Processing patients. shard_id=176 max_patients=999 input_dir=../../../input/stage1_images/ output_dir=../../../output/kaggle-bowl/step3/176/\n",
      "2017-03-12 23:14:13,289 WARNING Shard 176 already processed. Skipping it.\n"
     ]
    },
    {
     "name": "stdout",
     "output_type": "stream",
     "text": [
      "shard 108: SKIPPED\n",
      "shard 176: SKIPPED\n"
     ]
    },
    {
     "name": "stderr",
     "output_type": "stream",
     "text": [
      "2017-03-12 23:14:14,238 INFO Processing patients. shard_id=412 max_patients=999 input_dir=../../../input/stage1_images/ output_dir=../../../output/kaggle-bowl/step3/412/\n",
      "2017-03-12 23:14:14,239 INFO Gathering patient ids for this shard\n",
      "2017-03-12 23:14:14,245 INFO found 0 patients for shard 412\n",
      "2017-03-12 23:14:14,246 INFO Preparing output dir\n",
      "2017-03-12 23:14:14,247 INFO Creating datasets\n",
      "2017-03-12 23:14:14,249 WARNING Exception while processing shard 412: Chunk shape must not be greater than data shape in any dimension. (1, 312, 212, 312, 1) is not compatible with (0, 312, 212, 312, 1)\n"
     ]
    },
    {
     "name": "stdout",
     "output_type": "stream",
     "text": [
      "shard 412 exception: Chunk shape must not be greater than data shape in any dimension. (1, 312, 212, 312, 1) is not compatible with (0, 312, 212, 312, 1)\n"
     ]
    },
    {
     "name": "stderr",
     "output_type": "stream",
     "text": [
      "2017-03-12 23:14:17,244 INFO Processing patients. shard_id=429 max_patients=999 input_dir=../../../input/stage1_images/ output_dir=../../../output/kaggle-bowl/step3/429/\n",
      "2017-03-12 23:14:17,245 WARNING Shard 429 already processed. Skipping it.\n"
     ]
    },
    {
     "name": "stdout",
     "output_type": "stream",
     "text": [
      "shard 429: SKIPPED\n"
     ]
    },
    {
     "name": "stderr",
     "output_type": "stream",
     "text": [
      "2017-03-12 23:14:18,253 INFO Processing patients. shard_id=200 max_patients=999 input_dir=../../../input/stage1_images/ output_dir=../../../output/kaggle-bowl/step3/200/\n",
      "2017-03-12 23:14:18,254 WARNING Shard 200 already processed. Skipping it.\n"
     ]
    },
    {
     "name": "stdout",
     "output_type": "stream",
     "text": [
      "shard 200: SKIPPED\n"
     ]
    },
    {
     "name": "stderr",
     "output_type": "stream",
     "text": [
      "2017-03-12 23:14:20,257 INFO Processing patients. shard_id=292 max_patients=999 input_dir=../../../input/stage1_images/ output_dir=../../../output/kaggle-bowl/step3/292/\n",
      "2017-03-12 23:14:20,258 WARNING Shard 292 already processed. Skipping it.\n"
     ]
    },
    {
     "name": "stdout",
     "output_type": "stream",
     "text": [
      "shard 292: SKIPPED\n"
     ]
    },
    {
     "name": "stderr",
     "output_type": "stream",
     "text": [
      "2017-03-12 23:14:22,258 INFO Processing patients. shard_id=106 max_patients=999 input_dir=../../../input/stage1_images/ output_dir=../../../output/kaggle-bowl/step3/106/\n",
      "2017-03-12 23:14:22,259 WARNING Shard 106 already processed. Skipping it.\n",
      "2017-03-12 23:14:22,300 INFO Processing patients. shard_id=234 max_patients=999 input_dir=../../../input/stage1_images/ output_dir=../../../output/kaggle-bowl/step3/234/\n",
      "2017-03-12 23:14:22,301 INFO Gathering patient ids for this shard\n",
      "2017-03-12 23:14:22,306 INFO found 0 patients for shard 234\n",
      "2017-03-12 23:14:22,307 INFO Preparing output dir\n",
      "2017-03-12 23:14:22,308 INFO Creating datasets\n",
      "2017-03-12 23:14:22,309 WARNING Exception while processing shard 234: Chunk shape must not be greater than data shape in any dimension. (1, 312, 212, 312, 1) is not compatible with (0, 312, 212, 312, 1)\n"
     ]
    },
    {
     "name": "stdout",
     "output_type": "stream",
     "text": [
      "shard 106: SKIPPED\n",
      "shard 234 exception: Chunk shape must not be greater than data shape in any dimension. (1, 312, 212, 312, 1) is not compatible with (0, 312, 212, 312, 1)\n"
     ]
    },
    {
     "name": "stderr",
     "output_type": "stream",
     "text": [
      "2017-03-12 23:14:23,254 INFO Processing patients. shard_id=111 max_patients=999 input_dir=../../../input/stage1_images/ output_dir=../../../output/kaggle-bowl/step3/111/\n",
      "2017-03-12 23:14:23,255 INFO Gathering patient ids for this shard\n",
      "2017-03-12 23:14:23,260 INFO found 0 patients for shard 111\n",
      "2017-03-12 23:14:23,261 INFO Preparing output dir\n",
      "2017-03-12 23:14:23,262 INFO Creating datasets\n",
      "2017-03-12 23:14:23,264 WARNING Exception while processing shard 111: Chunk shape must not be greater than data shape in any dimension. (1, 312, 212, 312, 1) is not compatible with (0, 312, 212, 312, 1)\n"
     ]
    },
    {
     "name": "stdout",
     "output_type": "stream",
     "text": [
      "shard 111 exception: Chunk shape must not be greater than data shape in any dimension. (1, 312, 212, 312, 1) is not compatible with (0, 312, 212, 312, 1)\n"
     ]
    },
    {
     "name": "stderr",
     "output_type": "stream",
     "text": [
      "2017-03-12 23:14:24,263 INFO Processing patients. shard_id=343 max_patients=999 input_dir=../../../input/stage1_images/ output_dir=../../../output/kaggle-bowl/step3/343/\n",
      "2017-03-12 23:14:24,264 WARNING Shard 343 already processed. Skipping it.\n",
      "2017-03-12 23:14:24,312 INFO Processing patients. shard_id=583 max_patients=999 input_dir=../../../input/stage1_images/ output_dir=../../../output/kaggle-bowl/step3/583/\n",
      "2017-03-12 23:14:24,313 WARNING Shard 583 already processed. Skipping it.\n"
     ]
    },
    {
     "name": "stdout",
     "output_type": "stream",
     "text": [
      "shard 343: SKIPPED\n",
      "shard 583: SKIPPED\n"
     ]
    },
    {
     "name": "stderr",
     "output_type": "stream",
     "text": [
      "2017-03-12 23:14:27,245 INFO Processing patients. shard_id=422 max_patients=999 input_dir=../../../input/stage1_images/ output_dir=../../../output/kaggle-bowl/step3/422/\n",
      "2017-03-12 23:14:27,246 WARNING Shard 422 already processed. Skipping it.\n"
     ]
    },
    {
     "name": "stdout",
     "output_type": "stream",
     "text": [
      "shard 422: SKIPPED\n"
     ]
    },
    {
     "name": "stderr",
     "output_type": "stream",
     "text": [
      "2017-03-12 23:14:29,306 INFO Processing patients. shard_id=596 max_patients=999 input_dir=../../../input/stage1_images/ output_dir=../../../output/kaggle-bowl/step3/596/\n",
      "2017-03-12 23:14:29,307 INFO Gathering patient ids for this shard\n",
      "2017-03-12 23:14:29,313 INFO found 0 patients for shard 596\n",
      "2017-03-12 23:14:29,313 INFO Preparing output dir\n",
      "2017-03-12 23:14:29,314 INFO Creating datasets\n",
      "2017-03-12 23:14:29,316 WARNING Exception while processing shard 596: Chunk shape must not be greater than data shape in any dimension. (1, 312, 212, 312, 1) is not compatible with (0, 312, 212, 312, 1)\n"
     ]
    },
    {
     "name": "stdout",
     "output_type": "stream",
     "text": [
      "shard 596 exception: Chunk shape must not be greater than data shape in any dimension. (1, 312, 212, 312, 1) is not compatible with (0, 312, 212, 312, 1)\n"
     ]
    },
    {
     "name": "stderr",
     "output_type": "stream",
     "text": [
      "2017-03-12 23:14:30,259 INFO Processing patients. shard_id=20 max_patients=999 input_dir=../../../input/stage1_images/ output_dir=../../../output/kaggle-bowl/step3/20/\n",
      "2017-03-12 23:14:30,260 WARNING Shard 20 already processed. Skipping it.\n",
      "2017-03-12 23:14:30,319 INFO Processing patients. shard_id=552 max_patients=999 input_dir=../../../input/stage1_images/ output_dir=../../../output/kaggle-bowl/step3/552/\n",
      "2017-03-12 23:14:30,320 WARNING Shard 552 already processed. Skipping it.\n"
     ]
    },
    {
     "name": "stdout",
     "output_type": "stream",
     "text": [
      "shard 20: SKIPPED\n",
      "shard 552: SKIPPED\n"
     ]
    },
    {
     "name": "stderr",
     "output_type": "stream",
     "text": [
      "2017-03-12 23:14:31,253 INFO Processing patients. shard_id=348 max_patients=999 input_dir=../../../input/stage1_images/ output_dir=../../../output/kaggle-bowl/step3/348/\n",
      "2017-03-12 23:14:31,254 INFO Gathering patient ids for this shard\n",
      "2017-03-12 23:14:31,259 INFO found 0 patients for shard 348\n",
      "2017-03-12 23:14:31,260 INFO Preparing output dir\n",
      "2017-03-12 23:14:31,261 INFO Creating datasets\n",
      "2017-03-12 23:14:31,263 WARNING Exception while processing shard 348: Chunk shape must not be greater than data shape in any dimension. (1, 312, 212, 312, 1) is not compatible with (0, 312, 212, 312, 1)\n"
     ]
    },
    {
     "name": "stdout",
     "output_type": "stream",
     "text": [
      "shard 348 exception: Chunk shape must not be greater than data shape in any dimension. (1, 312, 212, 312, 1) is not compatible with (0, 312, 212, 312, 1)\n"
     ]
    },
    {
     "name": "stderr",
     "output_type": "stream",
     "text": [
      "2017-03-12 23:14:34,275 INFO Processing patients. shard_id=135 max_patients=999 input_dir=../../../input/stage1_images/ output_dir=../../../output/kaggle-bowl/step3/135/\n",
      "2017-03-12 23:14:34,277 WARNING Shard 135 already processed. Skipping it.\n"
     ]
    },
    {
     "name": "stdout",
     "output_type": "stream",
     "text": [
      "shard 135: SKIPPED\n"
     ]
    },
    {
     "name": "stderr",
     "output_type": "stream",
     "text": [
      "2017-03-12 23:14:35,266 INFO Processing patients. shard_id=214 max_patients=999 input_dir=../../../input/stage1_images/ output_dir=../../../output/kaggle-bowl/step3/214/\n",
      "2017-03-12 23:14:35,267 INFO Gathering patient ids for this shard\n",
      "2017-03-12 23:14:35,272 INFO found 0 patients for shard 214\n",
      "2017-03-12 23:14:35,273 INFO Preparing output dir\n",
      "2017-03-12 23:14:35,274 INFO Creating datasets\n",
      "2017-03-12 23:14:35,276 WARNING Exception while processing shard 214: Chunk shape must not be greater than data shape in any dimension. (1, 312, 212, 312, 1) is not compatible with (0, 312, 212, 312, 1)\n"
     ]
    },
    {
     "name": "stdout",
     "output_type": "stream",
     "text": [
      "shard 214 exception: Chunk shape must not be greater than data shape in any dimension. (1, 312, 212, 312, 1) is not compatible with (0, 312, 212, 312, 1)\n"
     ]
    },
    {
     "name": "stderr",
     "output_type": "stream",
     "text": [
      "2017-03-12 23:14:36,274 INFO Processing patients. shard_id=6 max_patients=999 input_dir=../../../input/stage1_images/ output_dir=../../../output/kaggle-bowl/step3/6/\n",
      "2017-03-12 23:14:36,276 INFO Gathering patient ids for this shard\n",
      "2017-03-12 23:14:36,281 INFO found 0 patients for shard 6\n",
      "2017-03-12 23:14:36,281 INFO Preparing output dir\n",
      "2017-03-12 23:14:36,282 INFO Creating datasets\n",
      "2017-03-12 23:14:36,284 WARNING Exception while processing shard 6: Chunk shape must not be greater than data shape in any dimension. (1, 312, 212, 312, 1) is not compatible with (0, 312, 212, 312, 1)\n"
     ]
    },
    {
     "name": "stdout",
     "output_type": "stream",
     "text": [
      "shard 6 exception: Chunk shape must not be greater than data shape in any dimension. (1, 312, 212, 312, 1) is not compatible with (0, 312, 212, 312, 1)\n"
     ]
    },
    {
     "name": "stderr",
     "output_type": "stream",
     "text": [
      "2017-03-12 23:14:37,270 INFO Processing patients. shard_id=532 max_patients=999 input_dir=../../../input/stage1_images/ output_dir=../../../output/kaggle-bowl/step3/532/\n",
      "2017-03-12 23:14:37,271 INFO Gathering patient ids for this shard\n",
      "2017-03-12 23:14:37,277 INFO found 0 patients for shard 532\n",
      "2017-03-12 23:14:37,277 INFO Preparing output dir\n",
      "2017-03-12 23:14:37,278 INFO Creating datasets\n",
      "2017-03-12 23:14:37,280 WARNING Exception while processing shard 532: Chunk shape must not be greater than data shape in any dimension. (1, 312, 212, 312, 1) is not compatible with (0, 312, 212, 312, 1)\n"
     ]
    },
    {
     "name": "stdout",
     "output_type": "stream",
     "text": [
      "shard 532 exception: Chunk shape must not be greater than data shape in any dimension. (1, 312, 212, 312, 1) is not compatible with (0, 312, 212, 312, 1)\n"
     ]
    },
    {
     "name": "stderr",
     "output_type": "stream",
     "text": [
      "2017-03-12 23:14:40,282 INFO Processing patients. shard_id=71 max_patients=999 input_dir=../../../input/stage1_images/ output_dir=../../../output/kaggle-bowl/step3/71/\n",
      "2017-03-12 23:14:40,283 WARNING Shard 71 already processed. Skipping it.\n",
      "2017-03-12 23:14:40,284 INFO Processing patients. shard_id=50 max_patients=999 input_dir=../../../input/stage1_images/ output_dir=../../../output/kaggle-bowl/step3/50/\n",
      "2017-03-12 23:14:40,285 WARNING Shard 50 already processed. Skipping it.\n"
     ]
    },
    {
     "name": "stdout",
     "output_type": "stream",
     "text": [
      "shard 71: SKIPPED\n",
      "shard 50: SKIPPED\n"
     ]
    },
    {
     "name": "stderr",
     "output_type": "stream",
     "text": [
      "2017-03-12 23:14:41,285 INFO Processing patients. shard_id=122 max_patients=999 input_dir=../../../input/stage1_images/ output_dir=../../../output/kaggle-bowl/step3/122/\n",
      "2017-03-12 23:14:41,286 WARNING Shard 122 already processed. Skipping it.\n"
     ]
    },
    {
     "name": "stdout",
     "output_type": "stream",
     "text": [
      "shard 122: SKIPPED\n"
     ]
    },
    {
     "name": "stderr",
     "output_type": "stream",
     "text": [
      "2017-03-12 23:14:43,286 INFO Processing patients. shard_id=410 max_patients=999 input_dir=../../../input/stage1_images/ output_dir=../../../output/kaggle-bowl/step3/410/\n",
      "2017-03-12 23:14:43,287 WARNING Shard 410 already processed. Skipping it.\n"
     ]
    },
    {
     "name": "stdout",
     "output_type": "stream",
     "text": [
      "shard 410: SKIPPED\n"
     ]
    },
    {
     "name": "stderr",
     "output_type": "stream",
     "text": [
      "2017-03-12 23:14:45,329 INFO Processing patients. shard_id=210 max_patients=999 input_dir=../../../input/stage1_images/ output_dir=../../../output/kaggle-bowl/step3/210/\n",
      "2017-03-12 23:14:45,330 WARNING Shard 210 already processed. Skipping it.\n"
     ]
    },
    {
     "name": "stdout",
     "output_type": "stream",
     "text": [
      "shard 210: SKIPPED\n"
     ]
    },
    {
     "name": "stderr",
     "output_type": "stream",
     "text": [
      "2017-03-12 23:14:46,266 INFO Processing patients. shard_id=508 max_patients=999 input_dir=../../../input/stage1_images/ output_dir=../../../output/kaggle-bowl/step3/508/\n",
      "2017-03-12 23:14:46,267 WARNING Shard 508 already processed. Skipping it.\n"
     ]
    },
    {
     "name": "stdout",
     "output_type": "stream",
     "text": [
      "shard 508: SKIPPED\n"
     ]
    },
    {
     "name": "stderr",
     "output_type": "stream",
     "text": [
      "2017-03-12 23:14:47,296 INFO Processing patients. shard_id=158 max_patients=999 input_dir=../../../input/stage1_images/ output_dir=../../../output/kaggle-bowl/step3/158/\n",
      "2017-03-12 23:14:47,297 WARNING Shard 158 already processed. Skipping it.\n",
      "2017-03-12 23:14:47,338 INFO Processing patients. shard_id=134 max_patients=999 input_dir=../../../input/stage1_images/ output_dir=../../../output/kaggle-bowl/step3/134/\n",
      "2017-03-12 23:14:47,339 WARNING Shard 134 already processed. Skipping it.\n"
     ]
    },
    {
     "name": "stdout",
     "output_type": "stream",
     "text": [
      "shard 158: SKIPPED\n",
      "shard 134: SKIPPED\n"
     ]
    }
   ],
   "source": [
    "logger.info('==== PROCESSING SHARDS IN PARALLEL ====')\n",
    "\n",
    "from random import randint\n",
    "from time import sleep\n",
    "\n",
    "def process_shard(shard_id):\n",
    "    try:\n",
    "       sleep(randint(0,20))\n",
    "       return start_processing(INPUT_FOLDER, shard_id, 999, IMAGE_DIMS, BASE_OUTPUT_FOLDER)\n",
    "    except BaseException as e:\n",
    "       logger.warning('Exception while processing shard ' + str(shard_id) + ': ' + str(e))\n",
    "       return 'shard ' + str(shard_id) + ' exception: ' + str(e)\n",
    "\n",
    "#mp.set_start_method('spawn')\n",
    "n_processes = mp.cpu_count()\n",
    "#n_processes = 12\n",
    "logger.info('Using ' + str(n_processes) + ' parallel tasks')\n",
    "\n",
    "with Pool(n_processes) as p:\n",
    "    shards = list(range(1,NR_SHARDS+1))\n",
    "    shuffle(shards)\n",
    "#     shards = [23]\n",
    "    #http://stackoverflow.com/questions/26520781/multiprocessing-pool-whats-the-difference-between-map-async-and-imap\n",
    "    for i in p.imap_unordered(process_shard, shards):\n",
    "        print(i)\n",
    "\n",
    "logger.info('==== ALL DONE ====')"
   ]
  },
  {
   "cell_type": "code",
   "execution_count": null,
   "metadata": {
    "collapsed": false,
    "deletable": true,
    "editable": true
   },
   "outputs": [],
   "source": []
  },
  {
   "cell_type": "code",
   "execution_count": null,
   "metadata": {
    "collapsed": true,
    "deletable": true,
    "editable": true
   },
   "outputs": [],
   "source": []
  },
  {
   "cell_type": "code",
   "execution_count": null,
   "metadata": {
    "collapsed": true,
    "deletable": true,
    "editable": true
   },
   "outputs": [],
   "source": []
  },
  {
   "cell_type": "code",
   "execution_count": null,
   "metadata": {
    "collapsed": true,
    "deletable": true,
    "editable": true
   },
   "outputs": [],
   "source": []
  },
  {
   "cell_type": "code",
   "execution_count": null,
   "metadata": {
    "collapsed": true,
    "deletable": true,
    "editable": true
   },
   "outputs": [],
   "source": []
  }
 ],
 "metadata": {
  "anaconda-cloud": {},
  "kernelspec": {
   "display_name": "Python 3",
   "language": "python",
   "name": "python3"
  },
  "language_info": {
   "codemirror_mode": {
    "name": "ipython",
    "version": 3
   },
   "file_extension": ".py",
   "mimetype": "text/x-python",
   "name": "python",
   "nbconvert_exporter": "python",
   "pygments_lexer": "ipython3",
   "version": "3.4.3"
  }
 },
 "nbformat": 4,
 "nbformat_minor": 1
}
