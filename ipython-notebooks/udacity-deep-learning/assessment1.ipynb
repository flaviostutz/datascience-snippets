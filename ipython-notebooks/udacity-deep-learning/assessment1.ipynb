{
 "cells": [
  {
   "cell_type": "code",
   "execution_count": 1,
   "metadata": {
    "collapsed": true
   },
   "outputs": [],
   "source": [
    "# These are all the modules we'll be using later. Make sure you can import them\n",
    "# before proceeding further.\n",
    "from __future__ import print_function\n",
    "import matplotlib.pyplot as plt\n",
    "import numpy as np\n",
    "import os\n",
    "import sys\n",
    "import tarfile\n",
    "from IPython.display import display, Image\n",
    "from scipy import ndimage\n",
    "from sklearn.linear_model import LogisticRegression\n",
    "from six.moves.urllib.request import urlretrieve\n",
    "from six.moves import cPickle as pickle\n",
    "\n",
    "# Config the matplotlib backend as plotting inline in IPython\n",
    "%matplotlib inline"
   ]
  },
  {
   "cell_type": "code",
   "execution_count": 2,
   "metadata": {
    "collapsed": false
   },
   "outputs": [
    {
     "name": "stdout",
     "output_type": "stream",
     "text": [
      "Found and verified notMNIST_large.tar.gz\n",
      "Found and verified notMNIST_small.tar.gz\n"
     ]
    }
   ],
   "source": [
    "url = 'http://commondatastorage.googleapis.com/books1000/'\n",
    "last_percent_reported = None\n",
    "\n",
    "def download_progress_hook(count, blockSize, totalSize):\n",
    "  \"\"\"A hook to report the progress of a download. This is mostly intended for users with\n",
    "  slow internet connections. Reports every 5% change in download progress.\n",
    "  \"\"\"\n",
    "  global last_percent_reported\n",
    "  percent = int(count * blockSize * 100 / totalSize)\n",
    "\n",
    "  if last_percent_reported != percent:\n",
    "    if percent % 5 == 0:\n",
    "      sys.stdout.write(\"%s%%\" % percent)\n",
    "      sys.stdout.flush()\n",
    "    else:\n",
    "      sys.stdout.write(\".\")\n",
    "      sys.stdout.flush()\n",
    "      \n",
    "    last_percent_reported = percent\n",
    "        \n",
    "def maybe_download(filename, expected_bytes, force=False):\n",
    "  \"\"\"Download a file if not present, and make sure it's the right size.\"\"\"\n",
    "  if force or not os.path.exists(filename):\n",
    "    print('Attempting to download:', filename) \n",
    "    filename, _ = urlretrieve(url + filename, filename, reporthook=download_progress_hook)\n",
    "    print('\\nDownload Complete!')\n",
    "  statinfo = os.stat(filename)\n",
    "  if statinfo.st_size == expected_bytes:\n",
    "    print('Found and verified', filename)\n",
    "  else:\n",
    "    raise Exception(\n",
    "      'Failed to verify ' + filename + '. Can you get to it with a browser?')\n",
    "  return filename\n",
    "\n",
    "train_filename = maybe_download('notMNIST_large.tar.gz', 247336696)\n",
    "test_filename = maybe_download('notMNIST_small.tar.gz', 8458043)"
   ]
  },
  {
   "cell_type": "code",
   "execution_count": 3,
   "metadata": {
    "collapsed": false
   },
   "outputs": [
    {
     "name": "stdout",
     "output_type": "stream",
     "text": [
      "notMNIST_large already present - Skipping extraction of notMNIST_large.tar.gz.\n",
      "['notMNIST_large/A', 'notMNIST_large/B', 'notMNIST_large/C', 'notMNIST_large/D', 'notMNIST_large/E', 'notMNIST_large/F', 'notMNIST_large/G', 'notMNIST_large/H', 'notMNIST_large/I', 'notMNIST_large/J']\n",
      "notMNIST_small already present - Skipping extraction of notMNIST_small.tar.gz.\n",
      "['notMNIST_small/A', 'notMNIST_small/B', 'notMNIST_small/C', 'notMNIST_small/D', 'notMNIST_small/E', 'notMNIST_small/F', 'notMNIST_small/G', 'notMNIST_small/H', 'notMNIST_small/I', 'notMNIST_small/J']\n"
     ]
    }
   ],
   "source": [
    "num_classes = 10\n",
    "np.random.seed(133)\n",
    "\n",
    "def maybe_extract(filename, force=False):\n",
    "  root = os.path.splitext(os.path.splitext(filename)[0])[0]  # remove .tar.gz\n",
    "  if os.path.isdir(root) and not force:\n",
    "    # You may override by setting force=True.\n",
    "    print('%s already present - Skipping extraction of %s.' % (root, filename))\n",
    "  else:\n",
    "    print('Extracting data for %s. This may take a while. Please wait.' % root)\n",
    "    tar = tarfile.open(filename)\n",
    "    sys.stdout.flush()\n",
    "    tar.extractall()\n",
    "    tar.close()\n",
    "  data_folders = [\n",
    "    os.path.join(root, d) for d in sorted(os.listdir(root))\n",
    "    if os.path.isdir(os.path.join(root, d))]\n",
    "  if len(data_folders) != num_classes:\n",
    "    raise Exception(\n",
    "      'Expected %d folders, one per class. Found %d instead.' % (\n",
    "        num_classes, len(data_folders)))\n",
    "  print(data_folders)\n",
    "  return data_folders\n",
    "  \n",
    "train_folders = maybe_extract(train_filename)\n",
    "test_folders = maybe_extract(test_filename)"
   ]
  },
  {
   "cell_type": "code",
   "execution_count": 4,
   "metadata": {
    "collapsed": false
   },
   "outputs": [
    {
     "name": "stdout",
     "output_type": "stream",
     "text": [
      "notMNIST_large/A.pickle already present - Skipping pickling.\n",
      "notMNIST_large/B.pickle already present - Skipping pickling.\n",
      "notMNIST_large/C.pickle already present - Skipping pickling.\n",
      "notMNIST_large/D.pickle already present - Skipping pickling.\n",
      "notMNIST_large/E.pickle already present - Skipping pickling.\n",
      "notMNIST_large/F.pickle already present - Skipping pickling.\n",
      "notMNIST_large/G.pickle already present - Skipping pickling.\n",
      "notMNIST_large/H.pickle already present - Skipping pickling.\n",
      "notMNIST_large/I.pickle already present - Skipping pickling.\n",
      "notMNIST_large/J.pickle already present - Skipping pickling.\n",
      "notMNIST_small/A.pickle already present - Skipping pickling.\n",
      "notMNIST_small/B.pickle already present - Skipping pickling.\n",
      "notMNIST_small/C.pickle already present - Skipping pickling.\n",
      "notMNIST_small/D.pickle already present - Skipping pickling.\n",
      "notMNIST_small/E.pickle already present - Skipping pickling.\n",
      "notMNIST_small/F.pickle already present - Skipping pickling.\n",
      "notMNIST_small/G.pickle already present - Skipping pickling.\n",
      "notMNIST_small/H.pickle already present - Skipping pickling.\n",
      "notMNIST_small/I.pickle already present - Skipping pickling.\n",
      "notMNIST_small/J.pickle already present - Skipping pickling.\n"
     ]
    }
   ],
   "source": [
    "image_size = 28  # Pixel width and height.\n",
    "pixel_depth = 255.0  # Number of levels per pixel.\n",
    "\n",
    "def load_letter(folder, min_num_images):\n",
    "  \"\"\"Load the data for a single letter label.\"\"\"\n",
    "  image_files = os.listdir(folder)\n",
    "  dataset = np.ndarray(shape=(len(image_files), image_size, image_size),\n",
    "                         dtype=np.float32)\n",
    "  print(folder)\n",
    "  num_images = 0\n",
    "  for image in image_files:\n",
    "    image_file = os.path.join(folder, image)\n",
    "    try:\n",
    "      image_data = (ndimage.imread(image_file).astype(float) - \n",
    "                    pixel_depth / 2) / pixel_depth\n",
    "      if image_data.shape != (image_size, image_size):\n",
    "        raise Exception('Unexpected image shape: %s' % str(image_data.shape))\n",
    "      dataset[num_images, :, :] = image_data\n",
    "      num_images = num_images + 1\n",
    "    except IOError as e:\n",
    "      print('Could not read:', image_file, ':', e, '- it\\'s ok, skipping.')\n",
    "    \n",
    "  dataset = dataset[0:num_images, :, :]\n",
    "  if num_images < min_num_images:\n",
    "    raise Exception('Many fewer images than expected: %d < %d' %\n",
    "                    (num_images, min_num_images))\n",
    "    \n",
    "  print('Full dataset tensor:', dataset.shape)\n",
    "  print('Mean:', np.mean(dataset))\n",
    "  print('Standard deviation:', np.std(dataset))\n",
    "  return dataset\n",
    "        \n",
    "def maybe_pickle(data_folders, min_num_images_per_class, force=False):\n",
    "  dataset_names = []\n",
    "  for folder in data_folders:\n",
    "    set_filename = folder + '.pickle'\n",
    "    dataset_names.append(set_filename)\n",
    "    if os.path.exists(set_filename) and not force:\n",
    "      # You may override by setting force=True.\n",
    "      print('%s already present - Skipping pickling.' % set_filename)\n",
    "    else:\n",
    "      print('Pickling %s.' % set_filename)\n",
    "      dataset = load_letter(folder, min_num_images_per_class)\n",
    "      try:\n",
    "        with open(set_filename, 'wb') as f:\n",
    "          pickle.dump(dataset, f, pickle.HIGHEST_PROTOCOL)\n",
    "      except Exception as e:\n",
    "        print('Unable to save data to', set_filename, ':', e)\n",
    "  \n",
    "  return dataset_names\n",
    "\n",
    "train_datasets = maybe_pickle(train_folders, 45000)\n",
    "test_datasets = maybe_pickle(test_folders, 1800)"
   ]
  },
  {
   "cell_type": "code",
   "execution_count": 5,
   "metadata": {
    "collapsed": false
   },
   "outputs": [
    {
     "name": "stdout",
     "output_type": "stream",
     "text": [
      "Training: (200000, 28, 28) (200000,)\n",
      "Validation: (10000, 28, 28) (10000,)\n",
      "Testing: (10000, 28, 28) (10000,)\n"
     ]
    }
   ],
   "source": [
    "def make_arrays(nb_rows, img_size):\n",
    "  if nb_rows:\n",
    "    dataset = np.ndarray((nb_rows, img_size, img_size), dtype=np.float32)\n",
    "    labels = np.ndarray(nb_rows, dtype=np.int32)\n",
    "  else:\n",
    "    dataset, labels = None, None\n",
    "  return dataset, labels\n",
    "\n",
    "def merge_datasets(pickle_files, train_size, valid_size=0):\n",
    "  num_classes = len(pickle_files)\n",
    "  valid_dataset, valid_labels = make_arrays(valid_size, image_size)\n",
    "  train_dataset, train_labels = make_arrays(train_size, image_size)\n",
    "  vsize_per_class = valid_size // num_classes\n",
    "  tsize_per_class = train_size // num_classes\n",
    "    \n",
    "  start_v, start_t = 0, 0\n",
    "  end_v, end_t = vsize_per_class, tsize_per_class\n",
    "  end_l = vsize_per_class+tsize_per_class\n",
    "  for label, pickle_file in enumerate(pickle_files):       \n",
    "    try:\n",
    "      with open(pickle_file, 'rb') as f:\n",
    "        letter_set = pickle.load(f)\n",
    "        # let's shuffle the letters to have random validation and training set\n",
    "        np.random.shuffle(letter_set)\n",
    "        if valid_dataset is not None:\n",
    "          valid_letter = letter_set[:vsize_per_class, :, :]\n",
    "          valid_dataset[start_v:end_v, :, :] = valid_letter\n",
    "          valid_labels[start_v:end_v] = label\n",
    "          start_v += vsize_per_class\n",
    "          end_v += vsize_per_class\n",
    "                    \n",
    "        train_letter = letter_set[vsize_per_class:end_l, :, :]\n",
    "        train_dataset[start_t:end_t, :, :] = train_letter\n",
    "        train_labels[start_t:end_t] = label\n",
    "        start_t += tsize_per_class\n",
    "        end_t += tsize_per_class\n",
    "    except Exception as e:\n",
    "      print('Unable to process data from', pickle_file, ':', e)\n",
    "      raise\n",
    "    \n",
    "  return valid_dataset, valid_labels, train_dataset, train_labels\n",
    "            \n",
    "            \n",
    "train_size = 200000\n",
    "valid_size = 10000\n",
    "test_size = 10000\n",
    "\n",
    "valid_dataset, valid_labels, train_dataset, train_labels = merge_datasets(\n",
    "  train_datasets, train_size, valid_size)\n",
    "_, _, test_dataset, test_labels = merge_datasets(test_datasets, test_size)\n",
    "\n",
    "print('Training:', train_dataset.shape, train_labels.shape)\n",
    "print('Validation:', valid_dataset.shape, valid_labels.shape)\n",
    "print('Testing:', test_dataset.shape, test_labels.shape)"
   ]
  },
  {
   "cell_type": "code",
   "execution_count": 6,
   "metadata": {
    "collapsed": true
   },
   "outputs": [],
   "source": [
    "def randomize(dataset, labels):\n",
    "  permutation = np.random.permutation(labels.shape[0])\n",
    "  shuffled_dataset = dataset[permutation,:,:]\n",
    "  shuffled_labels = labels[permutation]\n",
    "  return shuffled_dataset, shuffled_labels\n",
    "train_dataset, train_labels = randomize(train_dataset, train_labels)\n",
    "test_dataset, test_labels = randomize(test_dataset, test_labels)\n",
    "valid_dataset, valid_labels = randomize(valid_dataset, valid_labels)"
   ]
  },
  {
   "cell_type": "code",
   "execution_count": 7,
   "metadata": {
    "collapsed": false
   },
   "outputs": [],
   "source": [
    "pickle_file = 'notMNIST.pickle'\n",
    "\n",
    "try:\n",
    "  f = open(pickle_file, 'wb')\n",
    "  save = {\n",
    "    'train_dataset': train_dataset,\n",
    "    'train_labels': train_labels,\n",
    "    'valid_dataset': valid_dataset,\n",
    "    'valid_labels': valid_labels,\n",
    "    'test_dataset': test_dataset,\n",
    "    'test_labels': test_labels,\n",
    "    }\n",
    "  pickle.dump(save, f, pickle.HIGHEST_PROTOCOL)\n",
    "  f.close()\n",
    "except Exception as e:\n",
    "  print('Unable to save data to', pickle_file, ':', e)\n",
    "  raise"
   ]
  },
  {
   "cell_type": "code",
   "execution_count": 8,
   "metadata": {
    "collapsed": false
   },
   "outputs": [
    {
     "name": "stdout",
     "output_type": "stream",
     "text": [
      "Compressed pickle size: 690800512\n"
     ]
    }
   ],
   "source": [
    "statinfo = os.stat(pickle_file)\n",
    "print('Compressed pickle size:', statinfo.st_size)"
   ]
  },
  {
   "cell_type": "markdown",
   "metadata": {
    "collapsed": true
   },
   "source": []
  },
  {
   "cell_type": "code",
   "execution_count": 9,
   "metadata": {
    "collapsed": false,
    "scrolled": true
   },
   "outputs": [
    {
     "name": "stdout",
     "output_type": "stream",
     "text": [
      "(200000, 784)\n",
      "(200000,)\n",
      "(187497, 28, 28)\n",
      "(187497,)\n",
      "Training dataset has 187497 unique images.\n",
      "Validation dataset has 9847 unique images.\n",
      "Test dataset has 9807 unique images.\n",
      "\n",
      "Validation dataset has 975 duplicate images to training dataset.\n",
      "Test dataset has 1082 duplicate images to training dataset.\n",
      "\n",
      "Sanitized train dataset has 187497 images.\n",
      "Sanitized validation dataset has 8872 images.\n",
      "Sanitized test dataset has 8725 images.\n"
     ]
    }
   ],
   "source": [
    "train_r = train_dataset.reshape(train_dataset.shape[0],-1)\n",
    "print(np.shape(train_r))\n",
    "train_idx = np.lexsort(train_r.T)\n",
    "print(np.shape(train_idx))\n",
    "train_dataset_sanitized = train_dataset[train_idx][np.append(True,(np.diff(train_r[train_idx],axis=0)!=0).any(1))]\n",
    "print(np.shape(train_dataset_sanitized))\n",
    "train_labels_sanitized = train_labels[train_idx][np.append(True,(np.diff(train_r[train_idx],axis=0)!=0).any(1))]\n",
    "print(np.shape(train_labels_sanitized))\n",
    "\n",
    "valid_r = valid_dataset.reshape(valid_dataset.shape[0],-1)\n",
    "valid_idx = np.lexsort(valid_r.T)\n",
    "valid_dataset_sanitized = valid_dataset[valid_idx][np.append(True,(np.diff(valid_r[valid_idx],axis=0)!=0).any(1))]\n",
    "valid_labels_sanitized = valid_labels[valid_idx][np.append(True,(np.diff(valid_r[valid_idx],axis=0)!=0).any(1))]\n",
    "\n",
    "test_r = test_dataset.reshape(test_dataset.shape[0],-1)\n",
    "test_idx = np.lexsort(test_r.T)\n",
    "test_dataset_sanitized = test_dataset[test_idx][np.append(True,(np.diff(test_r[test_idx],axis=0)!=0).any(1))]\n",
    "test_labels_sanitized = test_labels[test_idx][np.append(True,(np.diff(test_r[test_idx],axis=0)!=0).any(1))]\n",
    "\n",
    "del train_r, valid_r, test_r\n",
    "\n",
    "print('Training dataset has', train_dataset_sanitized.shape[0],'unique images.')\n",
    "print('Validation dataset has', valid_dataset_sanitized.shape[0],'unique images.')\n",
    "print('Test dataset has', test_dataset_sanitized.shape[0],'unique images.\\n')\n",
    "\n",
    "train_r = train_dataset_sanitized.reshape(train_dataset_sanitized.shape[0],-1)\n",
    "valid_r = valid_dataset_sanitized.reshape(valid_dataset_sanitized.shape[0],-1)\n",
    "test_r = test_dataset_sanitized.reshape(test_dataset_sanitized.shape[0],-1)\n",
    "\n",
    "valid_dup = []\n",
    "test_dup = []\n",
    "\n",
    "train_r = {tuple(row):i for i,row in enumerate(train_r)}\n",
    "\n",
    "for i,row in enumerate(valid_r):\n",
    "    if tuple(row) in train_r:\n",
    "        valid_dup.append(i)\n",
    "\n",
    "for i,row in enumerate(test_r):\n",
    "    if tuple(row) in train_r:\n",
    "        test_dup.append(i)\n",
    "\n",
    "print('Validation dataset has', len(valid_dup), 'duplicate images to training dataset.')\n",
    "print('Test dataset has', len(test_dup), 'duplicate images to training dataset.\\n')\n",
    "\n",
    "valid_dataset_sanitized = np.delete(valid_dataset_sanitized, np.asarray(valid_dup), 0)\n",
    "valid_labels_sanitized = np.delete(valid_labels_sanitized, np.asarray(valid_dup), 0)\n",
    "test_dataset_sanitized = np.delete(test_dataset_sanitized, np.asarray(test_dup), 0)\n",
    "test_labels_sanitized = np.delete(test_labels_sanitized, np.asarray(test_dup), 0)\n",
    "\n",
    "print('Sanitized train dataset has', train_dataset_sanitized.shape[0],'images.')\n",
    "print('Sanitized validation dataset has', valid_dataset_sanitized.shape[0],'images.')\n",
    "print('Sanitized test dataset has', test_dataset_sanitized.shape[0],'images.')\n"
   ]
  },
  {
   "cell_type": "code",
   "execution_count": 10,
   "metadata": {
    "collapsed": false
   },
   "outputs": [
    {
     "name": "stdout",
     "output_type": "stream",
     "text": [
      "Sanitized data saved to notMNIST_sanitized.pickle\n"
     ]
    }
   ],
   "source": [
    "pickle_file = 'notMNIST_sanitized.pickle'\n",
    "\n",
    "try:\n",
    "  f = open(pickle_file, 'wb')\n",
    "  save = {\n",
    "    'train_dataset': train_dataset_sanitized,\n",
    "    'train_labels': train_labels_sanitized,\n",
    "    'valid_dataset': valid_dataset_sanitized,\n",
    "    'valid_labels': valid_labels_sanitized,\n",
    "    'test_dataset': test_dataset_sanitized,\n",
    "    'test_labels': test_labels_sanitized,\n",
    "    }\n",
    "  pickle.dump(save, f, pickle.HIGHEST_PROTOCOL)\n",
    "  f.close()\n",
    "  print('Sanitized data saved to', pickle_file);\n",
    "except Exception as e:\n",
    "  print('Unable to save data to', pickle_file, ':', e)\n",
    "  raise"
   ]
  },
  {
   "cell_type": "code",
   "execution_count": 11,
   "metadata": {
    "collapsed": false,
    "scrolled": true
   },
   "outputs": [
    {
     "name": "stdout",
     "output_type": "stream",
     "text": [
      "-------\n",
      "(200000, 28, 28)\n",
      "(200000,)\n",
      "(10000, 28, 28)\n",
      "(10000,)\n",
      "(10000, 28, 28)\n",
      "(10000,)\n",
      "-------_sanitized\n",
      "(187497, 28, 28)\n",
      "(187497,)\n",
      "(8725, 28, 28)\n",
      "(8725,)\n",
      "(8872, 28, 28)\n",
      "(8872,)\n",
      "-------\n"
     ]
    }
   ],
   "source": [
    "from sklearn.metrics import classification_report, confusion_matrix\n",
    "\n",
    "def train_predict(clf, n_data, train_data, train_label, test_data, test_label):\n",
    "    clf.fit(train_data[:n_data,:,:].reshape(n_data,-1), train_label[:n_data])\n",
    "    # Predict\n",
    "    expected = test_label\n",
    "    predicted = clf.predict(test_data.reshape(test_data.shape[0],-1))\n",
    "    \n",
    "    # Print Results\n",
    "    print('Classification Report of',n_data,'training samples:\\n', classification_report(expected, predicted))\n",
    "    #print('Confusion Matrix of',n_data,'training samples:\\n', confusion_matrix(expected, predicted))\n",
    "\n",
    "# Create a Logistic Regression Classifier\n",
    "clf = LogisticRegression(penalty='l2', tol=0.0001, C=1.0, random_state=133, solver='sag', max_iter=100, multi_class='ovr', verbose=0, n_jobs=4)\n",
    "\n",
    "print('-------')\n",
    "print(np.shape(train_dataset))\n",
    "print(np.shape(train_labels))\n",
    "print(np.shape(test_dataset))\n",
    "print(np.shape(test_labels))\n",
    "print(np.shape(valid_dataset))\n",
    "print(np.shape(valid_labels))\n",
    "print('-------_sanitized')\n",
    "print(np.shape(train_dataset_sanitized))\n",
    "print(np.shape(train_labels_sanitized))\n",
    "print(np.shape(test_dataset_sanitized))\n",
    "print(np.shape(test_labels_sanitized))\n",
    "print(np.shape(valid_dataset_sanitized))\n",
    "print(np.shape(valid_labels_sanitized))\n",
    "print('-------')"
   ]
  },
  {
   "cell_type": "code",
   "execution_count": 12,
   "metadata": {
    "collapsed": false
   },
   "outputs": [
    {
     "name": "stderr",
     "output_type": "stream",
     "text": [
      "/opt/conda/lib/python3.5/site-packages/sklearn/linear_model/sag.py:286: ConvergenceWarning: The max_iter was reached which means the coef_ did not converge\n",
      "  \"the coef_ did not converge\", ConvergenceWarning)\n"
     ]
    },
    {
     "name": "stdout",
     "output_type": "stream",
     "text": [
      "Classification Report of 50 training samples:\n",
      "              precision    recall  f1-score   support\n",
      "\n",
      "          0       0.94      0.59      0.72      1000\n",
      "          1       0.52      0.48      0.50      1000\n",
      "          2       0.62      0.41      0.49      1000\n",
      "          3       0.95      0.71      0.81      1000\n",
      "          4       0.57      0.54      0.55      1000\n",
      "          5       0.85      0.76      0.80      1000\n",
      "          6       0.50      0.80      0.62      1000\n",
      "          7       0.66      0.79      0.72      1000\n",
      "          8       0.56      0.67      0.61      1000\n",
      "          9       0.71      0.85      0.78      1000\n",
      "\n",
      "avg / total       0.69      0.66      0.66     10000\n",
      "\n",
      "Classification Report of 100 training samples:\n",
      "              precision    recall  f1-score   support\n",
      "\n",
      "          0       0.92      0.73      0.82      1000\n",
      "          1       0.80      0.74      0.77      1000\n",
      "          2       0.59      0.70      0.64      1000\n",
      "          3       0.93      0.77      0.84      1000\n",
      "          4       0.70      0.66      0.67      1000\n",
      "          5       0.60      0.84      0.70      1000\n",
      "          6       0.67      0.64      0.66      1000\n",
      "          7       0.88      0.80      0.83      1000\n",
      "          8       0.73      0.59      0.65      1000\n",
      "          9       0.69      0.86      0.77      1000\n",
      "\n",
      "avg / total       0.75      0.73      0.74     10000\n",
      "\n",
      "Classification Report of 100 training samples:\n",
      "              precision    recall  f1-score   support\n",
      "\n",
      "          0       0.33      0.70      0.45       900\n",
      "          1       0.27      0.02      0.04       890\n",
      "          2       0.31      0.34      0.32       873\n",
      "          3       0.41      0.11      0.17       881\n",
      "          4       0.42      0.10      0.17       891\n",
      "          5       0.28      0.51      0.36       885\n",
      "          6       0.37      0.39      0.38       892\n",
      "          7       0.36      0.55      0.44       867\n",
      "          8       0.59      0.59      0.59       760\n",
      "          9       0.69      0.54      0.61       886\n",
      "\n",
      "avg / total       0.40      0.38      0.35      8725\n",
      "\n",
      "Classification Report of 1000 training samples:\n",
      "              precision    recall  f1-score   support\n",
      "\n",
      "          0       0.88      0.82      0.85      1000\n",
      "          1       0.82      0.81      0.82      1000\n",
      "          2       0.82      0.88      0.85      1000\n",
      "          3       0.86      0.89      0.88      1000\n",
      "          4       0.81      0.77      0.79      1000\n",
      "          5       0.80      0.90      0.85      1000\n",
      "          6       0.86      0.77      0.81      1000\n",
      "          7       0.88      0.82      0.85      1000\n",
      "          8       0.79      0.82      0.81      1000\n",
      "          9       0.83      0.85      0.84      1000\n",
      "\n",
      "avg / total       0.84      0.83      0.83     10000\n",
      "\n",
      "RAW\n",
      "Classification Report of 5000 training samples:\n",
      "              precision    recall  f1-score   support\n",
      "\n",
      "          0       0.89      0.87      0.88      1000\n",
      "          1       0.87      0.83      0.85      1000\n",
      "          2       0.84      0.88      0.86      1000\n",
      "          3       0.85      0.89      0.87      1000\n",
      "          4       0.85      0.79      0.82      1000\n",
      "          5       0.89      0.89      0.89      1000\n",
      "          6       0.87      0.81      0.84      1000\n",
      "          7       0.88      0.85      0.87      1000\n",
      "          8       0.78      0.84      0.81      1000\n",
      "          9       0.83      0.90      0.86      1000\n",
      "\n",
      "avg / total       0.86      0.85      0.85     10000\n",
      "\n",
      "SANITIZED\n",
      "Classification Report of 5000 training samples:\n",
      "              precision    recall  f1-score   support\n",
      "\n",
      "          0       0.43      0.74      0.55       900\n",
      "          1       0.38      0.09      0.14       890\n",
      "          2       0.53      0.32      0.40       873\n",
      "          3       0.57      0.29      0.39       881\n",
      "          4       0.19      0.14      0.16       891\n",
      "          5       0.37      0.92      0.53       885\n",
      "          6       0.25      0.01      0.03       892\n",
      "          7       0.33      0.76      0.46       867\n",
      "          8       0.58      0.66      0.61       760\n",
      "          9       0.53      0.13      0.21       886\n",
      "\n",
      "avg / total       0.41      0.40      0.34      8725\n",
      "\n"
     ]
    }
   ],
   "source": [
    "train_predict(clf, 50, train_dataset, train_labels, test_dataset, test_labels)\n",
    "train_predict(clf, 100, train_dataset, train_labels, test_dataset, test_labels)\n",
    "train_predict(clf, 100, train_dataset_sanitized, train_labels_sanitized, test_dataset_sanitized, test_labels_sanitized)\n",
    "train_predict(clf, 1000, train_dataset, train_labels, test_dataset, test_labels)\n",
    "print('RAW')\n",
    "train_predict(clf, 5000, train_dataset, train_labels, test_dataset, test_labels)\n",
    "print('SANITIZED')\n",
    "train_predict(clf, 5000, train_dataset_sanitized, train_labels_sanitized, test_dataset_sanitized, test_labels_sanitized)"
   ]
  },
  {
   "cell_type": "code",
   "execution_count": 13,
   "metadata": {
    "collapsed": false,
    "scrolled": true
   },
   "outputs": [
    {
     "name": "stdout",
     "output_type": "stream",
     "text": [
      "Starting to train on entire sanitized dataset. samples=187497\n",
      "Classification Report of 187497 training samples:\n",
      "              precision    recall  f1-score   support\n",
      "\n",
      "          0       0.90      0.87      0.89       900\n",
      "          1       0.91      0.88      0.90       890\n",
      "          2       0.87      0.92      0.89       873\n",
      "          3       0.90      0.92      0.91       881\n",
      "          4       0.89      0.83      0.86       891\n",
      "          5       0.88      0.92      0.90       885\n",
      "          6       0.89      0.86      0.87       892\n",
      "          7       0.89      0.89      0.89       867\n",
      "          8       0.80      0.81      0.81       760\n",
      "          9       0.86      0.90      0.88       886\n",
      "\n",
      "avg / total       0.88      0.88      0.88      8725\n",
      "\n"
     ]
    }
   ],
   "source": [
    "# Train and predict sanitized datasets\n",
    "print('Starting to train on entire sanitized dataset. samples=%d' % train_dataset_sanitized.shape[0])\n",
    "train_predict(clf, train_dataset_sanitized.shape[0], train_dataset_sanitized, train_labels_sanitized, test_dataset_sanitized, test_labels_sanitized)"
   ]
  }
 ],
 "metadata": {
  "anaconda-cloud": {},
  "kernelspec": {
   "display_name": "Python [default]",
   "language": "python",
   "name": "python3"
  },
  "language_info": {
   "codemirror_mode": {
    "name": "ipython",
    "version": 3
   },
   "file_extension": ".py",
   "mimetype": "text/x-python",
   "name": "python",
   "nbconvert_exporter": "python",
   "pygments_lexer": "ipython3",
   "version": "3.5.2"
  }
 },
 "nbformat": 4,
 "nbformat_minor": 1
}
