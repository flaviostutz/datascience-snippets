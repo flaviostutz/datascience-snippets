{
 "cells": [
  {
   "cell_type": "code",
   "execution_count": 33,
   "metadata": {
    "collapsed": false
   },
   "outputs": [
    {
     "name": "stdout",
     "output_type": "stream",
     "text": [
      "Extracting sample_images files...\n",
      "done.\n"
     ]
    }
   ],
   "source": [
    "#Extract files from sample_images.tar\n",
    "import os\n",
    "import tarfile\n",
    "\n",
    "tmp_path = '../../tmp/'\n",
    "\n",
    "print('Extracting sample_images files...')\n",
    "tar = tarfile.open(\"../../input/sample_images.tar\")\n",
    "tar.extractall(path=tmp_path)\n",
    "tar.close()\n",
    "print('done.')"
   ]
  },
  {
   "cell_type": "code",
   "execution_count": 64,
   "metadata": {
    "collapsed": false
   },
   "outputs": [
    {
     "name": "stdout",
     "output_type": "stream",
     "text": [
      "Reading stage1_labels...\n",
      "Creating sample_labels csv...\n",
      "[['id' 'cancer']\n",
      " ['0de72529c30fe642bc60dcb75c87f6bd' '0']\n",
      " ['0ddeb08e9c97227853422bd71a2a695e' '0']\n",
      " ['0d19f1c627df49eb223771c28548350e' '0']\n",
      " ['0c0de3749d4fe175b7a5098b060982a1' '1']\n",
      " ['0ca943d821204ceb089510f836a367fd' '0']\n",
      " ['0d06d764d3c07572074d468b4cff954f' '1']\n",
      " ['0d941a3ad6c889ac451caf89c46cb92a' '0']\n",
      " ['0c59313f52304e25d5a7dcf9877633b1' '0']\n",
      " ['0c37613214faddf8701ca41e6d43f56e' '1']\n",
      " ['0a0c32c9e08cc2ea76a71649de56be6d' '0']\n",
      " ['0a38e7597ca26f9374f8ea2770ba870d' '0']\n",
      " ['0bd0e3056cbf23a1cb7f0f0b18446068' '0']\n",
      " ['0c60f4b87afcb3e2dfa65abbbf3ef2f9' '1']\n",
      " ['00cba091fa4ad62cc3200a657aeb957e' '0']\n",
      " ['0a099f2549429d29b32f349e95fb2244' '0']\n",
      " ['0c9d8314f9c69840e25febabb1229fa4' '0']\n",
      " ['0acbebb8d463b4b9ca88cf38431aac69' '1']\n",
      " ['0d2fcf787026fece4e57be167d079383' '0']\n",
      " ['0c98fcb55e3f36d0c2b6507f62f4c5f1' '0']]\n",
      "done.\n"
     ]
    }
   ],
   "source": [
    "print('Reading stage1_labels...')\n",
    "import csv\n",
    "import numpy as np\n",
    "with open('../../input/stage1_labels.csv', 'r') as f:\n",
    "  reader = csv.reader(f, delimiter=',', quotechar='\\'')\n",
    "  stage1_labels = list(reader)\n",
    "\n",
    "print('Creating sample_labels csv...')\n",
    "sample_labels = ('id', 'cancer')\n",
    "dirs = os.listdir(tmp_path + 'sample_images')\n",
    "for d in dirs:\n",
    "  for s1_label in stage1_labels:\n",
    "    if(s1_label[0] == d):\n",
    "      sample_labels = np.append(sample_labels, s1_label)\n",
    "\n",
    "sample_labels = np.reshape(sample_labels, (-1,2))\n",
    "print(sample_labels)\n",
    "print('done.')"
   ]
  },
  {
   "cell_type": "code",
   "execution_count": 70,
   "metadata": {
    "collapsed": false
   },
   "outputs": [
    {
     "name": "stdout",
     "output_type": "stream",
     "text": [
      "Writing sample_labels.csv\n",
      "done.\n"
     ]
    }
   ],
   "source": [
    "print('Writing sample_labels.csv')\n",
    "import csv\n",
    "myfile = open('sample_labels.csv', 'w')\n",
    "wr = csv.writer(myfile, quoting=csv.QUOTE_ALL)\n",
    "wr.writerows(sample_labels)\n",
    "print('done.')"
   ]
  },
  {
   "cell_type": "code",
   "execution_count": null,
   "metadata": {
    "collapsed": true
   },
   "outputs": [],
   "source": []
  }
 ],
 "metadata": {
  "anaconda-cloud": {},
  "kernelspec": {
   "display_name": "Python [default]",
   "language": "python",
   "name": "python3"
  },
  "language_info": {
   "codemirror_mode": {
    "name": "ipython",
    "version": 3
   },
   "file_extension": ".py",
   "mimetype": "text/x-python",
   "name": "python",
   "nbconvert_exporter": "python",
   "pygments_lexer": "ipython3",
   "version": "3.5.2"
  }
 },
 "nbformat": 4,
 "nbformat_minor": 1
}
